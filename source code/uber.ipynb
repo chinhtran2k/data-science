{
 "cells": [
  {
   "cell_type": "code",
   "execution_count": 4,
   "id": "887121df",
   "metadata": {},
   "outputs": [],
   "source": [
    "import pandas as pd\n",
    "import numpy as np\n",
    "import matplotlib.pyplot as plt\n",
    "import seaborn as sns\n",
    "import warnings\n",
    "warnings.filterwarnings('ignore')"
   ]
  },
  {
   "cell_type": "code",
   "execution_count": 27,
   "id": "acda9651",
   "metadata": {},
   "outputs": [],
   "source": [
    "col_names=['datetime','lat','lon','base']\n",
    "df_uber = pd.read_csv(\"uber.csv\",\n",
    "                     header=None,\n",
    "                     names = col_names)"
   ]
  },
  {
   "cell_type": "code",
   "execution_count": 28,
   "id": "d67520aa",
   "metadata": {},
   "outputs": [
    {
     "data": {
      "text/html": [
       "<div>\n",
       "<style scoped>\n",
       "    .dataframe tbody tr th:only-of-type {\n",
       "        vertical-align: middle;\n",
       "    }\n",
       "\n",
       "    .dataframe tbody tr th {\n",
       "        vertical-align: top;\n",
       "    }\n",
       "\n",
       "    .dataframe thead th {\n",
       "        text-align: right;\n",
       "    }\n",
       "</style>\n",
       "<table border=\"1\" class=\"dataframe\">\n",
       "  <thead>\n",
       "    <tr style=\"text-align: right;\">\n",
       "      <th></th>\n",
       "      <th>datetime</th>\n",
       "      <th>lat</th>\n",
       "      <th>lon</th>\n",
       "      <th>base</th>\n",
       "    </tr>\n",
       "  </thead>\n",
       "  <tbody>\n",
       "    <tr>\n",
       "      <th>0</th>\n",
       "      <td>2014-08-01 00:00:00</td>\n",
       "      <td>40.7290</td>\n",
       "      <td>-73.9422</td>\n",
       "      <td>B02598</td>\n",
       "    </tr>\n",
       "    <tr>\n",
       "      <th>1</th>\n",
       "      <td>2014-08-01 00:00:00</td>\n",
       "      <td>40.7476</td>\n",
       "      <td>-73.9871</td>\n",
       "      <td>B02598</td>\n",
       "    </tr>\n",
       "    <tr>\n",
       "      <th>2</th>\n",
       "      <td>2014-08-01 00:00:00</td>\n",
       "      <td>40.7424</td>\n",
       "      <td>-74.0044</td>\n",
       "      <td>B02598</td>\n",
       "    </tr>\n",
       "    <tr>\n",
       "      <th>3</th>\n",
       "      <td>2014-08-01 00:00:00</td>\n",
       "      <td>40.7510</td>\n",
       "      <td>-73.9869</td>\n",
       "      <td>B02598</td>\n",
       "    </tr>\n",
       "    <tr>\n",
       "      <th>4</th>\n",
       "      <td>2014-08-01 00:00:00</td>\n",
       "      <td>40.7406</td>\n",
       "      <td>-73.9902</td>\n",
       "      <td>B02598</td>\n",
       "    </tr>\n",
       "  </tbody>\n",
       "</table>\n",
       "</div>"
      ],
      "text/plain": [
       "              datetime      lat      lon    base\n",
       "0  2014-08-01 00:00:00  40.7290 -73.9422  B02598\n",
       "1  2014-08-01 00:00:00  40.7476 -73.9871  B02598\n",
       "2  2014-08-01 00:00:00  40.7424 -74.0044  B02598\n",
       "3  2014-08-01 00:00:00  40.7510 -73.9869  B02598\n",
       "4  2014-08-01 00:00:00  40.7406 -73.9902  B02598"
      ]
     },
     "execution_count": 28,
     "metadata": {},
     "output_type": "execute_result"
    }
   ],
   "source": [
    "df_uber.head()"
   ]
  },
  {
   "cell_type": "code",
   "execution_count": 8,
   "id": "9a8a46f2",
   "metadata": {},
   "outputs": [
    {
     "name": "stdout",
     "output_type": "stream",
     "text": [
      "<class 'pandas.core.frame.DataFrame'>\n",
      "RangeIndex: 829275 entries, 0 to 829274\n",
      "Data columns (total 4 columns):\n",
      " #   Column    Non-Null Count   Dtype  \n",
      "---  ------    --------------   -----  \n",
      " 0   datatime  829275 non-null  object \n",
      " 1   lat       829275 non-null  float64\n",
      " 2   lon       829275 non-null  float64\n",
      " 3   base      829275 non-null  object \n",
      "dtypes: float64(2), object(2)\n",
      "memory usage: 25.3+ MB\n"
     ]
    }
   ],
   "source": [
    "df_uber.info()"
   ]
  },
  {
   "cell_type": "code",
   "execution_count": 9,
   "id": "ea830fb5",
   "metadata": {},
   "outputs": [
    {
     "data": {
      "text/html": [
       "<div>\n",
       "<style scoped>\n",
       "    .dataframe tbody tr th:only-of-type {\n",
       "        vertical-align: middle;\n",
       "    }\n",
       "\n",
       "    .dataframe tbody tr th {\n",
       "        vertical-align: top;\n",
       "    }\n",
       "\n",
       "    .dataframe thead th {\n",
       "        text-align: right;\n",
       "    }\n",
       "</style>\n",
       "<table border=\"1\" class=\"dataframe\">\n",
       "  <thead>\n",
       "    <tr style=\"text-align: right;\">\n",
       "      <th></th>\n",
       "      <th>lat</th>\n",
       "      <th>lon</th>\n",
       "    </tr>\n",
       "  </thead>\n",
       "  <tbody>\n",
       "    <tr>\n",
       "      <th>count</th>\n",
       "      <td>829275.000000</td>\n",
       "      <td>829275.000000</td>\n",
       "    </tr>\n",
       "    <tr>\n",
       "      <th>mean</th>\n",
       "      <td>40.737781</td>\n",
       "      <td>-73.970160</td>\n",
       "    </tr>\n",
       "    <tr>\n",
       "      <th>std</th>\n",
       "      <td>0.043628</td>\n",
       "      <td>0.061483</td>\n",
       "    </tr>\n",
       "    <tr>\n",
       "      <th>min</th>\n",
       "      <td>39.656900</td>\n",
       "      <td>-74.773700</td>\n",
       "    </tr>\n",
       "    <tr>\n",
       "      <th>25%</th>\n",
       "      <td>40.719000</td>\n",
       "      <td>-73.995800</td>\n",
       "    </tr>\n",
       "    <tr>\n",
       "      <th>50%</th>\n",
       "      <td>40.740700</td>\n",
       "      <td>-73.982600</td>\n",
       "    </tr>\n",
       "    <tr>\n",
       "      <th>75%</th>\n",
       "      <td>40.760500</td>\n",
       "      <td>-73.961200</td>\n",
       "    </tr>\n",
       "    <tr>\n",
       "      <th>max</th>\n",
       "      <td>41.318200</td>\n",
       "      <td>-72.335900</td>\n",
       "    </tr>\n",
       "  </tbody>\n",
       "</table>\n",
       "</div>"
      ],
      "text/plain": [
       "                 lat            lon\n",
       "count  829275.000000  829275.000000\n",
       "mean       40.737781     -73.970160\n",
       "std         0.043628       0.061483\n",
       "min        39.656900     -74.773700\n",
       "25%        40.719000     -73.995800\n",
       "50%        40.740700     -73.982600\n",
       "75%        40.760500     -73.961200\n",
       "max        41.318200     -72.335900"
      ]
     },
     "execution_count": 9,
     "metadata": {},
     "output_type": "execute_result"
    }
   ],
   "source": [
    "df_uber.describe()"
   ]
  },
  {
   "cell_type": "code",
   "execution_count": 10,
   "id": "a081f64e",
   "metadata": {},
   "outputs": [
    {
     "data": {
      "image/png": "[encoded data removed]",
      "text/plain": [
       "<Figure size 720x576 with 1 Axes>"
      ]
     },
     "metadata": {
      "needs_background": "light"
     },
     "output_type": "display_data"
    }
   ],
   "source": [
    "plt.figure(figsize=(10,8))\n",
    "plt.scatter(x=df_uber.lon,y=df_uber.lat)\n",
    "plt.title(\"vi tri don khach\")\n",
    "plt.xlim=[-74.8,-72.2]\n",
    "plt.ylim=[39.7,41.3]\n",
    "plt.gird=True\n",
    "plt.show()"
   ]
  },
  {
   "cell_type": "code",
   "execution_count": 12,
   "id": "3048fc30",
   "metadata": {},
   "outputs": [
    {
     "data": {
      "text/plain": [
       "{'algorithm': 'auto',\n",
       " 'copy_x': True,\n",
       " 'init': 'k-means++',\n",
       " 'max_iter': 300,\n",
       " 'n_clusters': 12,\n",
       " 'n_init': 10,\n",
       " 'n_jobs': 'deprecated',\n",
       " 'precompute_distances': 'deprecated',\n",
       " 'random_state': None,\n",
       " 'tol': 0.0001,\n",
       " 'verbose': 0}"
      ]
     },
     "execution_count": 12,
     "metadata": {},
     "output_type": "execute_result"
    }
   ],
   "source": [
    "from sklearn.cluster import KMeans\n",
    "model_km=KMeans(n_clusters=12)\n",
    "model_km.get_params()"
   ]
  },
  {
   "cell_type": "code",
   "execution_count": 15,
   "id": "1f9b7a21",
   "metadata": {},
   "outputs": [],
   "source": [
    "model_km.fit_predict(df_uber.iloc[:,[1,2]])\n",
    "df_uber['cluster']=model_km.labels_"
   ]
  },
  {
   "cell_type": "code",
   "execution_count": 17,
   "id": "adc457e7",
   "metadata": {},
   "outputs": [
    {
     "name": "stdout",
     "output_type": "stream",
     "text": [
      "[[ 40.75481462 -73.9836492 ]\n",
      " [ 40.65535826 -73.77847467]\n",
      " [ 40.7612083  -73.86367933]\n",
      " [ 40.70260297 -74.20116207]\n",
      " [ 40.66917251 -73.97919621]\n",
      " [ 40.77938579 -73.95750295]\n",
      " [ 40.70956666 -73.94551297]\n",
      " [ 40.76896109 -73.4642774 ]\n",
      " [ 40.85308138 -73.92676369]\n",
      " [ 40.99515436 -73.77704941]\n",
      " [ 40.72567976 -74.00003387]\n",
      " [ 40.20412384 -74.05272747]]\n"
     ]
    }
   ],
   "source": [
    "#danh sach tam cua cac cluster\n",
    "center = model_km.cluster_centers_\n",
    "print(center)"
   ]
  },
  {
   "cell_type": "code",
   "execution_count": 18,
   "id": "748508d4",
   "metadata": {},
   "outputs": [
    {
     "data": {
      "image/png": "[encoded data removed]",
      "text/plain": [
       "<Figure size 720x576 with 1 Axes>"
      ]
     },
     "metadata": {
      "needs_background": "light"
     },
     "output_type": "display_data"
    }
   ],
   "source": [
    "plt.figure(figsize=(10,8))\n",
    "plt.scatter(x=df_uber.lon,y=df_uber.lat)\n",
    "plt.scatter(x=center[:,1],y=center[:,0],c='red',marker='*')\n",
    "plt.title('cac diem don khach va tam cum ban do')\n",
    "plt.xlim=[-75,-73]\n",
    "plt.ylim=[40.42]\n",
    "plt.grid=True\n",
    "plt.show()"
   ]
  },
  {
   "cell_type": "code",
   "execution_count": 19,
   "id": "2faa940c",
   "metadata": {},
   "outputs": [
    {
     "data": {
      "text/html": [
       "<div>\n",
       "<style scoped>\n",
       "    .dataframe tbody tr th:only-of-type {\n",
       "        vertical-align: middle;\n",
       "    }\n",
       "\n",
       "    .dataframe tbody tr th {\n",
       "        vertical-align: top;\n",
       "    }\n",
       "\n",
       "    .dataframe thead th {\n",
       "        text-align: right;\n",
       "    }\n",
       "</style>\n",
       "<table border=\"1\" class=\"dataframe\">\n",
       "  <thead>\n",
       "    <tr style=\"text-align: right;\">\n",
       "      <th></th>\n",
       "      <th>datatime</th>\n",
       "      <th>lat</th>\n",
       "      <th>lon</th>\n",
       "      <th>base</th>\n",
       "      <th>cluster</th>\n",
       "    </tr>\n",
       "  </thead>\n",
       "  <tbody>\n",
       "    <tr>\n",
       "      <th>394</th>\n",
       "      <td>2014-08-01 00:28:00</td>\n",
       "      <td>40.8251</td>\n",
       "      <td>-74.1376</td>\n",
       "      <td>B02598</td>\n",
       "      <td>3</td>\n",
       "    </tr>\n",
       "    <tr>\n",
       "      <th>538</th>\n",
       "      <td>2014-08-01 00:40:00</td>\n",
       "      <td>40.7273</td>\n",
       "      <td>-74.1492</td>\n",
       "      <td>B02617</td>\n",
       "      <td>3</td>\n",
       "    </tr>\n",
       "    <tr>\n",
       "      <th>647</th>\n",
       "      <td>2014-08-01 00:50:00</td>\n",
       "      <td>40.7957</td>\n",
       "      <td>-74.4804</td>\n",
       "      <td>B02682</td>\n",
       "      <td>3</td>\n",
       "    </tr>\n",
       "    <tr>\n",
       "      <th>724</th>\n",
       "      <td>2014-08-01 00:59:00</td>\n",
       "      <td>40.6950</td>\n",
       "      <td>-74.1781</td>\n",
       "      <td>B02598</td>\n",
       "      <td>3</td>\n",
       "    </tr>\n",
       "    <tr>\n",
       "      <th>918</th>\n",
       "      <td>2014-08-01 01:21:00</td>\n",
       "      <td>40.6956</td>\n",
       "      <td>-74.1781</td>\n",
       "      <td>B02617</td>\n",
       "      <td>3</td>\n",
       "    </tr>\n",
       "    <tr>\n",
       "      <th>922</th>\n",
       "      <td>2014-08-01 01:22:00</td>\n",
       "      <td>40.6879</td>\n",
       "      <td>-74.1812</td>\n",
       "      <td>B02512</td>\n",
       "      <td>3</td>\n",
       "    </tr>\n",
       "    <tr>\n",
       "      <th>930</th>\n",
       "      <td>2014-08-01 01:22:00</td>\n",
       "      <td>40.6950</td>\n",
       "      <td>-74.1782</td>\n",
       "      <td>B02617</td>\n",
       "      <td>3</td>\n",
       "    </tr>\n",
       "    <tr>\n",
       "      <th>1092</th>\n",
       "      <td>2014-08-01 01:44:00</td>\n",
       "      <td>40.6878</td>\n",
       "      <td>-74.1821</td>\n",
       "      <td>B02512</td>\n",
       "      <td>3</td>\n",
       "    </tr>\n",
       "    <tr>\n",
       "      <th>1093</th>\n",
       "      <td>2014-08-01 01:44:00</td>\n",
       "      <td>40.6878</td>\n",
       "      <td>-74.1821</td>\n",
       "      <td>B02512</td>\n",
       "      <td>3</td>\n",
       "    </tr>\n",
       "    <tr>\n",
       "      <th>1120</th>\n",
       "      <td>2014-08-01 01:46:00</td>\n",
       "      <td>40.7959</td>\n",
       "      <td>-74.4806</td>\n",
       "      <td>B02682</td>\n",
       "      <td>3</td>\n",
       "    </tr>\n",
       "    <tr>\n",
       "      <th>1161</th>\n",
       "      <td>2014-08-01 01:54:00</td>\n",
       "      <td>40.6353</td>\n",
       "      <td>-74.1495</td>\n",
       "      <td>B02598</td>\n",
       "      <td>3</td>\n",
       "    </tr>\n",
       "    <tr>\n",
       "      <th>1248</th>\n",
       "      <td>2014-08-01 02:11:00</td>\n",
       "      <td>40.6949</td>\n",
       "      <td>-74.1779</td>\n",
       "      <td>B02512</td>\n",
       "      <td>3</td>\n",
       "    </tr>\n",
       "    <tr>\n",
       "      <th>1302</th>\n",
       "      <td>2014-08-01 02:20:00</td>\n",
       "      <td>40.8001</td>\n",
       "      <td>-74.4814</td>\n",
       "      <td>B02617</td>\n",
       "      <td>3</td>\n",
       "    </tr>\n",
       "    <tr>\n",
       "      <th>1698</th>\n",
       "      <td>2014-08-01 03:42:00</td>\n",
       "      <td>40.8617</td>\n",
       "      <td>-74.4125</td>\n",
       "      <td>B02617</td>\n",
       "      <td>3</td>\n",
       "    </tr>\n",
       "    <tr>\n",
       "      <th>1891</th>\n",
       "      <td>2014-08-01 04:15:00</td>\n",
       "      <td>40.7265</td>\n",
       "      <td>-74.1531</td>\n",
       "      <td>B02617</td>\n",
       "      <td>3</td>\n",
       "    </tr>\n",
       "    <tr>\n",
       "      <th>1906</th>\n",
       "      <td>2014-08-01 04:17:00</td>\n",
       "      <td>40.6949</td>\n",
       "      <td>-74.1779</td>\n",
       "      <td>B02617</td>\n",
       "      <td>3</td>\n",
       "    </tr>\n",
       "    <tr>\n",
       "      <th>1984</th>\n",
       "      <td>2014-08-01 04:29:00</td>\n",
       "      <td>40.6956</td>\n",
       "      <td>-74.1801</td>\n",
       "      <td>B02617</td>\n",
       "      <td>3</td>\n",
       "    </tr>\n",
       "    <tr>\n",
       "      <th>2011</th>\n",
       "      <td>2014-08-01 04:32:00</td>\n",
       "      <td>40.6950</td>\n",
       "      <td>-74.1779</td>\n",
       "      <td>B02617</td>\n",
       "      <td>3</td>\n",
       "    </tr>\n",
       "    <tr>\n",
       "      <th>2077</th>\n",
       "      <td>2014-08-01 04:43:00</td>\n",
       "      <td>40.6836</td>\n",
       "      <td>-74.2019</td>\n",
       "      <td>B02598</td>\n",
       "      <td>3</td>\n",
       "    </tr>\n",
       "    <tr>\n",
       "      <th>2082</th>\n",
       "      <td>2014-08-01 04:43:00</td>\n",
       "      <td>40.6870</td>\n",
       "      <td>-74.1935</td>\n",
       "      <td>B02682</td>\n",
       "      <td>3</td>\n",
       "    </tr>\n",
       "  </tbody>\n",
       "</table>\n",
       "</div>"
      ],
      "text/plain": [
       "                 datatime      lat      lon    base  cluster\n",
       "394   2014-08-01 00:28:00  40.8251 -74.1376  B02598        3\n",
       "538   2014-08-01 00:40:00  40.7273 -74.1492  B02617        3\n",
       "647   2014-08-01 00:50:00  40.7957 -74.4804  B02682        3\n",
       "724   2014-08-01 00:59:00  40.6950 -74.1781  B02598        3\n",
       "918   2014-08-01 01:21:00  40.6956 -74.1781  B02617        3\n",
       "922   2014-08-01 01:22:00  40.6879 -74.1812  B02512        3\n",
       "930   2014-08-01 01:22:00  40.6950 -74.1782  B02617        3\n",
       "1092  2014-08-01 01:44:00  40.6878 -74.1821  B02512        3\n",
       "1093  2014-08-01 01:44:00  40.6878 -74.1821  B02512        3\n",
       "1120  2014-08-01 01:46:00  40.7959 -74.4806  B02682        3\n",
       "1161  2014-08-01 01:54:00  40.6353 -74.1495  B02598        3\n",
       "1248  2014-08-01 02:11:00  40.6949 -74.1779  B02512        3\n",
       "1302  2014-08-01 02:20:00  40.8001 -74.4814  B02617        3\n",
       "1698  2014-08-01 03:42:00  40.8617 -74.4125  B02617        3\n",
       "1891  2014-08-01 04:15:00  40.7265 -74.1531  B02617        3\n",
       "1906  2014-08-01 04:17:00  40.6949 -74.1779  B02617        3\n",
       "1984  2014-08-01 04:29:00  40.6956 -74.1801  B02617        3\n",
       "2011  2014-08-01 04:32:00  40.6950 -74.1779  B02617        3\n",
       "2077  2014-08-01 04:43:00  40.6836 -74.2019  B02598        3\n",
       "2082  2014-08-01 04:43:00  40.6870 -74.1935  B02682        3"
      ]
     },
     "execution_count": 19,
     "metadata": {},
     "output_type": "execute_result"
    }
   ],
   "source": [
    "df_uber.loc[df_uber.cluster==3].head(20)"
   ]
  },
  {
   "cell_type": "code",
   "execution_count": 20,
   "id": "b99ad1ae",
   "metadata": {},
   "outputs": [
    {
     "name": "stdout",
     "output_type": "stream",
     "text": [
      "0     258490\n",
      "10    255237\n",
      "5     100312\n",
      "6      67209\n",
      "4      60300\n",
      "2      32852\n",
      "1      25954\n",
      "8      15306\n",
      "3       8479\n",
      "9       2446\n",
      "7       2195\n",
      "11       495\n",
      "Name: cluster, dtype: int64\n"
     ]
    }
   ],
   "source": [
    "sum_cluster=df_uber.cluster.value_counts()\n",
    "sum_cluster = sum_cluster.sort_values(ascending=False)\n",
    "print(sum_cluster)"
   ]
  },
  {
   "cell_type": "code",
   "execution_count": 21,
   "id": "c00487bb",
   "metadata": {},
   "outputs": [
    {
     "data": {
      "image/png": "[encoded data removed]",
      "text/plain": [
       "<Figure size 720x360 with 1 Axes>"
      ]
     },
     "metadata": {
      "needs_background": "light"
     },
     "output_type": "display_data"
    }
   ],
   "source": [
    "plt.figure(figsize=(10,5))\n",
    "plt.bar(list(map(str,sum_cluster.index)),list(sum_cluster.values))\n",
    "plt.grid=True\n",
    "plt.show()\n",
    "        "
   ]
  },
  {
   "cell_type": "code",
   "execution_count": 23,
   "id": "819d7450",
   "metadata": {},
   "outputs": [
    {
     "name": "stdout",
     "output_type": "stream",
     "text": [
      "74.05\n"
     ]
    }
   ],
   "source": [
    "rate_allmax=sum_cluster.iloc[:3].sum()/sum_cluster.sum()\n",
    "print(round(rate_allmax*100,2))"
   ]
  },
  {
   "cell_type": "code",
   "execution_count": 34,
   "id": "30820147",
   "metadata": {},
   "outputs": [],
   "source": [
    "df_uber['datetime']=pd.to_datetime(df_uber['datetime'])"
   ]
  },
  {
   "cell_type": "code",
   "execution_count": 35,
   "id": "8e9be7f7",
   "metadata": {},
   "outputs": [],
   "source": [
    "df_new=df_uber.copy()"
   ]
  },
  {
   "cell_type": "code",
   "execution_count": 36,
   "id": "a8835671",
   "metadata": {},
   "outputs": [],
   "source": [
    "df_new.set_index('datetime',inplace=True)"
   ]
  },
  {
   "cell_type": "code",
   "execution_count": 37,
   "id": "a87d2266",
   "metadata": {},
   "outputs": [
    {
     "name": "stdout",
     "output_type": "stream",
     "text": [
      "<class 'pandas.core.frame.DataFrame'>\n",
      "DatetimeIndex: 829275 entries, 2014-08-01 00:00:00 to 2014-08-31 23:59:00\n",
      "Data columns (total 3 columns):\n",
      " #   Column  Non-Null Count   Dtype  \n",
      "---  ------  --------------   -----  \n",
      " 0   lat     829275 non-null  float64\n",
      " 1   lon     829275 non-null  float64\n",
      " 2   base    829275 non-null  object \n",
      "dtypes: float64(2), object(1)\n",
      "memory usage: 25.3+ MB\n"
     ]
    }
   ],
   "source": [
    "df_new.info()"
   ]
  },
  {
   "cell_type": "code",
   "execution_count": 38,
   "id": "860435ca",
   "metadata": {},
   "outputs": [
    {
     "data": {
      "text/html": [
       "<div>\n",
       "<style scoped>\n",
       "    .dataframe tbody tr th:only-of-type {\n",
       "        vertical-align: middle;\n",
       "    }\n",
       "\n",
       "    .dataframe tbody tr th {\n",
       "        vertical-align: top;\n",
       "    }\n",
       "\n",
       "    .dataframe thead th {\n",
       "        text-align: right;\n",
       "    }\n",
       "</style>\n",
       "<table border=\"1\" class=\"dataframe\">\n",
       "  <thead>\n",
       "    <tr style=\"text-align: right;\">\n",
       "      <th></th>\n",
       "      <th>lat</th>\n",
       "      <th>lon</th>\n",
       "      <th>base</th>\n",
       "    </tr>\n",
       "    <tr>\n",
       "      <th>datetime</th>\n",
       "      <th></th>\n",
       "      <th></th>\n",
       "      <th></th>\n",
       "    </tr>\n",
       "  </thead>\n",
       "  <tbody>\n",
       "    <tr>\n",
       "      <th>2014-08-01</th>\n",
       "      <td>40.7290</td>\n",
       "      <td>-73.9422</td>\n",
       "      <td>B02598</td>\n",
       "    </tr>\n",
       "    <tr>\n",
       "      <th>2014-08-01</th>\n",
       "      <td>40.7476</td>\n",
       "      <td>-73.9871</td>\n",
       "      <td>B02598</td>\n",
       "    </tr>\n",
       "    <tr>\n",
       "      <th>2014-08-01</th>\n",
       "      <td>40.7424</td>\n",
       "      <td>-74.0044</td>\n",
       "      <td>B02598</td>\n",
       "    </tr>\n",
       "    <tr>\n",
       "      <th>2014-08-01</th>\n",
       "      <td>40.7510</td>\n",
       "      <td>-73.9869</td>\n",
       "      <td>B02598</td>\n",
       "    </tr>\n",
       "    <tr>\n",
       "      <th>2014-08-01</th>\n",
       "      <td>40.7406</td>\n",
       "      <td>-73.9902</td>\n",
       "      <td>B02598</td>\n",
       "    </tr>\n",
       "  </tbody>\n",
       "</table>\n",
       "</div>"
      ],
      "text/plain": [
       "                lat      lon    base\n",
       "datetime                            \n",
       "2014-08-01  40.7290 -73.9422  B02598\n",
       "2014-08-01  40.7476 -73.9871  B02598\n",
       "2014-08-01  40.7424 -74.0044  B02598\n",
       "2014-08-01  40.7510 -73.9869  B02598\n",
       "2014-08-01  40.7406 -73.9902  B02598"
      ]
     },
     "execution_count": 38,
     "metadata": {},
     "output_type": "execute_result"
    }
   ],
   "source": [
    "df_new.head()"
   ]
  },
  {
   "cell_type": "code",
   "execution_count": 41,
   "id": "fd4b4d45",
   "metadata": {},
   "outputs": [],
   "source": [
    "df_hours=df_new.resample('h').count()"
   ]
  },
  {
   "cell_type": "code",
   "execution_count": 43,
   "id": "15c8a00a",
   "metadata": {},
   "outputs": [
    {
     "data": {
      "text/html": [
       "<div>\n",
       "<style scoped>\n",
       "    .dataframe tbody tr th:only-of-type {\n",
       "        vertical-align: middle;\n",
       "    }\n",
       "\n",
       "    .dataframe tbody tr th {\n",
       "        vertical-align: top;\n",
       "    }\n",
       "\n",
       "    .dataframe thead th {\n",
       "        text-align: right;\n",
       "    }\n",
       "</style>\n",
       "<table border=\"1\" class=\"dataframe\">\n",
       "  <thead>\n",
       "    <tr style=\"text-align: right;\">\n",
       "      <th></th>\n",
       "      <th>lat</th>\n",
       "      <th>lon</th>\n",
       "      <th>base</th>\n",
       "    </tr>\n",
       "  </thead>\n",
       "  <tbody>\n",
       "    <tr>\n",
       "      <th>00:00:00</th>\n",
       "      <td>21451</td>\n",
       "      <td>21451</td>\n",
       "      <td>21451</td>\n",
       "    </tr>\n",
       "    <tr>\n",
       "      <th>01:00:00</th>\n",
       "      <td>14471</td>\n",
       "      <td>14471</td>\n",
       "      <td>14471</td>\n",
       "    </tr>\n",
       "    <tr>\n",
       "      <th>02:00:00</th>\n",
       "      <td>10105</td>\n",
       "      <td>10105</td>\n",
       "      <td>10105</td>\n",
       "    </tr>\n",
       "    <tr>\n",
       "      <th>03:00:00</th>\n",
       "      <td>10376</td>\n",
       "      <td>10376</td>\n",
       "      <td>10376</td>\n",
       "    </tr>\n",
       "    <tr>\n",
       "      <th>04:00:00</th>\n",
       "      <td>11774</td>\n",
       "      <td>11774</td>\n",
       "      <td>11774</td>\n",
       "    </tr>\n",
       "    <tr>\n",
       "      <th>05:00:00</th>\n",
       "      <td>16525</td>\n",
       "      <td>16525</td>\n",
       "      <td>16525</td>\n",
       "    </tr>\n",
       "    <tr>\n",
       "      <th>06:00:00</th>\n",
       "      <td>24907</td>\n",
       "      <td>24907</td>\n",
       "      <td>24907</td>\n",
       "    </tr>\n",
       "    <tr>\n",
       "      <th>07:00:00</th>\n",
       "      <td>34064</td>\n",
       "      <td>34064</td>\n",
       "      <td>34064</td>\n",
       "    </tr>\n",
       "    <tr>\n",
       "      <th>08:00:00</th>\n",
       "      <td>34566</td>\n",
       "      <td>34566</td>\n",
       "      <td>34566</td>\n",
       "    </tr>\n",
       "    <tr>\n",
       "      <th>09:00:00</th>\n",
       "      <td>30195</td>\n",
       "      <td>30195</td>\n",
       "      <td>30195</td>\n",
       "    </tr>\n",
       "    <tr>\n",
       "      <th>10:00:00</th>\n",
       "      <td>30706</td>\n",
       "      <td>30706</td>\n",
       "      <td>30706</td>\n",
       "    </tr>\n",
       "    <tr>\n",
       "      <th>11:00:00</th>\n",
       "      <td>31778</td>\n",
       "      <td>31778</td>\n",
       "      <td>31778</td>\n",
       "    </tr>\n",
       "    <tr>\n",
       "      <th>12:00:00</th>\n",
       "      <td>32106</td>\n",
       "      <td>32106</td>\n",
       "      <td>32106</td>\n",
       "    </tr>\n",
       "    <tr>\n",
       "      <th>13:00:00</th>\n",
       "      <td>35764</td>\n",
       "      <td>35764</td>\n",
       "      <td>35764</td>\n",
       "    </tr>\n",
       "    <tr>\n",
       "      <th>14:00:00</th>\n",
       "      <td>40644</td>\n",
       "      <td>40644</td>\n",
       "      <td>40644</td>\n",
       "    </tr>\n",
       "    <tr>\n",
       "      <th>15:00:00</th>\n",
       "      <td>48197</td>\n",
       "      <td>48197</td>\n",
       "      <td>48197</td>\n",
       "    </tr>\n",
       "    <tr>\n",
       "      <th>16:00:00</th>\n",
       "      <td>53481</td>\n",
       "      <td>53481</td>\n",
       "      <td>53481</td>\n",
       "    </tr>\n",
       "    <tr>\n",
       "      <th>17:00:00</th>\n",
       "      <td>57122</td>\n",
       "      <td>57122</td>\n",
       "      <td>57122</td>\n",
       "    </tr>\n",
       "    <tr>\n",
       "      <th>18:00:00</th>\n",
       "      <td>55390</td>\n",
       "      <td>55390</td>\n",
       "      <td>55390</td>\n",
       "    </tr>\n",
       "    <tr>\n",
       "      <th>19:00:00</th>\n",
       "      <td>53008</td>\n",
       "      <td>53008</td>\n",
       "      <td>53008</td>\n",
       "    </tr>\n",
       "    <tr>\n",
       "      <th>20:00:00</th>\n",
       "      <td>51674</td>\n",
       "      <td>51674</td>\n",
       "      <td>51674</td>\n",
       "    </tr>\n",
       "    <tr>\n",
       "      <th>21:00:00</th>\n",
       "      <td>51354</td>\n",
       "      <td>51354</td>\n",
       "      <td>51354</td>\n",
       "    </tr>\n",
       "    <tr>\n",
       "      <th>22:00:00</th>\n",
       "      <td>46008</td>\n",
       "      <td>46008</td>\n",
       "      <td>46008</td>\n",
       "    </tr>\n",
       "    <tr>\n",
       "      <th>23:00:00</th>\n",
       "      <td>33609</td>\n",
       "      <td>33609</td>\n",
       "      <td>33609</td>\n",
       "    </tr>\n",
       "  </tbody>\n",
       "</table>\n",
       "</div>"
      ],
      "text/plain": [
       "            lat    lon   base\n",
       "00:00:00  21451  21451  21451\n",
       "01:00:00  14471  14471  14471\n",
       "02:00:00  10105  10105  10105\n",
       "03:00:00  10376  10376  10376\n",
       "04:00:00  11774  11774  11774\n",
       "05:00:00  16525  16525  16525\n",
       "06:00:00  24907  24907  24907\n",
       "07:00:00  34064  34064  34064\n",
       "08:00:00  34566  34566  34566\n",
       "09:00:00  30195  30195  30195\n",
       "10:00:00  30706  30706  30706\n",
       "11:00:00  31778  31778  31778\n",
       "12:00:00  32106  32106  32106\n",
       "13:00:00  35764  35764  35764\n",
       "14:00:00  40644  40644  40644\n",
       "15:00:00  48197  48197  48197\n",
       "16:00:00  53481  53481  53481\n",
       "17:00:00  57122  57122  57122\n",
       "18:00:00  55390  55390  55390\n",
       "19:00:00  53008  53008  53008\n",
       "20:00:00  51674  51674  51674\n",
       "21:00:00  51354  51354  51354\n",
       "22:00:00  46008  46008  46008\n",
       "23:00:00  33609  33609  33609"
      ]
     },
     "execution_count": 43,
     "metadata": {},
     "output_type": "execute_result"
    }
   ],
   "source": [
    "by_time=df_hours.groupby(df_hours.index.time).sum()\n",
    "by_time"
   ]
  },
  {
   "cell_type": "code",
   "execution_count": 45,
   "id": "a9c40fbd",
   "metadata": {},
   "outputs": [
    {
     "data": {
      "image/png": "[encoded data removed]",
      "text/plain": [
       "<Figure size 720x288 with 1 Axes>"
      ]
     },
     "metadata": {
      "needs_background": "light"
     },
     "output_type": "display_data"
    }
   ],
   "source": [
    "y1 = by_time.iloc[:,0].values\n",
    "x1 = list(map(str,np.arange(0,24)))\n",
    "plt.figure(figsize=(10,4))\n",
    "plt.bar(x1, y1)\n",
    "plt.show()"
   ]
  },
  {
   "cell_type": "code",
   "execution_count": null,
   "id": "06a77ef0",
   "metadata": {},
   "outputs": [],
   "source": []
  }
 ],
 "metadata": {
  "kernelspec": {
   "display_name": "Python 3",
   "language": "python",
   "name": "python3"
  },
  "language_info": {
   "codemirror_mode": {
    "name": "ipython",
    "version": 3
   },
   "file_extension": ".py",
   "mimetype": "text/x-python",
   "name": "python",
   "nbconvert_exporter": "python",
   "pygments_lexer": "ipython3",
   "version": "3.8.8"
  }
 },
 "nbformat": 4,
 "nbformat_minor": 5
}
