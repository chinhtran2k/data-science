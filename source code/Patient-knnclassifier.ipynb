{
 "cells": [
  {
   "cell_type": "code",
   "execution_count": 1,
   "id": "ccc6dac3",
   "metadata": {},
   "outputs": [],
   "source": [
    "using CSV\n",
    "using DataFrames"
   ]
  },
  {
   "cell_type": "code",
   "execution_count": 2,
   "id": "cded9d2f",
   "metadata": {},
   "outputs": [],
   "source": [
    "#Mô tả tập dữ liệu thu thập được phục vụ bài toán:\n",
    "\n",
    "#Tên Dataset: Data_Patient.csv\n",
    "#File dữ liệu chứa thông tin của 300 bệnh nhân bị bệnh đau ngực\n",
    "#Mỗi dòng ứng với thông tin của một bệnh nhân, bao gồm 9 thuộc tính:\n",
    "#id: Mã của bệnh nhân (object)\n",
    "#Age: Tuổi của bệnh nhân (số)\n",
    "#Gender: Giới tính của bệnh nhân (chuỗi: Male – Female)\n",
    "#Type: Cho biết loại triệu chứng đau ngực mà bệnh nhân này mắc phải, với 4 giá trị: (Typical angina, Atypical angina, Non-anginal pain, Asymptomatic)\n",
    "#Blood_pressure: Huyết áp của bệnh nhân – đơn vị: mmhg (số)\n",
    "#Cholesterol(mỡ máu): Chỉ số cholesterol của bệnh nhân – đơn vị: mg/dl (số)\n",
    "#Heatbeat: Thông số nhịp tim của bệnh nhân – đơn vị: lần/phút (số)\n",
    "#Thalassemia(bệnh tán máu bẩm sinh): Chỉ số Thalassemia của bệnh nhân chỉ gồm 3 giá trị (3: Bình thường | 4: Khiếm khuyết cố định | 7: Kiếm khuyết có thể đảo ngược)\n",
    "#Result: Cho biết bệnh nhân có bị bệnh tim hay không? (0: Không bị bệnh tim mạch | 1: Bị bệnh tim mạch)"
   ]
  },
  {
   "cell_type": "code",
   "execution_count": 3,
   "id": "2b8295ed",
   "metadata": {},
   "outputs": [
    {
     "data": {
      "text/html": [
       "<div class=\"data-frame\"><p>300 rows × 9 columns (omitted printing of 2 columns)</p><table class=\"data-frame\"><thead><tr><th></th><th>id</th><th>Age</th><th>Gender</th><th>Type</th><th>Blood_pressure</th><th>Cholesterol</th><th>Heartbeat</th></tr><tr><th></th><th title=\"String15\">String15</th><th title=\"Int64\">Int64</th><th title=\"String7\">String7</th><th title=\"Union{Missing, String31}\">String31?</th><th title=\"Int64\">Int64</th><th title=\"Int64\">Int64</th><th title=\"Int64\">Int64</th></tr></thead><tbody><tr><th>1</th><td>Patient_01</td><td>63</td><td>Male</td><td>Typical angina</td><td>145</td><td>233</td><td>150</td></tr><tr><th>2</th><td>Patient_02</td><td>67</td><td>Male</td><td>Asymptomatic</td><td>160</td><td>286</td><td>108</td></tr><tr><th>3</th><td>Patient_03</td><td>67</td><td>Male</td><td>Asymptomatic</td><td>120</td><td>229</td><td>129</td></tr><tr><th>4</th><td>Patient_04</td><td>37</td><td>Male</td><td>Non-anginal pain</td><td>130</td><td>250</td><td>187</td></tr><tr><th>5</th><td>Patient_05</td><td>41</td><td>Female</td><td>Atypical angina</td><td>130</td><td>204</td><td>172</td></tr><tr><th>6</th><td>Patient_16</td><td>56</td><td>Male</td><td>Atypical angina</td><td>120</td><td>236</td><td>178</td></tr><tr><th>7</th><td>Patient_07</td><td>62</td><td>Female</td><td>Asymptomatic</td><td>140</td><td>268</td><td>160</td></tr><tr><th>8</th><td>Patient_08</td><td>57</td><td>Female</td><td>Asymptomatic</td><td>120</td><td>354</td><td>163</td></tr><tr><th>9</th><td>Patient_19</td><td>63</td><td>Male</td><td>Asymptomatic</td><td>130</td><td>254</td><td>147</td></tr><tr><th>10</th><td>Patient_10</td><td>53</td><td>Male</td><td>Asymptomatic</td><td>140</td><td>203</td><td>155</td></tr><tr><th>11</th><td>Patient_110</td><td>57</td><td>Male</td><td>Asymptomatic</td><td>140</td><td>192</td><td>148</td></tr><tr><th>12</th><td>Patient_120</td><td>56</td><td>Female</td><td>Atypical angina</td><td>140</td><td>294</td><td>153</td></tr><tr><th>13</th><td>Patient_130</td><td>56</td><td>Male</td><td>Non-anginal pain</td><td>130</td><td>256</td><td>142</td></tr><tr><th>14</th><td>Patient_140</td><td>44</td><td>Male</td><td>Atypical angina</td><td>120</td><td>263</td><td>173</td></tr><tr><th>15</th><td>Patient_150</td><td>52</td><td>Male</td><td>Non-anginal pain</td><td>172</td><td>199</td><td>162</td></tr><tr><th>16</th><td>Patient_160</td><td>57</td><td>Male</td><td>Non-anginal pain</td><td>150</td><td>168</td><td>174</td></tr><tr><th>17</th><td>Patient_170</td><td>48</td><td>Male</td><td>Atypical angina</td><td>110</td><td>229</td><td>168</td></tr><tr><th>18</th><td>Patient_180</td><td>54</td><td>Male</td><td>Asymptomatic</td><td>140</td><td>239</td><td>160</td></tr><tr><th>19</th><td>Patient_190</td><td>48</td><td>Female</td><td>Non-anginal pain</td><td>130</td><td>275</td><td>139</td></tr><tr><th>20</th><td>Patient_200</td><td>49</td><td>Male</td><td>Atypical angina</td><td>130</td><td>266</td><td>171</td></tr><tr><th>21</th><td>Patient_21</td><td>64</td><td>Male</td><td>Typical angina</td><td>110</td><td>211</td><td>144</td></tr><tr><th>22</th><td>Patient_22</td><td>58</td><td>Female</td><td>Typical angina</td><td>150</td><td>283</td><td>162</td></tr><tr><th>23</th><td>Patient_23</td><td>58</td><td>Male</td><td>Atypical angina</td><td>120</td><td>284</td><td>160</td></tr><tr><th>24</th><td>Patient_24</td><td>58</td><td>Male</td><td>Non-anginal pain</td><td>132</td><td>224</td><td>173</td></tr><tr><th>25</th><td>Patient_25</td><td>60</td><td>Male</td><td>Asymptomatic</td><td>130</td><td>206</td><td>132</td></tr><tr><th>26</th><td>Patient_26</td><td>50</td><td>Female</td><td>Non-anginal pain</td><td>120</td><td>219</td><td>158</td></tr><tr><th>27</th><td>Patient_27</td><td>58</td><td>Female</td><td>Non-anginal pain</td><td>120</td><td>340</td><td>172</td></tr><tr><th>28</th><td>Patient_28</td><td>66</td><td>Female</td><td>Typical angina</td><td>150</td><td>226</td><td>114</td></tr><tr><th>29</th><td>Patient_29</td><td>43</td><td>Male</td><td>Asymptomatic</td><td>150</td><td>247</td><td>171</td></tr><tr><th>30</th><td>Patient_30</td><td>40</td><td>Male</td><td>Asymptomatic</td><td>110</td><td>167</td><td>114</td></tr><tr><th>&vellip;</th><td>&vellip;</td><td>&vellip;</td><td>&vellip;</td><td>&vellip;</td><td>&vellip;</td><td>&vellip;</td><td>&vellip;</td></tr></tbody></table></div>"
      ],
      "text/latex": [
       "\\begin{tabular}{r|cccccccc}\n",
       "\t& id & Age & Gender & Type & Blood\\_pressure & Cholesterol & Heartbeat & \\\\\n",
       "\t\\hline\n",
       "\t& String15 & Int64 & String7 & String31? & Int64 & Int64 & Int64 & \\\\\n",
       "\t\\hline\n",
       "\t1 & Patient\\_01 & 63 & Male & Typical angina & 145 & 233 & 150 & $\\dots$ \\\\\n",
       "\t2 & Patient\\_02 & 67 & Male & Asymptomatic & 160 & 286 & 108 & $\\dots$ \\\\\n",
       "\t3 & Patient\\_03 & 67 & Male & Asymptomatic & 120 & 229 & 129 & $\\dots$ \\\\\n",
       "\t4 & Patient\\_04 & 37 & Male & Non-anginal pain & 130 & 250 & 187 & $\\dots$ \\\\\n",
       "\t5 & Patient\\_05 & 41 & Female & Atypical angina & 130 & 204 & 172 & $\\dots$ \\\\\n",
       "\t6 & Patient\\_16 & 56 & Male & Atypical angina & 120 & 236 & 178 & $\\dots$ \\\\\n",
       "\t7 & Patient\\_07 & 62 & Female & Asymptomatic & 140 & 268 & 160 & $\\dots$ \\\\\n",
       "\t8 & Patient\\_08 & 57 & Female & Asymptomatic & 120 & 354 & 163 & $\\dots$ \\\\\n",
       "\t9 & Patient\\_19 & 63 & Male & Asymptomatic & 130 & 254 & 147 & $\\dots$ \\\\\n",
       "\t10 & Patient\\_10 & 53 & Male & Asymptomatic & 140 & 203 & 155 & $\\dots$ \\\\\n",
       "\t11 & Patient\\_110 & 57 & Male & Asymptomatic & 140 & 192 & 148 & $\\dots$ \\\\\n",
       "\t12 & Patient\\_120 & 56 & Female & Atypical angina & 140 & 294 & 153 & $\\dots$ \\\\\n",
       "\t13 & Patient\\_130 & 56 & Male & Non-anginal pain & 130 & 256 & 142 & $\\dots$ \\\\\n",
       "\t14 & Patient\\_140 & 44 & Male & Atypical angina & 120 & 263 & 173 & $\\dots$ \\\\\n",
       "\t15 & Patient\\_150 & 52 & Male & Non-anginal pain & 172 & 199 & 162 & $\\dots$ \\\\\n",
       "\t16 & Patient\\_160 & 57 & Male & Non-anginal pain & 150 & 168 & 174 & $\\dots$ \\\\\n",
       "\t17 & Patient\\_170 & 48 & Male & Atypical angina & 110 & 229 & 168 & $\\dots$ \\\\\n",
       "\t18 & Patient\\_180 & 54 & Male & Asymptomatic & 140 & 239 & 160 & $\\dots$ \\\\\n",
       "\t19 & Patient\\_190 & 48 & Female & Non-anginal pain & 130 & 275 & 139 & $\\dots$ \\\\\n",
       "\t20 & Patient\\_200 & 49 & Male & Atypical angina & 130 & 266 & 171 & $\\dots$ \\\\\n",
       "\t21 & Patient\\_21 & 64 & Male & Typical angina & 110 & 211 & 144 & $\\dots$ \\\\\n",
       "\t22 & Patient\\_22 & 58 & Female & Typical angina & 150 & 283 & 162 & $\\dots$ \\\\\n",
       "\t23 & Patient\\_23 & 58 & Male & Atypical angina & 120 & 284 & 160 & $\\dots$ \\\\\n",
       "\t24 & Patient\\_24 & 58 & Male & Non-anginal pain & 132 & 224 & 173 & $\\dots$ \\\\\n",
       "\t25 & Patient\\_25 & 60 & Male & Asymptomatic & 130 & 206 & 132 & $\\dots$ \\\\\n",
       "\t26 & Patient\\_26 & 50 & Female & Non-anginal pain & 120 & 219 & 158 & $\\dots$ \\\\\n",
       "\t27 & Patient\\_27 & 58 & Female & Non-anginal pain & 120 & 340 & 172 & $\\dots$ \\\\\n",
       "\t28 & Patient\\_28 & 66 & Female & Typical angina & 150 & 226 & 114 & $\\dots$ \\\\\n",
       "\t29 & Patient\\_29 & 43 & Male & Asymptomatic & 150 & 247 & 171 & $\\dots$ \\\\\n",
       "\t30 & Patient\\_30 & 40 & Male & Asymptomatic & 110 & 167 & 114 & $\\dots$ \\\\\n",
       "\t$\\dots$ & $\\dots$ & $\\dots$ & $\\dots$ & $\\dots$ & $\\dots$ & $\\dots$ & $\\dots$ &  \\\\\n",
       "\\end{tabular}\n"
      ],
      "text/plain": [
       "\u001b[1m300×9 DataFrame\u001b[0m\n",
       "\u001b[1m Row \u001b[0m│\u001b[1m id          \u001b[0m\u001b[1m Age   \u001b[0m\u001b[1m Gender  \u001b[0m\u001b[1m Type             \u001b[0m\u001b[1m Blood_pressure \u001b[0m\u001b[1m Choleste\u001b[0m ⋯\n",
       "\u001b[1m     \u001b[0m│\u001b[90m String15    \u001b[0m\u001b[90m Int64 \u001b[0m\u001b[90m String7 \u001b[0m\u001b[90m String31?        \u001b[0m\u001b[90m Int64          \u001b[0m\u001b[90m Int64   \u001b[0m ⋯\n",
       "─────┼──────────────────────────────────────────────────────────────────────────\n",
       "   1 │ Patient_01      63  Male     Typical angina               145           ⋯\n",
       "   2 │ Patient_02      67  Male     Asymptomatic                 160\n",
       "   3 │ Patient_03      67  Male     Asymptomatic                 120\n",
       "   4 │ Patient_04      37  Male     Non-anginal pain             130\n",
       "   5 │ Patient_05      41  Female   Atypical angina              130           ⋯\n",
       "   6 │ Patient_16      56  Male     Atypical angina              120\n",
       "   7 │ Patient_07      62  Female   Asymptomatic                 140\n",
       "   8 │ Patient_08      57  Female   Asymptomatic                 120\n",
       "   9 │ Patient_19      63  Male     Asymptomatic                 130           ⋯\n",
       "  10 │ Patient_10      53  Male     Asymptomatic                 140\n",
       "  11 │ Patient_110     57  Male     Asymptomatic                 140\n",
       "  ⋮  │      ⋮         ⋮       ⋮            ⋮                ⋮              ⋮   ⋱\n",
       " 291 │ Patient_291     55  Female   Atypical angina              132\n",
       " 292 │ Patient_292     44  Male     Asymptomatic                 120           ⋯\n",
       " 293 │ Patient_293     63  Male    \u001b[90m missing          \u001b[0m            140\n",
       " 294 │ Patient_294     63  Female   Asymptomatic                 124\n",
       " 295 │ Patient_295     41  Male     Atypical angina              120\n",
       " 296 │ Patient_296     59  Male     Asymptomatic                 164           ⋯\n",
       " 297 │ Patient_297     57  Female   Asymptomatic                 140\n",
       " 298 │ Patient_298     45  Male     Typical angina               110\n",
       " 299 │ Patient_299     68  Male     Asymptomatic                 144\n",
       " 300 │ Patient_300     57  Male     Asymptomatic                 130           ⋯\n",
       "\u001b[36m                                                  4 columns and 279 rows omitted\u001b[0m"
      ]
     },
     "execution_count": 3,
     "metadata": {},
     "output_type": "execute_result"
    }
   ],
   "source": [
    "df = CSV.read(\"Data_Patient.csv\",DataFrame)"
   ]
  },
  {
   "cell_type": "code",
   "execution_count": 4,
   "id": "95626bd8",
   "metadata": {},
   "outputs": [
    {
     "name": "stdout",
     "output_type": "stream",
     "text": [
      "\u001b[1m300×9 DataFrame\u001b[0m\n",
      "\u001b[1m Row \u001b[0m│\u001b[1m id          \u001b[0m\u001b[1m Age   \u001b[0m\u001b[1m Gender  \u001b[0m\u001b[1m Type             \u001b[0m\u001b[1m Blood_pressure \u001b[0m\u001b[1m Cholesterol \u001b[0m\u001b[1m Heartbeat \u001b[0m\u001b[1m Thalassemia \u001b[0m\u001b[1m Result \u001b[0m\n",
      "\u001b[1m     \u001b[0m│\u001b[90m String15    \u001b[0m\u001b[90m Int64 \u001b[0m\u001b[90m String7 \u001b[0m\u001b[90m String31?        \u001b[0m\u001b[90m Int64          \u001b[0m\u001b[90m Int64       \u001b[0m\u001b[90m Int64     \u001b[0m\u001b[90m Int64?      \u001b[0m\u001b[90m Int64  \u001b[0m\n",
      "─────┼────────────────────────────────────────────────────────────────────────────────────────────────────────────\n",
      "   1 │ Patient_01      63  Male     Typical angina               145          233        150            6       0\n",
      "   2 │ Patient_02      67  Male     Asymptomatic                 160          286        108            3       1\n",
      "   3 │ Patient_03      67  Male     Asymptomatic                 120          229        129            7       1\n",
      "   4 │ Patient_04      37  Male     Non-anginal pain             130          250        187            3       0\n",
      "   5 │ Patient_05      41  Female   Atypical angina              130          204        172 \u001b[90m     missing \u001b[0m      0\n",
      "   6 │ Patient_16      56  Male     Atypical angina              120          236        178            3       0\n",
      "   7 │ Patient_07      62  Female   Asymptomatic                 140          268        160            3       1\n",
      "   8 │ Patient_08      57  Female   Asymptomatic                 120          354        163            3       0\n",
      "   9 │ Patient_19      63  Male     Asymptomatic                 130          254        147            7       1\n",
      "  10 │ Patient_10      53  Male     Asymptomatic                 140          203        155            7       1\n",
      "  11 │ Patient_110     57  Male     Asymptomatic                 140          192        148            6       0\n",
      "  12 │ Patient_120     56  Female   Atypical angina              140          294        153            3       0\n",
      "  13 │ Patient_130     56  Male     Non-anginal pain             130          256        142            6       1\n",
      "  14 │ Patient_140     44  Male     Atypical angina              120          263        173            7       0\n",
      "  15 │ Patient_150     52  Male     Non-anginal pain             172          199        162            7       0\n",
      "  16 │ Patient_160     57  Male     Non-anginal pain             150          168        174            3       0\n",
      "  17 │ Patient_170     48  Male     Atypical angina              110          229        168            7       1\n",
      "  18 │ Patient_180     54  Male     Asymptomatic                 140          239        160            3       0\n",
      "  19 │ Patient_190     48  Female   Non-anginal pain             130          275        139            3       0\n",
      "  20 │ Patient_200     49  Male     Atypical angina              130          266        171            3       0\n",
      "  21 │ Patient_21      64  Male     Typical angina               110          211        144 \u001b[90m     missing \u001b[0m      0\n",
      "  22 │ Patient_22      58  Female   Typical angina               150          283        162            3       0\n",
      "  23 │ Patient_23      58  Male     Atypical angina              120          284        160            3       1\n",
      "  24 │ Patient_24      58  Male     Non-anginal pain             132          224        173            7       1\n",
      "  25 │ Patient_25      60  Male     Asymptomatic                 130          206        132            7       1\n",
      "  26 │ Patient_26      50  Female   Non-anginal pain             120          219        158            3       0\n",
      "  27 │ Patient_27      58  Female   Non-anginal pain             120          340        172            3       0\n",
      "  28 │ Patient_28      66  Female   Typical angina               150          226        114            3       0\n",
      "  29 │ Patient_29      43  Male     Asymptomatic                 150          247        171            3       0\n",
      "  30 │ Patient_30      40  Male     Asymptomatic                 110          167        114            7       1\n",
      "  31 │ Patient_31      69  Female   Typical angina               140          239        151            3       0\n",
      "  32 │ Patient_32      60  Male     Asymptomatic                 117          230        160            7       1\n",
      "  33 │ Patient_33      64  Male     Non-anginal pain             140          335        158            3       1\n",
      "  34 │ Patient_34      59  Male     Asymptomatic                 135          234        161            7       0\n",
      "  35 │ Patient_35      44  Male     Non-anginal pain             130          233        179            3       0\n",
      "  36 │ Patient_36      42  Male     Asymptomatic                 140          226        178 \u001b[90m     missing \u001b[0m      0\n",
      "  37 │ Patient_37      43  Male     Asymptomatic                 120          177        120            7       1\n",
      "  38 │ Patient_38      57  Male     Asymptomatic                 150          276        112            6       1\n",
      "  39 │ Patient_39      55  Male     Asymptomatic                 132          353        132            7       1\n",
      "  40 │ Patient_40      61  Male     Non-anginal pain             150          243        137            3       0\n",
      "  41 │ Patient_41      65  Female   Asymptomatic                 150          225        114            7       1\n",
      "  42 │ Patient_42      40  Male     Typical angina               140          199        178            7       0\n",
      "  43 │ Patient_43      71  Female   Atypical angina              160          302        162            3       0\n",
      "  44 │ Patient_44      59  Male     Non-anginal pain             150          212        157            3       0\n",
      "  45 │ Patient_45      61  Female   Asymptomatic                 130          330        169            3       1\n",
      "  46 │ Patient_46      58  Male     Non-anginal pain             112          230        165            7       1\n",
      "  47 │ Patient_47      51  Male     Non-anginal pain             110          175        123            3       0\n",
      "  48 │ Patient_48      50  Male     Asymptomatic                 150          243        128            7       1\n",
      "  49 │ Patient_49      65  Female   Non-anginal pain             140          417        157            3       0\n",
      "  50 │ Patient_50      53  Male     Non-anginal pain             130          197        152            3       0\n",
      "  51 │ Patient_51      41  Female   Atypical angina              105          198        168            3       0\n",
      "  52 │ Patient_52      65  Male     Asymptomatic                 120          177        140            7       0\n",
      "  53 │ Patient_53      44  Male     Asymptomatic                 112          290        153            3       1\n",
      "  54 │ Patient_54      44  Male     Atypical angina              130          219        188            3       0\n",
      "  55 │ Patient_55      60  Male     Asymptomatic                 130          253        144            7       1\n",
      "  56 │ Patient_56      54  Male     Asymptomatic                 124          266        109            7       1\n",
      "  57 │ Patient_57      50  Male     Non-anginal pain             140          233        163            7       1\n",
      "  58 │ Patient_58      41  Male     Asymptomatic                 110          172        158            7       1\n",
      "  59 │ Patient_59      54  Male     Non-anginal pain             125          273        152            3       0\n",
      "  60 │ Patient_60      51  Male     Typical angina               125          213        125            3       0\n",
      "  61 │ Patient_61      51  Female   Asymptomatic                 130          305        142            7       1\n",
      "  62 │ Patient_62      46  Female   Non-anginal pain             142          177        160            3       0\n",
      "  63 │ Patient_63      58  Male     Asymptomatic                 128          216        131            7       1\n",
      "  64 │ Patient_64      54  Female   Non-anginal pain             135          304        170            3       0\n",
      "  65 │ Patient_65      54  Male     Asymptomatic                 120          188        113            7       1\n",
      "  66 │ Patient_66      60  Male     Asymptomatic                 145          282        142            7       1\n",
      "  67 │ Patient_67      60  Male     Non-anginal pain             140          185        155            3       1\n",
      "  68 │ Patient_68      54  Male     Non-anginal pain             150          232        165            7       0\n",
      "  69 │ Patient_69      59  Male     Asymptomatic                 170          326        140            7       1\n",
      "  70 │ Patient_70      46  Male     Non-anginal pain             150          231        147            3       1\n",
      "  71 │ Patient_71      65  Female   Non-anginal pain             155          269        148            3       0\n",
      "  72 │ Patient_72      67  Male     Asymptomatic                 125          254        163            7       1\n",
      "  73 │ Patient_73      62  Male     Asymptomatic                 120          267         99            7       1\n",
      "  74 │ Patient_74      65  Male     Asymptomatic                 110          248        158            6       1\n",
      "  75 │ Patient_75      44  Male     Asymptomatic                 110          197        177            3       1\n",
      "  76 │ Patient_76      65  Female   Non-anginal pain             160          360        151            3       0\n",
      "  77 │ Patient_77      60  Male     Asymptomatic                 125          258        141            7       1\n",
      "  78 │ Patient_78      51  Female   Non-anginal pain             140          308        142            3       0\n",
      "  79 │ Patient_79      48  Male     Atypical angina              130          245        180            3       0\n",
      "  80 │ Patient_80      58  Male     Asymptomatic                 150          270        111            7       1\n",
      "  81 │ Patient_81      45  Male     Asymptomatic                 104          208        148            3       0\n",
      "  82 │ Patient_82      53  Female   Asymptomatic                 130          264        143            3       0\n",
      "  83 │ Patient_83      39  Male     Non-anginal pain             140          321        182            3       0\n",
      "  84 │ Patient_84      68  Male     Non-anginal pain             180          274        150            7       1\n",
      "  85 │ Patient_85      52  Male     Atypical angina              120          325        172            3       0\n",
      "  86 │ Patient_86      44  Male     Non-anginal pain             140          235        180            3       0\n",
      "  87 │ Patient_87      47  Male     Non-anginal pain             138          257        156            3       0\n",
      "  88 │ Patient_88      53  Female   Asymptomatic                 138          234        160            3       0\n",
      "  89 │ Patient_89      51  Female   Non-anginal pain             130          256        149            3       0\n",
      "  90 │ Patient_90      66  Male     Asymptomatic                 120          302        151            3       0\n",
      "  91 │ Patient_91      62  Female   Asymptomatic                 160          164        145            7       1\n",
      "  92 │ Patient_92      62  Male     Non-anginal pain             130          231        146            7       0\n",
      "  93 │ Patient_93      44  Female   Non-anginal pain             108          141        175            3       0\n",
      "  94 │ Patient_94      63  Female   Non-anginal pain             135          252        172            3       0\n",
      "  95 │ Patient_95      52  Male     Asymptomatic                 128          255        161            7       1\n",
      "  96 │ Patient_96      59  Male     Asymptomatic                 110          239        142            7       1\n",
      "  97 │ Patient_97      60  Female   Asymptomatic                 150          258        157            7       1\n",
      "  98 │ Patient_98      52  Male     Atypical angina              134          201        158            3       0\n",
      "  99 │ Patient_99      48  Male     Asymptomatic                 122          222        186            3       0\n",
      " 100 │ Patient_100     45  Male     Asymptomatic                 115          260        185            3       0\n",
      " 101 │ Patient_101     34  Male     Typical angina               118          182        174            3       0\n",
      " 102 │ Patient_102     57  Female   Asymptomatic                 128          303        159            3       0\n",
      " 103 │ Patient_103     71  Female   Non-anginal pain             110          265        130            3       0\n",
      " 104 │ Patient_104     49  Male     Non-anginal pain             120          188        139            7       1\n",
      " 105 │ Patient_105     54  Male     Atypical angina              108          309        156            7       0\n",
      " 106 │ Patient_106     59  Male     Asymptomatic                 140          177        162            7       1\n",
      " 107 │ Patient_107     57  Male     Non-anginal pain             128          229        150            7       1\n",
      " 108 │ Patient_108     61  Male     Asymptomatic                 120          260        140            7       1\n",
      " 109 │ Patient_109     39  Male     Asymptomatic                 118          219        140            7       1\n",
      " 110 │ Patient_110     61  Female   Asymptomatic                 145          307        146            7       1\n",
      " 111 │ Patient_111     56  Male     Asymptomatic                 125          249        144            3       1\n",
      " 112 │ Patient_112     52  Male     Typical angina               118          186        190            6       0\n",
      " 113 │ Patient_113     43  Female   Asymptomatic                 132          341        136            7       1\n",
      " 114 │ Patient_114     62  Female   Non-anginal pain             130          263         97            7       1\n",
      " 115 │ Patient_115     41  Male     Atypical angina              135          203        132            6       0\n",
      " 116 │ Patient_116     58  Male     Non-anginal pain             140          211        165            3       0\n",
      " 117 │ Patient_117     35  Female   Asymptomatic                 138          183        182            3       0\n",
      " 118 │ Patient_118     63  Male     Asymptomatic                 130          330        132            7       1\n",
      " 119 │ Patient_119     65  Male     Asymptomatic                 135          254        127            7       1\n",
      " 120 │ Patient_120     48  Male     Asymptomatic                 130          256        150            7       1\n",
      " 121 │ Patient_121     63  Female   Asymptomatic                 150          407        154            7       1\n",
      " 122 │ Patient_122     51  Male     Non-anginal pain             100          222        143            3       0\n",
      " 123 │ Patient_123     55  Male     Asymptomatic                 140          217        111            7       1\n",
      " 124 │ Patient_124     65  Male     Typical angina               138          282        174            3       1\n",
      " 125 │ Patient_125     45  Female   Atypical angina              130          234        175            3       0\n",
      " 126 │ Patient_126     56  Female   Asymptomatic                 200          288        133            7       1\n",
      " 127 │ Patient_127     54  Male     Asymptomatic                 110          239        126            7       1\n",
      " 128 │ Patient_128     44  Male     Atypical angina              120          220        170            3       0\n",
      " 129 │ Patient_129     62  Female   Asymptomatic                 124          209        163            3       0\n",
      " 130 │ Patient_130     54  Male     Non-anginal pain             120          258        147            7       0\n",
      " 131 │ Patient_131     51  Male     Non-anginal pain              94          227        154            7       0\n",
      " 132 │ Patient_132     29  Male     Atypical angina              130          204        202            3       0\n",
      " 133 │ Patient_133     51  Male     Asymptomatic                 140          261        186            3       0\n",
      " 134 │ Patient_134     43  Female   Non-anginal pain             122          213        165            3       0\n",
      " 135 │ Patient_135     55  Female   Atypical angina              135          250        161            3       0\n",
      " 136 │ Patient_136     70  Male     Asymptomatic                 145          174        125            7       1\n",
      " 137 │ Patient_137     62  Male     Atypical angina              120          281        103            7       1\n",
      " 138 │ Patient_138     35  Male     Asymptomatic                 120          198        130            7       1\n",
      " 139 │ Patient_139     51  Male     Non-anginal pain             125          245        166            3       0\n",
      " 140 │ Patient_140     59  Male     Atypical angina              140          221        164            3       0\n",
      " 141 │ Patient_141     59  Male     Typical angina               170          288        159            7       1\n",
      " 142 │ Patient_142     52  Male     Atypical angina              128          205        184            3       0\n",
      " 143 │ Patient_143     64  Male     Non-anginal pain             125          309        131            7       1\n",
      " 144 │ Patient_144     58  Male     Non-anginal pain             105          240        154            7       0\n",
      " 145 │ Patient_145     47  Male     Non-anginal pain             108          243        152            3       1\n",
      " 146 │ Patient_146     57  Male     Asymptomatic                 165          289        124            7       1\n",
      " 147 │ Patient_147     41  Male     Non-anginal pain             112          250        179            3       0\n",
      " 148 │ Patient_148     45  Male     Atypical angina              128          308        170            3       0\n",
      " 149 │ Patient_149     60  Female   Non-anginal pain             102          318        160            3       0\n",
      " 150 │ Patient_150     52  Male     Typical angina               152          298        178            7       0\n",
      " 151 │ Patient_151     42  Female   Asymptomatic                 102          265        122            3       0\n",
      " 152 │ Patient_152     67  Female   Non-anginal pain             115          564        160            7       0\n",
      " 153 │ Patient_153     55  Male     Asymptomatic                 160          289        145            7       1\n",
      " 154 │ Patient_154     64  Male     Asymptomatic                 120          246         96            3       1\n",
      " 155 │ Patient_155     70  Male     Asymptomatic                 130          322        109            3       1\n",
      " 156 │ Patient_156     51  Male     Asymptomatic                 140          299        173            7       1\n",
      " 157 │ Patient_157     58  Male     Asymptomatic                 125          300        171            7       1\n",
      " 158 │ Patient_158     60  Male     Asymptomatic                 140          293        170            7       1\n",
      " 159 │ Patient_159     68  Male     Non-anginal pain             118          277        151            7       0\n",
      " 160 │ Patient_06      46  Male     Atypical angina              101          197        156            7       0\n",
      " 161 │ Patient_161     77  Male     Asymptomatic                 125          304        162            3       1\n",
      " 162 │ Patient_162     54  Female   Non-anginal pain             110          214        158            3       0\n",
      " 163 │ Patient_163     58  Female   Asymptomatic                 100          248        122            3       0\n",
      " 164 │ Patient_164     48  Male     Non-anginal pain             124          255        175            3       0\n",
      " 165 │ Patient_165     57  Male     Asymptomatic                 132          207        168            7       0\n",
      " 166 │ Patient_166     52  Male     Non-anginal pain             138          223        169            3       0\n",
      " 167 │ Patient_167     54  Female   Atypical angina              132          288        159            3       0\n",
      " 168 │ Patient_168     35  Male     Asymptomatic                 126          282        156            7       1\n",
      " 169 │ Patient_169     45  Female   Atypical angina              112          160        138            3       0\n",
      " 170 │ Patient_170     70  Male     Non-anginal pain             160          269        112            7       1\n",
      " 171 │ Patient_171     53  Male     Asymptomatic                 142          226        111            7       0\n",
      " 172 │ Patient_172     59  Female   Asymptomatic                 174          249        143            3       1\n",
      " 173 │ Patient_173     62  Female   Asymptomatic                 140          394        157            3       0\n",
      " 174 │ Patient_174     64  Male     Asymptomatic                 145          212        132            6       1\n",
      " 175 │ Patient_175     57  Male     Asymptomatic                 152          274         88            7       1\n",
      " 176 │ Patient_176     52  Male     Asymptomatic                 108          233        147            7       0\n",
      " 177 │ Patient_177     56  Male     Asymptomatic                 132          184        105            6       1\n",
      " 178 │ Patient_178     43  Male     Non-anginal pain             130          315        162            3       0\n",
      " 179 │ Patient_179     53  Male     Non-anginal pain             130          246        173            3       0\n",
      " 180 │ Patient_180     48  Male     Asymptomatic                 124          274        166            7       1\n",
      " 181 │ Patient_181     56  Female   Asymptomatic                 134          409        150            7       1\n",
      " 182 │ Patient_182     42  Male     Typical angina               148          244        178            3       0\n",
      " 183 │ Patient_183     59  Male     Typical angina               178          270        145            7       0\n",
      " 184 │ Patient_184     60  Female   Asymptomatic                 158          305        161            3       1\n",
      " 185 │ Patient_185     63  Female   Atypical angina              140          195        179            3       0\n",
      " 186 │ Patient_186     42  Male     Non-anginal pain             120          240        194            7       0\n",
      " 187 │ Patient_187     66  Male     Atypical angina              160          246        120            6       1\n",
      " 188 │ Patient_188     54  Male     Atypical angina              192          283        195            7       1\n",
      " 189 │ Patient_189     69  Male     Non-anginal pain             140          254        146            7       1\n",
      " 190 │ Patient_09      50  Male     Non-anginal pain             129          196        163            3       0\n",
      " 191 │ Patient_191     51  Male     Asymptomatic                 140          298        122            7       1\n",
      " 192 │ Patient_192     43  Male     Asymptomatic                 132          247        143            7       1\n",
      " 193 │ Patient_193     62  Female   Asymptomatic                 138          294        106            3       1\n",
      " 194 │ Patient_194     68  Female   Non-anginal pain             120          211        115            3       0\n",
      " 195 │ Patient_195     67  Male     Asymptomatic                 100          299        125            3       1\n",
      " 196 │ Patient_196     69  Male     Typical angina               160          234        131            3       0\n",
      " 197 │ Patient_197     45  Female   Asymptomatic                 138          236        152            3       0\n",
      " 198 │ Patient_198     50  Female   Atypical angina              120          244        162            3       0\n",
      " 199 │ Patient_199     59  Male     Typical angina               160          273        125            3       1\n",
      " 200 │ Patient_200     50  Female   Asymptomatic                 110          254        159            3       0\n",
      " 201 │ Patient_201     64  Female   Asymptomatic                 180          325        154            3       0\n",
      " 202 │ Patient_202     57  Male     Non-anginal pain             150          126        173            7       0\n",
      " 203 │ Patient_203     64  Female   Non-anginal pain             140          313        133            7       0\n",
      " 204 │ Patient_204     43  Male     Asymptomatic                 110          211        161            7       0\n",
      " 205 │ Patient_205     45  Male     Asymptomatic                 142          309        147            7       1\n",
      " 206 │ Patient_206     58  Male    \u001b[90m missing          \u001b[0m            128          259        130            7       1\n",
      " 207 │ Patient_207     50  Male     Asymptomatic                 144          200        126            7       1\n",
      " 208 │ Patient_208     55  Male     Atypical angina              130          262        155            3       0\n",
      " 209 │ Patient_209     62  Female   Asymptomatic                 150          244        154            3       1\n",
      " 210 │ Patient_210     37  Female   Non-anginal pain             120          215        170            3       0\n",
      " 211 │ Patient_211     38  Male     Typical angina               120          231        182            7       1\n",
      " 212 │ Patient_212     41  Male     Non-anginal pain             130          214        168            3       0\n",
      " 213 │ Patient_213     66  Female   Asymptomatic                 178          228        165            7       1\n",
      " 214 │ Patient_214     52  Male     Asymptomatic                 112          230        160            3       1\n",
      " 215 │ Patient_215     56  Male     Typical angina               120          193        162            7       0\n",
      " 216 │ Patient_216     46  Female   Atypical angina              105          204        172            3       0\n",
      " 217 │ Patient_217     46  Female   Asymptomatic                 138          243        152            3       0\n",
      " 218 │ Patient_218     64  Female   Asymptomatic                 130          303        122            3       0\n",
      " 219 │ Patient_219     59  Male    \u001b[90m missing          \u001b[0m            138          271        182            3       0\n",
      " 220 │ Patient_220     41  Female   Non-anginal pain             112          268        172            3       0\n",
      " 221 │ Patient_221     54  Female   Non-anginal pain             108          267        167            3       0\n",
      " 222 │ Patient_222     39  Female   Non-anginal pain              94          199        179            3       0\n",
      " 223 │ Patient_223     53  Male     Asymptomatic                 123          282         95            7       1\n",
      " 224 │ Patient_224     63  Female   Asymptomatic                 108          269        169            3       1\n",
      " 225 │ Patient_225     34  Female   Atypical angina              118          210        192            3       0\n",
      " 226 │ Patient_226     47  Male     Asymptomatic                 112          204        143            3       0\n",
      " 227 │ Patient_227     67  Female   Non-anginal pain             152          277        172            3       0\n",
      " 228 │ Patient_228     54  Male     Asymptomatic                 110          206        108            3       1\n",
      " 229 │ Patient_229     66  Male     Asymptomatic                 112          212        132            3       1\n",
      " 230 │ Patient_230     52  Female   Non-anginal pain             136          196        169            3       0\n",
      " 231 │ Patient_231     55  Female   Asymptomatic                 180          327        117            3       1\n",
      " 232 │ Patient_232     49  Male     Non-anginal pain             118          149        126            3       1\n",
      " 233 │ Patient_233     74  Female   Atypical angina              120          269        121            3       0\n",
      " 234 │ Patient_234     54  Female   Non-anginal pain             160          201        163            3       0\n",
      " 235 │ Patient_235     54  Male     Asymptomatic                 122          286        116            3       1\n",
      " 236 │ Patient_236     56  Male     Asymptomatic                 130          283        103            7       1\n",
      " 237 │ Patient_237     46  Male     Asymptomatic                 120          249        144            7       1\n",
      " 238 │ Patient_238     49  Female   Atypical angina              134          271        162            3       0\n",
      " 239 │ Patient_239     42  Male     Atypical angina              120          295        162            3       0\n",
      " 240 │ Patient_240     41  Male     Atypical angina              110          235        153            3       0\n",
      " 241 │ Patient_241     41  Female   Atypical angina              126          306        163 \u001b[90m     missing \u001b[0m      0\n",
      " 242 │ Patient_242     49  Female   Asymptomatic                 130          269        163            3       0\n",
      " 243 │ Patient_243     61  Male     Typical angina               134          234        145            3       1\n",
      " 244 │ Patient_244     60  Female   Non-anginal pain             120          178         96            3       0\n",
      " 245 │ Patient_245     67  Male     Asymptomatic                 120          237         71            3       1\n",
      " 246 │ Patient_246     58  Male     Asymptomatic                 100          234        156            7       1\n",
      " 247 │ Patient_247     47  Male     Asymptomatic                 110          275        118            3       1\n",
      " 248 │ Patient_248     52  Male     Asymptomatic                 125          212        168            7       1\n",
      " 249 │ Patient_249     62  Male     Atypical angina              128          208        140            3       0\n",
      " 250 │ Patient_250     57  Male     Asymptomatic                 110          201        126            6       0\n",
      " 251 │ Patient_251     58  Male    \u001b[90m missing          \u001b[0m            146          218        105            7       1\n",
      " 252 │ Patient_252     64  Male     Asymptomatic                 128          263        105            7       0\n",
      " 253 │ Patient_253     51  Female   Non-anginal pain             120          295        157            3       0\n",
      " 254 │ Patient_254     43  Male     Asymptomatic                 115          303        181            3       0\n",
      " 255 │ Patient_255     42  Female   Non-anginal pain             120          209        173            3       0\n",
      " 256 │ Patient_256     67  Female   Asymptomatic                 106          223        142            3       0\n",
      " 257 │ Patient_257     76  Female   Non-anginal pain             140          197        116            3       0\n",
      " 258 │ Patient_258     70  Male     Atypical angina              156          245        143            3       0\n",
      " 259 │ Patient_259     57  Male     Atypical angina              124          261        141            7       1\n",
      " 260 │ Patient_260     44  Female   Non-anginal pain             118          242        149            3       0\n",
      " 261 │ Patient_261     58  Female   Atypical angina              136          319        152            3       1\n",
      " 262 │ Patient_262     60  Female   Typical angina               150          240        171            3       0\n",
      " 263 │ Patient_263     44  Male     Non-anginal pain             120          226        169            3       0\n",
      " 264 │ Patient_264     61  Male     Asymptomatic                 138          166        125            3       1\n",
      " 265 │ Patient_265     42  Male     Asymptomatic                 136          315        125            6       1\n",
      " 266 │ Patient_266     52  Male     Asymptomatic                 128          204        156 \u001b[90m     missing \u001b[0m      1\n",
      " 267 │ Patient_267     59  Male     Non-anginal pain             126          218        134            6       1\n",
      " 268 │ Patient_268     40  Male     Asymptomatic                 152          223        181            7       1\n",
      " 269 │ Patient_269     42  Male     Non-anginal pain             130          180        150            3       0\n",
      " 270 │ Patient_270     61  Male     Asymptomatic                 140          207        138            7       1\n",
      " 271 │ Patient_271     66  Male    \u001b[90m missing          \u001b[0m            160          228        138            6       0\n",
      " 272 │ Patient_272     46  Male     Asymptomatic                 140          311        120            7       1\n",
      " 273 │ Patient_273     71  Female   Asymptomatic                 112          149        125            3       0\n",
      " 274 │ Patient_274     59  Male     Typical angina               134          204        162            3       1\n",
      " 275 │ Patient_275     64  Male     Typical angina               170          227        155            7       0\n",
      " 276 │ Patient_276     66  Female   Non-anginal pain             146          278        152            3       0\n",
      " 277 │ Patient_277     39  Female   Non-anginal pain             138          220        152            3       0\n",
      " 278 │ Patient_278     57  Male     Atypical angina              154          232        164 \u001b[90m     missing \u001b[0m      1\n",
      " 279 │ Patient_279     58  Female   Asymptomatic                 130          197        131            3       0\n",
      " 280 │ Patient_280     57  Male     Asymptomatic                 110          335        143            7       1\n",
      " 281 │ Patient_281     47  Male     Non-anginal pain             130          253        179            3       0\n",
      " 282 │ Patient_282     55  Female   Asymptomatic                 128          205        130            7       1\n",
      " 283 │ Patient_283     35  Male     Atypical angina              122          192        174            3       0\n",
      " 284 │ Patient_284     61  Male     Asymptomatic                 148          203        161            7       1\n",
      " 285 │ Patient_285     58  Male     Asymptomatic                 114          318        140            6       1\n",
      " 286 │ Patient_286     58  Female   Asymptomatic                 170          225        146            6       1\n",
      " 287 │ Patient_287     58  Male     Atypical angina              125          220        144            7       0\n",
      " 288 │ Patient_288     56  Male     Atypical angina              130          221        163            7       0\n",
      " 289 │ Patient_289     56  Male     Atypical angina              120          240        169            3       0\n",
      " 290 │ Patient_290     67  Male     Non-anginal pain             152          212        150            7       1\n",
      " 291 │ Patient_291     55  Female   Atypical angina              132          342        166            3       0\n",
      " 292 │ Patient_292     44  Male     Asymptomatic                 120          169        144            6       1\n",
      " 293 │ Patient_293     63  Male    \u001b[90m missing          \u001b[0m            140          187        144            7       1\n",
      " 294 │ Patient_294     63  Female   Asymptomatic                 124          197        136 \u001b[90m     missing \u001b[0m      1\n",
      " 295 │ Patient_295     41  Male     Atypical angina              120          157        182            3       0\n",
      " 296 │ Patient_296     59  Male     Asymptomatic                 164          176         90            6       1\n",
      " 297 │ Patient_297     57  Female   Asymptomatic                 140          241        123            7       1\n",
      " 298 │ Patient_298     45  Male     Typical angina               110          264        132            7       1\n",
      " 299 │ Patient_299     68  Male     Asymptomatic                 144          193        141            7       1\n"
     ]
    },
    {
     "name": "stdout",
     "output_type": "stream",
     "text": [
      " 300 │ Patient_300     57  Male     Asymptomatic                 130          131        115            7       1\n"
     ]
    }
   ],
   "source": [
    "println(df)"
   ]
  },
  {
   "cell_type": "code",
   "execution_count": 5,
   "id": "76df1fa1",
   "metadata": {},
   "outputs": [
    {
     "data": {
      "text/html": [
       "<div class=\"data-frame\"><p>9 rows × 7 columns</p><table class=\"data-frame\"><thead><tr><th></th><th>variable</th><th>mean</th><th>min</th><th>median</th><th>max</th><th>nmissing</th><th>eltype</th></tr><tr><th></th><th title=\"Symbol\">Symbol</th><th title=\"Union{Nothing, Float64}\">Union…</th><th title=\"Any\">Any</th><th title=\"Union{Nothing, Float64}\">Union…</th><th title=\"Any\">Any</th><th title=\"Int64\">Int64</th><th title=\"Type\">Type</th></tr></thead><tbody><tr><th>1</th><td>id</td><td></td><td>Patient_01</td><td></td><td>Patient_99</td><td>0</td><td>String15</td></tr><tr><th>2</th><td>Age</td><td>54.49</td><td>29</td><td>56.0</td><td>77</td><td>0</td><td>Int64</td></tr><tr><th>3</th><td>Gender</td><td></td><td>Female</td><td></td><td>Male</td><td>0</td><td>String7</td></tr><tr><th>4</th><td>Type</td><td></td><td>Asymptomatic</td><td></td><td>Typical angina</td><td>5</td><td>Union{Missing, String31}</td></tr><tr><th>5</th><td>Blood_pressure</td><td>131.687</td><td>94</td><td>130.0</td><td>200</td><td>0</td><td>Int64</td></tr><tr><th>6</th><td>Cholesterol</td><td>247.07</td><td>126</td><td>242.5</td><td>564</td><td>0</td><td>Int64</td></tr><tr><th>7</th><td>Heartbeat</td><td>149.563</td><td>71</td><td>152.5</td><td>202</td><td>0</td><td>Int64</td></tr><tr><th>8</th><td>Thalassemia</td><td>4.78157</td><td>3</td><td>3.0</td><td>7</td><td>7</td><td>Union{Missing, Int64}</td></tr><tr><th>9</th><td>Result</td><td>0.46</td><td>0</td><td>0.0</td><td>1</td><td>0</td><td>Int64</td></tr></tbody></table></div>"
      ],
      "text/latex": [
       "\\begin{tabular}{r|ccccccc}\n",
       "\t& variable & mean & min & median & max & nmissing & eltype\\\\\n",
       "\t\\hline\n",
       "\t& Symbol & Union… & Any & Union… & Any & Int64 & Type\\\\\n",
       "\t\\hline\n",
       "\t1 & id &  & Patient\\_01 &  & Patient\\_99 & 0 & String15 \\\\\n",
       "\t2 & Age & 54.49 & 29 & 56.0 & 77 & 0 & Int64 \\\\\n",
       "\t3 & Gender &  & Female &  & Male & 0 & String7 \\\\\n",
       "\t4 & Type &  & Asymptomatic &  & Typical angina & 5 & Union\\{Missing, String31\\} \\\\\n",
       "\t5 & Blood\\_pressure & 131.687 & 94 & 130.0 & 200 & 0 & Int64 \\\\\n",
       "\t6 & Cholesterol & 247.07 & 126 & 242.5 & 564 & 0 & Int64 \\\\\n",
       "\t7 & Heartbeat & 149.563 & 71 & 152.5 & 202 & 0 & Int64 \\\\\n",
       "\t8 & Thalassemia & 4.78157 & 3 & 3.0 & 7 & 7 & Union\\{Missing, Int64\\} \\\\\n",
       "\t9 & Result & 0.46 & 0 & 0.0 & 1 & 0 & Int64 \\\\\n",
       "\\end{tabular}\n"
      ],
      "text/plain": [
       "\u001b[1m9×7 DataFrame\u001b[0m\n",
       "\u001b[1m Row \u001b[0m│\u001b[1m variable       \u001b[0m\u001b[1m mean    \u001b[0m\u001b[1m min          \u001b[0m\u001b[1m median \u001b[0m\u001b[1m max            \u001b[0m\u001b[1m nmissing\u001b[0m ⋯\n",
       "\u001b[1m     \u001b[0m│\u001b[90m Symbol         \u001b[0m\u001b[90m Union…  \u001b[0m\u001b[90m Any          \u001b[0m\u001b[90m Union… \u001b[0m\u001b[90m Any            \u001b[0m\u001b[90m Int64   \u001b[0m ⋯\n",
       "─────┼──────────────────────────────────────────────────────────────────────────\n",
       "   1 │ id             \u001b[90m         \u001b[0m Patient_01   \u001b[90m        \u001b[0m Patient_99             0 ⋯\n",
       "   2 │ Age             54.49    29            56.0    77                     0\n",
       "   3 │ Gender         \u001b[90m         \u001b[0m Female       \u001b[90m        \u001b[0m Male                   0\n",
       "   4 │ Type           \u001b[90m         \u001b[0m Asymptomatic \u001b[90m        \u001b[0m Typical angina         5\n",
       "   5 │ Blood_pressure  131.687  94            130.0   200                    0 ⋯\n",
       "   6 │ Cholesterol     247.07   126           242.5   564                    0\n",
       "   7 │ Heartbeat       149.563  71            152.5   202                    0\n",
       "   8 │ Thalassemia     4.78157  3             3.0     7                      7\n",
       "   9 │ Result          0.46     0             0.0     1                      0 ⋯\n",
       "\u001b[36m                                                                1 column omitted\u001b[0m"
      ]
     },
     "execution_count": 5,
     "metadata": {},
     "output_type": "execute_result"
    }
   ],
   "source": [
    "describe(df)"
   ]
  },
  {
   "cell_type": "code",
   "execution_count": 6,
   "id": "35b2c880",
   "metadata": {},
   "outputs": [
    {
     "data": {
      "text/plain": [
       "9-element Vector{String}:\n",
       " \"id\"\n",
       " \"Age\"\n",
       " \"Gender\"\n",
       " \"Type\"\n",
       " \"Blood_pressure\"\n",
       " \"Cholesterol\"\n",
       " \"Heartbeat\"\n",
       " \"Thalassemia\"\n",
       " \"Result\""
      ]
     },
     "execution_count": 6,
     "metadata": {},
     "output_type": "execute_result"
    }
   ],
   "source": [
    "names(df)"
   ]
  },
  {
   "cell_type": "code",
   "execution_count": 7,
   "id": "8291236c",
   "metadata": {},
   "outputs": [
    {
     "data": {
      "text/html": [
       "<div class=\"data-frame\"><p>2 rows × 2 columns</p><table class=\"data-frame\"><thead><tr><th></th><th>Result</th><th>count</th></tr><tr><th></th><th title=\"Int64\">Int64</th><th title=\"Int64\">Int64</th></tr></thead><tbody><tr><th>1</th><td>0</td><td>162</td></tr><tr><th>2</th><td>1</td><td>138</td></tr></tbody></table></div>"
      ],
      "text/latex": [
       "\\begin{tabular}{r|cc}\n",
       "\t& Result & count\\\\\n",
       "\t\\hline\n",
       "\t& Int64 & Int64\\\\\n",
       "\t\\hline\n",
       "\t1 & 0 & 162 \\\\\n",
       "\t2 & 1 & 138 \\\\\n",
       "\\end{tabular}\n"
      ],
      "text/plain": [
       "\u001b[1m2×2 DataFrame\u001b[0m\n",
       "\u001b[1m Row \u001b[0m│\u001b[1m Result \u001b[0m\u001b[1m count \u001b[0m\n",
       "\u001b[1m     \u001b[0m│\u001b[90m Int64  \u001b[0m\u001b[90m Int64 \u001b[0m\n",
       "─────┼───────────────\n",
       "   1 │      0    162\n",
       "   2 │      1    138"
      ]
     },
     "execution_count": 7,
     "metadata": {},
     "output_type": "execute_result"
    }
   ],
   "source": [
    "using Plots\n",
    "#thống kê số người mắc bệnh tim\n",
    "kq =combine(groupby(df,:Result),nrow => :count)\n",
    "#----------------------------------------------"
   ]
  },
  {
   "cell_type": "code",
   "execution_count": 8,
   "id": "f977d865",
   "metadata": {},
   "outputs": [
    {
     "data": {
      "image/svg+xml": [
       "<?xml version=\"1.0\" encoding=\"utf-8\"?>\n",
       "<svg xmlns=\"http://www.w3.org/2000/svg\" xmlns:xlink=\"http://www.w3.org/1999/xlink\" width=\"600\" height=\"400\" viewBox=\"0 0 2400 1600\">\n",
       "<defs>\n",
       "  <clipPath id=\"clip600\">\n",
       "    <rect x=\"0\" y=\"0\" width=\"2400\" height=\"1600\"/>\n",
       "  </clipPath>\n",
       "</defs>\n",
       "<path clip-path=\"url(#clip600)\" d=\"\n",
       "M0 1600 L2400 1600 L2400 0 L0 0  Z\n",
       "  \" fill=\"#ffffff\" fill-rule=\"evenodd\" fill-opacity=\"1\"/>\n",
       "<defs>\n",
       "  <clipPath id=\"clip601\">\n",
       "    <rect x=\"480\" y=\"0\" width=\"1681\" height=\"1600\"/>\n",
       "  </clipPath>\n",
       "</defs>\n",
       "<path clip-path=\"url(#clip600)\" d=\"\n",
       "M232.389 1423.18 L2352.76 1423.18 L2352.76 123.472 L232.389 123.472  Z\n",
       "  \" fill=\"#ffffff\" fill-rule=\"evenodd\" fill-opacity=\"1\"/>\n",
       "<defs>\n",
       "  <clipPath id=\"clip602\">\n",
       "    <rect x=\"232\" y=\"123\" width=\"2121\" height=\"1301\"/>\n",
       "  </clipPath>\n",
       "</defs>\n",
       "<polyline clip-path=\"url(#clip602)\" style=\"stroke:#000000; stroke-linecap:butt; stroke-linejoin:round; stroke-width:2; stroke-opacity:0.1; fill:none\" points=\"\n",
       "  244.173,1423.18 244.173,123.472 \n",
       "  \"/>\n",
       "<polyline clip-path=\"url(#clip602)\" style=\"stroke:#000000; stroke-linecap:butt; stroke-linejoin:round; stroke-width:2; stroke-opacity:0.1; fill:none\" points=\"\n",
       "  768.373,1423.18 768.373,123.472 \n",
       "  \"/>\n",
       "<polyline clip-path=\"url(#clip602)\" style=\"stroke:#000000; stroke-linecap:butt; stroke-linejoin:round; stroke-width:2; stroke-opacity:0.1; fill:none\" points=\"\n",
       "  1292.57,1423.18 1292.57,123.472 \n",
       "  \"/>\n",
       "<polyline clip-path=\"url(#clip602)\" style=\"stroke:#000000; stroke-linecap:butt; stroke-linejoin:round; stroke-width:2; stroke-opacity:0.1; fill:none\" points=\"\n",
       "  1816.77,1423.18 1816.77,123.472 \n",
       "  \"/>\n",
       "<polyline clip-path=\"url(#clip602)\" style=\"stroke:#000000; stroke-linecap:butt; stroke-linejoin:round; stroke-width:2; stroke-opacity:0.1; fill:none\" points=\"\n",
       "  2340.97,1423.18 2340.97,123.472 \n",
       "  \"/>\n",
       "<polyline clip-path=\"url(#clip600)\" style=\"stroke:#000000; stroke-linecap:butt; stroke-linejoin:round; stroke-width:4; stroke-opacity:1; fill:none\" points=\"\n",
       "  232.389,1423.18 2352.76,1423.18 \n",
       "  \"/>\n",
       "<polyline clip-path=\"url(#clip600)\" style=\"stroke:#000000; stroke-linecap:butt; stroke-linejoin:round; stroke-width:4; stroke-opacity:1; fill:none\" points=\"\n",
       "  244.173,1423.18 244.173,1404.28 \n",
       "  \"/>\n",
       "<polyline clip-path=\"url(#clip600)\" style=\"stroke:#000000; stroke-linecap:butt; stroke-linejoin:round; stroke-width:4; stroke-opacity:1; fill:none\" points=\"\n",
       "  768.373,1423.18 768.373,1404.28 \n",
       "  \"/>\n",
       "<polyline clip-path=\"url(#clip600)\" style=\"stroke:#000000; stroke-linecap:butt; stroke-linejoin:round; stroke-width:4; stroke-opacity:1; fill:none\" points=\"\n",
       "  1292.57,1423.18 1292.57,1404.28 \n",
       "  \"/>\n",
       "<polyline clip-path=\"url(#clip600)\" style=\"stroke:#000000; stroke-linecap:butt; stroke-linejoin:round; stroke-width:4; stroke-opacity:1; fill:none\" points=\"\n",
       "  1816.77,1423.18 1816.77,1404.28 \n",
       "  \"/>\n",
       "<polyline clip-path=\"url(#clip600)\" style=\"stroke:#000000; stroke-linecap:butt; stroke-linejoin:round; stroke-width:4; stroke-opacity:1; fill:none\" points=\"\n",
       "  2340.97,1423.18 2340.97,1404.28 \n",
       "  \"/>\n",
       "<path clip-path=\"url(#clip600)\" d=\"M191.199 1468.75 L220.875 1468.75 L220.875 1472.69 L191.199 1472.69 L191.199 1468.75 Z\" fill=\"#000000\" fill-rule=\"evenodd\" fill-opacity=\"1\" /><path clip-path=\"url(#clip600)\" d=\"M240.967 1454.1 Q237.356 1454.1 235.528 1457.66 Q233.722 1461.2 233.722 1468.33 Q233.722 1475.44 235.528 1479.01 Q237.356 1482.55 240.967 1482.55 Q244.602 1482.55 246.407 1479.01 Q248.236 1475.44 248.236 1468.33 Q248.236 1461.2 246.407 1457.66 Q244.602 1454.1 240.967 1454.1 M240.967 1450.39 Q246.778 1450.39 249.833 1455 Q252.912 1459.58 252.912 1468.33 Q252.912 1477.06 249.833 1481.67 Q246.778 1486.25 240.967 1486.25 Q235.157 1486.25 232.079 1481.67 Q229.023 1477.06 229.023 1468.33 Q229.023 1459.58 232.079 1455 Q235.157 1450.39 240.967 1450.39 Z\" fill=\"#000000\" fill-rule=\"evenodd\" fill-opacity=\"1\" /><path clip-path=\"url(#clip600)\" d=\"M261.129 1479.7 L266.014 1479.7 L266.014 1485.58 L261.129 1485.58 L261.129 1479.7 Z\" fill=\"#000000\" fill-rule=\"evenodd\" fill-opacity=\"1\" /><path clip-path=\"url(#clip600)\" d=\"M276.245 1451.02 L294.601 1451.02 L294.601 1454.96 L280.527 1454.96 L280.527 1463.43 Q281.546 1463.08 282.564 1462.92 Q283.583 1462.73 284.601 1462.73 Q290.388 1462.73 293.768 1465.9 Q297.148 1469.08 297.148 1474.49 Q297.148 1480.07 293.675 1483.17 Q290.203 1486.25 283.884 1486.25 Q281.708 1486.25 279.439 1485.88 Q277.194 1485.51 274.787 1484.77 L274.787 1480.07 Q276.87 1481.2 279.092 1481.76 Q281.314 1482.32 283.791 1482.32 Q287.796 1482.32 290.134 1480.21 Q292.472 1478.1 292.472 1474.49 Q292.472 1470.88 290.134 1468.77 Q287.796 1466.67 283.791 1466.67 Q281.916 1466.67 280.041 1467.08 Q278.189 1467.5 276.245 1468.38 L276.245 1451.02 Z\" fill=\"#000000\" fill-rule=\"evenodd\" fill-opacity=\"1\" /><path clip-path=\"url(#clip600)\" d=\"M745.757 1454.1 Q742.146 1454.1 740.318 1457.66 Q738.512 1461.2 738.512 1468.33 Q738.512 1475.44 740.318 1479.01 Q742.146 1482.55 745.757 1482.55 Q749.392 1482.55 751.197 1479.01 Q753.026 1475.44 753.026 1468.33 Q753.026 1461.2 751.197 1457.66 Q749.392 1454.1 745.757 1454.1 M745.757 1450.39 Q751.568 1450.39 754.623 1455 Q757.702 1459.58 757.702 1468.33 Q757.702 1477.06 754.623 1481.67 Q751.568 1486.25 745.757 1486.25 Q739.947 1486.25 736.869 1481.67 Q733.813 1477.06 733.813 1468.33 Q733.813 1459.58 736.869 1455 Q739.947 1450.39 745.757 1450.39 Z\" fill=\"#000000\" fill-rule=\"evenodd\" fill-opacity=\"1\" /><path clip-path=\"url(#clip600)\" d=\"M765.919 1479.7 L770.804 1479.7 L770.804 1485.58 L765.919 1485.58 L765.919 1479.7 Z\" fill=\"#000000\" fill-rule=\"evenodd\" fill-opacity=\"1\" /><path clip-path=\"url(#clip600)\" d=\"M790.989 1454.1 Q787.378 1454.1 785.549 1457.66 Q783.743 1461.2 783.743 1468.33 Q783.743 1475.44 785.549 1479.01 Q787.378 1482.55 790.989 1482.55 Q794.623 1482.55 796.428 1479.01 Q798.257 1475.44 798.257 1468.33 Q798.257 1461.2 796.428 1457.66 Q794.623 1454.1 790.989 1454.1 M790.989 1450.39 Q796.799 1450.39 799.854 1455 Q802.933 1459.58 802.933 1468.33 Q802.933 1477.06 799.854 1481.67 Q796.799 1486.25 790.989 1486.25 Q785.178 1486.25 782.1 1481.67 Q779.044 1477.06 779.044 1468.33 Q779.044 1459.58 782.1 1455 Q785.178 1450.39 790.989 1450.39 Z\" fill=\"#000000\" fill-rule=\"evenodd\" fill-opacity=\"1\" /><path clip-path=\"url(#clip600)\" d=\"M1270.45 1454.1 Q1266.84 1454.1 1265.01 1457.66 Q1263.21 1461.2 1263.21 1468.33 Q1263.21 1475.44 1265.01 1479.01 Q1266.84 1482.55 1270.45 1482.55 Q1274.09 1482.55 1275.89 1479.01 Q1277.72 1475.44 1277.72 1468.33 Q1277.72 1461.2 1275.89 1457.66 Q1274.09 1454.1 1270.45 1454.1 M1270.45 1450.39 Q1276.26 1450.39 1279.32 1455 Q1282.4 1459.58 1282.4 1468.33 Q1282.4 1477.06 1279.32 1481.67 Q1276.26 1486.25 1270.45 1486.25 Q1264.64 1486.25 1261.57 1481.67 Q1258.51 1477.06 1258.51 1468.33 Q1258.51 1459.58 1261.57 1455 Q1264.64 1450.39 1270.45 1450.39 Z\" fill=\"#000000\" fill-rule=\"evenodd\" fill-opacity=\"1\" /><path clip-path=\"url(#clip600)\" d=\"M1290.62 1479.7 L1295.5 1479.7 L1295.5 1485.58 L1290.62 1485.58 L1290.62 1479.7 Z\" fill=\"#000000\" fill-rule=\"evenodd\" fill-opacity=\"1\" /><path clip-path=\"url(#clip600)\" d=\"M1305.73 1451.02 L1324.09 1451.02 L1324.09 1454.96 L1310.01 1454.96 L1310.01 1463.43 Q1311.03 1463.08 1312.05 1462.92 Q1313.07 1462.73 1314.09 1462.73 Q1319.88 1462.73 1323.26 1465.9 Q1326.63 1469.08 1326.63 1474.49 Q1326.63 1480.07 1323.16 1483.17 Q1319.69 1486.25 1313.37 1486.25 Q1311.2 1486.25 1308.93 1485.88 Q1306.68 1485.51 1304.27 1484.77 L1304.27 1480.07 Q1306.36 1481.2 1308.58 1481.76 Q1310.8 1482.32 1313.28 1482.32 Q1317.28 1482.32 1319.62 1480.21 Q1321.96 1478.1 1321.96 1474.49 Q1321.96 1470.88 1319.62 1468.77 Q1317.28 1466.67 1313.28 1466.67 Q1311.4 1466.67 1309.53 1467.08 Q1307.68 1467.5 1305.73 1468.38 L1305.73 1451.02 Z\" fill=\"#000000\" fill-rule=\"evenodd\" fill-opacity=\"1\" /><path clip-path=\"url(#clip600)\" d=\"M1783.93 1481.64 L1791.56 1481.64 L1791.56 1455.28 L1783.25 1456.95 L1783.25 1452.69 L1791.52 1451.02 L1796.19 1451.02 L1796.19 1481.64 L1803.83 1481.64 L1803.83 1485.58 L1783.93 1485.58 L1783.93 1481.64 Z\" fill=\"#000000\" fill-rule=\"evenodd\" fill-opacity=\"1\" /><path clip-path=\"url(#clip600)\" d=\"M1813.28 1479.7 L1818.16 1479.7 L1818.16 1485.58 L1813.28 1485.58 L1813.28 1479.7 Z\" fill=\"#000000\" fill-rule=\"evenodd\" fill-opacity=\"1\" /><path clip-path=\"url(#clip600)\" d=\"M1838.35 1454.1 Q1834.74 1454.1 1832.91 1457.66 Q1831.1 1461.2 1831.1 1468.33 Q1831.1 1475.44 1832.91 1479.01 Q1834.74 1482.55 1838.35 1482.55 Q1841.98 1482.55 1843.79 1479.01 Q1845.61 1475.44 1845.61 1468.33 Q1845.61 1461.2 1843.79 1457.66 Q1841.98 1454.1 1838.35 1454.1 M1838.35 1450.39 Q1844.16 1450.39 1847.21 1455 Q1850.29 1459.58 1850.29 1468.33 Q1850.29 1477.06 1847.21 1481.67 Q1844.16 1486.25 1838.35 1486.25 Q1832.54 1486.25 1829.46 1481.67 Q1826.4 1477.06 1826.4 1468.33 Q1826.4 1459.58 1829.46 1455 Q1832.54 1450.39 1838.35 1450.39 Z\" fill=\"#000000\" fill-rule=\"evenodd\" fill-opacity=\"1\" /><path clip-path=\"url(#clip600)\" d=\"M2308.62 1481.64 L2316.26 1481.64 L2316.26 1455.28 L2307.95 1456.95 L2307.95 1452.69 L2316.22 1451.02 L2320.89 1451.02 L2320.89 1481.64 L2328.53 1481.64 L2328.53 1485.58 L2308.62 1485.58 L2308.62 1481.64 Z\" fill=\"#000000\" fill-rule=\"evenodd\" fill-opacity=\"1\" /><path clip-path=\"url(#clip600)\" d=\"M2337.97 1479.7 L2342.86 1479.7 L2342.86 1485.58 L2337.97 1485.58 L2337.97 1479.7 Z\" fill=\"#000000\" fill-rule=\"evenodd\" fill-opacity=\"1\" /><path clip-path=\"url(#clip600)\" d=\"M2353.09 1451.02 L2371.45 1451.02 L2371.45 1454.96 L2357.37 1454.96 L2357.37 1463.43 Q2358.39 1463.08 2359.41 1462.92 Q2360.43 1462.73 2361.45 1462.73 Q2367.23 1462.73 2370.61 1465.9 Q2373.99 1469.08 2373.99 1474.49 Q2373.99 1480.07 2370.52 1483.17 Q2367.05 1486.25 2360.73 1486.25 Q2358.55 1486.25 2356.28 1485.88 Q2354.04 1485.51 2351.63 1484.77 L2351.63 1480.07 Q2353.71 1481.2 2355.94 1481.76 Q2358.16 1482.32 2360.64 1482.32 Q2364.64 1482.32 2366.98 1480.21 Q2369.32 1478.1 2369.32 1474.49 Q2369.32 1470.88 2366.98 1468.77 Q2364.64 1466.67 2360.64 1466.67 Q2358.76 1466.67 2356.89 1467.08 Q2355.03 1467.5 2353.09 1468.38 L2353.09 1451.02 Z\" fill=\"#000000\" fill-rule=\"evenodd\" fill-opacity=\"1\" /><path clip-path=\"url(#clip600)\" d=\"M772.924 1524.76 Q767.959 1524.76 765.444 1529.66 Q762.962 1534.53 762.962 1544.33 Q762.962 1554.1 765.444 1559 Q767.959 1563.87 772.924 1563.87 Q777.921 1563.87 780.404 1559 Q782.918 1554.1 782.918 1544.33 Q782.918 1534.53 780.404 1529.66 Q777.921 1524.76 772.924 1524.76 M772.924 1519.66 Q780.913 1519.66 785.114 1526 Q789.348 1532.3 789.348 1544.33 Q789.348 1556.33 785.114 1562.66 Q780.913 1568.97 772.924 1568.97 Q764.935 1568.97 760.702 1562.66 Q756.501 1556.33 756.501 1544.33 Q756.501 1532.3 760.702 1526 Q764.935 1519.66 772.924 1519.66 Z\" fill=\"#000000\" fill-rule=\"evenodd\" fill-opacity=\"1\" /><path clip-path=\"url(#clip600)\" d=\"M817.58 1547.58 L834.735 1547.58 L834.735 1552.8 L817.58 1552.8 L817.58 1547.58 Z\" fill=\"#000000\" fill-rule=\"evenodd\" fill-opacity=\"1\" /><path clip-path=\"url(#clip600)\" d=\"M865.036 1520.52 L871.465 1520.52 L871.465 1540.61 L892.79 1520.52 L901.066 1520.52 L877.481 1542.68 L902.753 1568.04 L894.286 1568.04 L871.465 1545.16 L871.465 1568.04 L865.036 1568.04 L865.036 1520.52 Z\" fill=\"#000000\" fill-rule=\"evenodd\" fill-opacity=\"1\" /><path clip-path=\"url(#clip600)\" d=\"M937.159 1546.53 L937.159 1568.04 L931.303 1568.04 L931.303 1546.72 Q931.303 1541.66 929.329 1539.14 Q927.356 1536.63 923.409 1536.63 Q918.667 1536.63 915.93 1539.65 Q913.192 1542.68 913.192 1547.9 L913.192 1568.04 L907.304 1568.04 L907.304 1518.52 L913.192 1518.52 L913.192 1537.93 Q915.293 1534.72 918.126 1533.13 Q920.99 1531.54 924.714 1531.54 Q930.857 1531.54 934.008 1535.36 Q937.159 1539.14 937.159 1546.53 Z\" fill=\"#000000\" fill-rule=\"evenodd\" fill-opacity=\"1\" /><path clip-path=\"url(#clip600)\" d=\"M962.654 1536.5 Q957.943 1536.5 955.206 1540.19 Q952.469 1543.85 952.469 1550.25 Q952.469 1556.65 955.174 1560.34 Q957.912 1564 962.654 1564 Q967.333 1564 970.07 1560.31 Q972.807 1556.62 972.807 1550.25 Q972.807 1543.92 970.07 1540.23 Q967.333 1536.5 962.654 1536.5 M962.654 1531.54 Q970.293 1531.54 974.653 1536.5 Q979.014 1541.47 979.014 1550.25 Q979.014 1559 974.653 1564 Q970.293 1568.97 962.654 1568.97 Q954.983 1568.97 950.623 1564 Q946.294 1559 946.294 1550.25 Q946.294 1541.47 950.623 1536.5 Q954.983 1531.54 962.654 1531.54 M960.299 1515.91 L965.009 1515.91 L972.807 1527.88 L968.383 1527.88 L962.654 1520.08 L956.925 1527.88 L952.501 1527.88 L960.299 1515.91 Z\" fill=\"#000000\" fill-rule=\"evenodd\" fill-opacity=\"1\" /><path clip-path=\"url(#clip600)\" d=\"M1018.35 1546.53 L1018.35 1568.04 L1012.5 1568.04 L1012.5 1546.72 Q1012.5 1541.66 1010.52 1539.14 Q1008.55 1536.63 1004.6 1536.63 Q999.862 1536.63 997.124 1539.65 Q994.387 1542.68 994.387 1547.9 L994.387 1568.04 L988.499 1568.04 L988.499 1532.4 L994.387 1532.4 L994.387 1537.93 Q996.488 1534.72 999.32 1533.13 Q1002.19 1531.54 1005.91 1531.54 Q1012.05 1531.54 1015.2 1535.36 Q1018.35 1539.14 1018.35 1546.53 Z\" fill=\"#000000\" fill-rule=\"evenodd\" fill-opacity=\"1\" /><path clip-path=\"url(#clip600)\" d=\"M1053.49 1549.81 Q1053.49 1543.44 1050.85 1539.94 Q1048.24 1536.44 1043.5 1536.44 Q1038.79 1536.44 1036.15 1539.94 Q1033.54 1543.44 1033.54 1549.81 Q1033.54 1556.14 1036.15 1559.64 Q1038.79 1563.14 1043.5 1563.14 Q1048.24 1563.14 1050.85 1559.64 Q1053.49 1556.14 1053.49 1549.81 M1059.35 1563.62 Q1059.35 1572.72 1055.31 1577.15 Q1051.26 1581.6 1042.93 1581.6 Q1039.84 1581.6 1037.1 1581.13 Q1034.36 1580.68 1031.79 1579.72 L1031.79 1574.03 Q1034.36 1575.43 1036.88 1576.1 Q1039.39 1576.76 1042 1576.76 Q1047.76 1576.76 1050.63 1573.74 Q1053.49 1570.75 1053.49 1564.67 L1053.49 1561.77 Q1051.68 1564.92 1048.85 1566.48 Q1046.01 1568.04 1042.07 1568.04 Q1035.51 1568.04 1031.5 1563.05 Q1027.49 1558.05 1027.49 1549.81 Q1027.49 1541.53 1031.5 1536.53 Q1035.51 1531.54 1042.07 1531.54 Q1046.01 1531.54 1048.85 1533.1 Q1051.68 1534.66 1053.49 1537.81 L1053.49 1532.4 L1059.35 1532.4 L1059.35 1563.62 Z\" fill=\"#000000\" fill-rule=\"evenodd\" fill-opacity=\"1\" /><path clip-path=\"url(#clip600)\" d=\"M1117.72 1550.25 Q1117.72 1543.79 1115.05 1540.13 Q1112.41 1536.44 1107.76 1536.44 Q1103.11 1536.44 1100.44 1540.13 Q1097.8 1543.79 1097.8 1550.25 Q1097.8 1556.71 1100.44 1560.4 Q1103.11 1564.07 1107.76 1564.07 Q1112.41 1564.07 1115.05 1560.4 Q1117.72 1556.71 1117.72 1550.25 M1097.8 1537.81 Q1099.64 1534.62 1102.44 1533.1 Q1105.28 1531.54 1109.19 1531.54 Q1115.69 1531.54 1119.73 1536.69 Q1123.8 1541.85 1123.8 1550.25 Q1123.8 1558.65 1119.73 1563.81 Q1115.69 1568.97 1109.19 1568.97 Q1105.28 1568.97 1102.44 1567.44 Q1099.64 1565.88 1097.8 1562.7 L1097.8 1568.04 L1091.91 1568.04 L1091.91 1518.52 L1097.8 1518.52 L1097.8 1537.81 Z\" fill=\"#000000\" fill-rule=\"evenodd\" fill-opacity=\"1\" /><path clip-path=\"url(#clip600)\" d=\"M1133.51 1532.4 L1139.37 1532.4 L1139.37 1568.04 L1133.51 1568.04 L1133.51 1532.4 M1133.51 1518.52 L1139.37 1518.52 L1139.37 1525.93 L1133.51 1525.93 L1133.51 1518.52 M1133.45 1572.53 L1139.3 1572.53 L1139.3 1579.98 L1133.45 1579.98 L1133.45 1572.53 Z\" fill=\"#000000\" fill-rule=\"evenodd\" fill-opacity=\"1\" /><path clip-path=\"url(#clip600)\" d=\"M1195.8 1537.81 L1195.8 1527.18 L1185.42 1527.18 L1185.42 1523.2 L1195.8 1523.2 L1195.8 1518.52 L1201.65 1518.52 L1201.65 1523.2 L1206.56 1523.2 L1206.56 1527.18 L1201.65 1527.18 L1201.65 1568.04 L1195.8 1568.04 L1195.8 1562.7 Q1193.95 1565.88 1191.12 1567.44 Q1188.32 1568.97 1184.37 1568.97 Q1177.91 1568.97 1173.84 1563.81 Q1169.79 1558.65 1169.79 1550.25 Q1169.79 1541.85 1173.84 1536.69 Q1177.91 1531.54 1184.37 1531.54 Q1188.32 1531.54 1191.12 1533.1 Q1193.95 1534.62 1195.8 1537.81 M1175.84 1550.25 Q1175.84 1556.71 1178.48 1560.4 Q1181.16 1564.07 1185.8 1564.07 Q1190.45 1564.07 1193.12 1560.4 Q1195.8 1556.71 1195.8 1550.25 Q1195.8 1543.79 1193.12 1540.13 Q1190.45 1536.44 1185.8 1536.44 Q1181.16 1536.44 1178.48 1540.13 Q1175.84 1543.79 1175.84 1550.25 Z\" fill=\"#000000\" fill-rule=\"evenodd\" fill-opacity=\"1\" /><path clip-path=\"url(#clip600)\" d=\"M1229.92 1550.12 Q1222.82 1550.12 1220.08 1551.75 Q1217.35 1553.37 1217.35 1557.29 Q1217.35 1560.4 1219.38 1562.25 Q1221.45 1564.07 1224.98 1564.07 Q1229.85 1564.07 1232.78 1560.63 Q1235.74 1557.16 1235.74 1551.43 L1235.74 1550.12 L1229.92 1550.12 M1241.6 1547.71 L1241.6 1568.04 L1235.74 1568.04 L1235.74 1562.63 Q1233.74 1565.88 1230.75 1567.44 Q1227.75 1568.97 1223.43 1568.97 Q1217.95 1568.97 1214.7 1565.91 Q1211.49 1562.82 1211.49 1557.67 Q1211.49 1551.65 1215.5 1548.6 Q1219.54 1545.54 1227.53 1545.54 L1235.74 1545.54 L1235.74 1544.97 Q1235.74 1540.93 1233.07 1538.73 Q1230.43 1536.5 1225.62 1536.5 Q1222.57 1536.5 1219.67 1537.23 Q1216.77 1537.97 1214.1 1539.43 L1214.1 1534.02 Q1217.31 1532.78 1220.34 1532.17 Q1223.36 1531.54 1226.23 1531.54 Q1233.96 1531.54 1237.78 1535.55 Q1241.6 1539.56 1241.6 1547.71 Z\" fill=\"#000000\" fill-rule=\"evenodd\" fill-opacity=\"1\" /><path clip-path=\"url(#clip600)\" d=\"M1253.06 1553.98 L1253.06 1532.4 L1258.91 1532.4 L1258.91 1553.75 Q1258.91 1558.81 1260.89 1561.36 Q1262.86 1563.87 1266.81 1563.87 Q1271.55 1563.87 1274.29 1560.85 Q1277.06 1557.83 1277.06 1552.61 L1277.06 1532.4 L1282.91 1532.4 L1282.91 1568.04 L1277.06 1568.04 L1277.06 1562.57 Q1274.92 1565.82 1272.09 1567.41 Q1269.29 1568.97 1265.57 1568.97 Q1259.42 1568.97 1256.24 1565.15 Q1253.06 1561.33 1253.06 1553.98 M1267.79 1531.54 L1267.79 1531.54 Z\" fill=\"#000000\" fill-rule=\"evenodd\" fill-opacity=\"1\" /><path clip-path=\"url(#clip600)\" d=\"M1321.49 1522.27 L1321.49 1532.4 L1333.55 1532.4 L1333.55 1536.95 L1321.49 1536.95 L1321.49 1556.3 Q1321.49 1560.66 1322.67 1561.9 Q1323.88 1563.14 1327.54 1563.14 L1333.55 1563.14 L1333.55 1568.04 L1327.54 1568.04 Q1320.76 1568.04 1318.18 1565.53 Q1315.6 1562.98 1315.6 1556.3 L1315.6 1536.95 L1311.3 1536.95 L1311.3 1532.4 L1315.6 1532.4 L1315.6 1522.27 L1321.49 1522.27 Z\" fill=\"#000000\" fill-rule=\"evenodd\" fill-opacity=\"1\" /><path clip-path=\"url(#clip600)\" d=\"M1341.25 1532.4 L1347.11 1532.4 L1347.11 1568.04 L1341.25 1568.04 L1341.25 1532.4 M1341.25 1518.52 L1347.11 1518.52 L1347.11 1525.93 L1341.25 1525.93 L1341.25 1518.52 Z\" fill=\"#000000\" fill-rule=\"evenodd\" fill-opacity=\"1\" /><path clip-path=\"url(#clip600)\" d=\"M1387.12 1539.24 Q1389.32 1535.29 1392.37 1533.41 Q1395.43 1531.54 1399.56 1531.54 Q1405.13 1531.54 1408.16 1535.45 Q1411.18 1539.33 1411.18 1546.53 L1411.18 1568.04 L1405.29 1568.04 L1405.29 1546.72 Q1405.29 1541.59 1403.48 1539.11 Q1401.66 1536.63 1397.94 1536.63 Q1393.39 1536.63 1390.75 1539.65 Q1388.11 1542.68 1388.11 1547.9 L1388.11 1568.04 L1382.22 1568.04 L1382.22 1546.72 Q1382.22 1541.56 1380.4 1539.11 Q1378.59 1536.63 1374.8 1536.63 Q1370.31 1536.63 1367.67 1539.68 Q1365.03 1542.71 1365.03 1547.9 L1365.03 1568.04 L1359.14 1568.04 L1359.14 1532.4 L1365.03 1532.4 L1365.03 1537.93 Q1367.04 1534.66 1369.84 1533.1 Q1372.64 1531.54 1376.49 1531.54 Q1380.37 1531.54 1383.08 1533.51 Q1385.81 1535.48 1387.12 1539.24 Z\" fill=\"#000000\" fill-rule=\"evenodd\" fill-opacity=\"1\" /><path clip-path=\"url(#clip600)\" d=\"M1424.36 1559.96 L1431.07 1559.96 L1431.07 1565.43 L1425.85 1575.62 L1421.75 1575.62 L1424.36 1565.43 L1424.36 1559.96 Z\" fill=\"#000000\" fill-rule=\"evenodd\" fill-opacity=\"1\" /><path clip-path=\"url(#clip600)\" d=\"M1445.52 1562.63 L1456.03 1562.63 L1456.03 1526.38 L1444.6 1528.67 L1444.6 1522.82 L1455.96 1520.52 L1462.39 1520.52 L1462.39 1562.63 L1472.9 1562.63 L1472.9 1568.04 L1445.52 1568.04 L1445.52 1562.63 Z\" fill=\"#000000\" fill-rule=\"evenodd\" fill-opacity=\"1\" /><path clip-path=\"url(#clip600)\" d=\"M1482.1 1547.58 L1499.25 1547.58 L1499.25 1552.8 L1482.1 1552.8 L1482.1 1547.58 Z\" fill=\"#000000\" fill-rule=\"evenodd\" fill-opacity=\"1\" /><path clip-path=\"url(#clip600)\" d=\"M1512.94 1545.35 L1512.94 1562.76 L1523.25 1562.76 Q1528.44 1562.76 1530.92 1560.63 Q1533.44 1558.46 1533.44 1554.04 Q1533.44 1549.58 1530.92 1547.48 Q1528.44 1545.35 1523.25 1545.35 L1512.94 1545.35 M1512.94 1525.81 L1512.94 1540.13 L1522.45 1540.13 Q1527.16 1540.13 1529.46 1538.38 Q1531.78 1536.6 1531.78 1532.97 Q1531.78 1529.37 1529.46 1527.59 Q1527.16 1525.81 1522.45 1525.81 L1512.94 1525.81 M1506.51 1520.52 L1522.93 1520.52 Q1530.28 1520.52 1534.26 1523.58 Q1538.24 1526.63 1538.24 1532.27 Q1538.24 1536.63 1536.2 1539.21 Q1534.17 1541.79 1530.22 1542.42 Q1534.96 1543.44 1537.57 1546.69 Q1540.21 1549.9 1540.21 1554.74 Q1540.21 1561.11 1535.89 1564.57 Q1531.56 1568.04 1523.57 1568.04 L1506.51 1568.04 L1506.51 1520.52 Z\" fill=\"#000000\" fill-rule=\"evenodd\" fill-opacity=\"1\" /><path clip-path=\"url(#clip600)\" d=\"M1550.97 1532.4 L1556.83 1532.4 L1556.83 1568.04 L1550.97 1568.04 L1550.97 1532.4 M1550.97 1518.52 L1556.83 1518.52 L1556.83 1525.93 L1550.97 1525.93 L1550.97 1518.52 M1550.91 1572.53 L1556.77 1572.53 L1556.77 1579.98 L1550.91 1579.98 L1550.91 1572.53 Z\" fill=\"#000000\" fill-rule=\"evenodd\" fill-opacity=\"1\" /><path clip-path=\"url(#clip600)\" d=\"M1613.26 1537.81 L1613.26 1527.18 L1602.88 1527.18 L1602.88 1523.2 L1613.26 1523.2 L1613.26 1518.52 L1619.12 1518.52 L1619.12 1523.2 L1624.02 1523.2 L1624.02 1527.18 L1619.12 1527.18 L1619.12 1568.04 L1613.26 1568.04 L1613.26 1562.7 Q1611.41 1565.88 1608.58 1567.44 Q1605.78 1568.97 1601.83 1568.97 Q1595.37 1568.97 1591.3 1563.81 Q1587.26 1558.65 1587.26 1550.25 Q1587.26 1541.85 1591.3 1536.69 Q1595.37 1531.54 1601.83 1531.54 Q1605.78 1531.54 1608.58 1533.1 Q1611.41 1534.62 1613.26 1537.81 M1593.3 1550.25 Q1593.3 1556.71 1595.95 1560.4 Q1598.62 1564.07 1603.27 1564.07 Q1607.91 1564.07 1610.59 1560.4 Q1613.26 1556.71 1613.26 1550.25 Q1613.26 1543.79 1610.59 1540.13 Q1607.91 1536.44 1603.27 1536.44 Q1598.62 1536.44 1595.95 1540.13 Q1593.3 1543.79 1593.3 1550.25 Z\" fill=\"#000000\" fill-rule=\"evenodd\" fill-opacity=\"1\" /><path clip-path=\"url(#clip600)\" d=\"M1647.38 1550.12 Q1640.28 1550.12 1637.55 1551.75 Q1634.81 1553.37 1634.81 1557.29 Q1634.81 1560.4 1636.85 1562.25 Q1638.91 1564.07 1642.45 1564.07 Q1647.32 1564.07 1650.25 1560.63 Q1653.21 1557.16 1653.21 1551.43 L1653.21 1550.12 L1647.38 1550.12 M1659.06 1547.71 L1659.06 1568.04 L1653.21 1568.04 L1653.21 1562.63 Q1651.2 1565.88 1648.21 1567.44 Q1645.22 1568.97 1640.89 1568.97 Q1635.41 1568.97 1632.17 1565.91 Q1628.95 1562.82 1628.95 1557.67 Q1628.95 1551.65 1632.96 1548.6 Q1637.01 1545.54 1644.99 1545.54 L1653.21 1545.54 L1653.21 1544.97 Q1653.21 1540.93 1650.53 1538.73 Q1647.89 1536.5 1643.08 1536.5 Q1640.03 1536.5 1637.13 1537.23 Q1634.24 1537.97 1631.56 1539.43 L1631.56 1534.02 Q1634.78 1532.78 1637.8 1532.17 Q1640.82 1531.54 1643.69 1531.54 Q1651.42 1531.54 1655.24 1535.55 Q1659.06 1539.56 1659.06 1547.71 Z\" fill=\"#000000\" fill-rule=\"evenodd\" fill-opacity=\"1\" /><path clip-path=\"url(#clip600)\" d=\"M1670.52 1553.98 L1670.52 1532.4 L1676.38 1532.4 L1676.38 1553.75 Q1676.38 1558.81 1678.35 1561.36 Q1680.32 1563.87 1684.27 1563.87 Q1689.01 1563.87 1691.75 1560.85 Q1694.52 1557.83 1694.52 1552.61 L1694.52 1532.4 L1700.38 1532.4 L1700.38 1568.04 L1694.52 1568.04 L1694.52 1562.57 Q1692.39 1565.82 1689.55 1567.41 Q1686.75 1568.97 1683.03 1568.97 Q1676.89 1568.97 1673.7 1565.15 Q1670.52 1561.33 1670.52 1553.98 M1685.26 1531.54 L1685.26 1531.54 Z\" fill=\"#000000\" fill-rule=\"evenodd\" fill-opacity=\"1\" /><path clip-path=\"url(#clip600)\" d=\"M1738.95 1522.27 L1738.95 1532.4 L1751.01 1532.4 L1751.01 1536.95 L1738.95 1536.95 L1738.95 1556.3 Q1738.95 1560.66 1740.13 1561.9 Q1741.34 1563.14 1745 1563.14 L1751.01 1563.14 L1751.01 1568.04 L1745 1568.04 Q1738.22 1568.04 1735.64 1565.53 Q1733.06 1562.98 1733.06 1556.3 L1733.06 1536.95 L1728.77 1536.95 L1728.77 1532.4 L1733.06 1532.4 L1733.06 1522.27 L1738.95 1522.27 Z\" fill=\"#000000\" fill-rule=\"evenodd\" fill-opacity=\"1\" /><path clip-path=\"url(#clip600)\" d=\"M1758.72 1532.4 L1764.57 1532.4 L1764.57 1568.04 L1758.72 1568.04 L1758.72 1532.4 M1758.72 1518.52 L1764.57 1518.52 L1764.57 1525.93 L1758.72 1525.93 L1758.72 1518.52 Z\" fill=\"#000000\" fill-rule=\"evenodd\" fill-opacity=\"1\" /><path clip-path=\"url(#clip600)\" d=\"M1804.58 1539.24 Q1806.78 1535.29 1809.83 1533.41 Q1812.89 1531.54 1817.03 1531.54 Q1822.6 1531.54 1825.62 1535.45 Q1828.64 1539.33 1828.64 1546.53 L1828.64 1568.04 L1822.76 1568.04 L1822.76 1546.72 Q1822.76 1541.59 1820.94 1539.11 Q1819.13 1536.63 1815.4 1536.63 Q1810.85 1536.63 1808.21 1539.65 Q1805.57 1542.68 1805.57 1547.9 L1805.57 1568.04 L1799.68 1568.04 L1799.68 1546.72 Q1799.68 1541.56 1797.87 1539.11 Q1796.05 1536.63 1792.26 1536.63 Q1787.78 1536.63 1785.14 1539.68 Q1782.49 1542.71 1782.49 1547.9 L1782.49 1568.04 L1776.61 1568.04 L1776.61 1532.4 L1782.49 1532.4 L1782.49 1537.93 Q1784.5 1534.66 1787.3 1533.1 Q1790.1 1531.54 1793.95 1531.54 Q1797.83 1531.54 1800.54 1533.51 Q1803.28 1535.48 1804.58 1539.24 Z\" fill=\"#000000\" fill-rule=\"evenodd\" fill-opacity=\"1\" /><polyline clip-path=\"url(#clip602)\" style=\"stroke:#000000; stroke-linecap:butt; stroke-linejoin:round; stroke-width:2; stroke-opacity:0.1; fill:none\" points=\"\n",
       "  232.389,1386.4 2352.76,1386.4 \n",
       "  \"/>\n",
       "<polyline clip-path=\"url(#clip602)\" style=\"stroke:#000000; stroke-linecap:butt; stroke-linejoin:round; stroke-width:2; stroke-opacity:0.1; fill:none\" points=\"\n",
       "  232.389,1007.96 2352.76,1007.96 \n",
       "  \"/>\n",
       "<polyline clip-path=\"url(#clip602)\" style=\"stroke:#000000; stroke-linecap:butt; stroke-linejoin:round; stroke-width:2; stroke-opacity:0.1; fill:none\" points=\"\n",
       "  232.389,629.52 2352.76,629.52 \n",
       "  \"/>\n",
       "<polyline clip-path=\"url(#clip602)\" style=\"stroke:#000000; stroke-linecap:butt; stroke-linejoin:round; stroke-width:2; stroke-opacity:0.1; fill:none\" points=\"\n",
       "  232.389,251.081 2352.76,251.081 \n",
       "  \"/>\n",
       "<polyline clip-path=\"url(#clip600)\" style=\"stroke:#000000; stroke-linecap:butt; stroke-linejoin:round; stroke-width:4; stroke-opacity:1; fill:none\" points=\"\n",
       "  232.389,1423.18 232.389,123.472 \n",
       "  \"/>\n",
       "<polyline clip-path=\"url(#clip600)\" style=\"stroke:#000000; stroke-linecap:butt; stroke-linejoin:round; stroke-width:4; stroke-opacity:1; fill:none\" points=\"\n",
       "  232.389,1386.4 251.287,1386.4 \n",
       "  \"/>\n",
       "<polyline clip-path=\"url(#clip600)\" style=\"stroke:#000000; stroke-linecap:butt; stroke-linejoin:round; stroke-width:4; stroke-opacity:1; fill:none\" points=\"\n",
       "  232.389,1007.96 251.287,1007.96 \n",
       "  \"/>\n",
       "<polyline clip-path=\"url(#clip600)\" style=\"stroke:#000000; stroke-linecap:butt; stroke-linejoin:round; stroke-width:4; stroke-opacity:1; fill:none\" points=\"\n",
       "  232.389,629.52 251.287,629.52 \n",
       "  \"/>\n",
       "<polyline clip-path=\"url(#clip600)\" style=\"stroke:#000000; stroke-linecap:butt; stroke-linejoin:round; stroke-width:4; stroke-opacity:1; fill:none\" points=\"\n",
       "  232.389,251.081 251.287,251.081 \n",
       "  \"/>\n",
       "<path clip-path=\"url(#clip600)\" d=\"M184.445 1372.19 Q180.834 1372.19 179.005 1375.76 Q177.2 1379.3 177.2 1386.43 Q177.2 1393.54 179.005 1397.1 Q180.834 1400.64 184.445 1400.64 Q188.079 1400.64 189.885 1397.1 Q191.713 1393.54 191.713 1386.43 Q191.713 1379.3 189.885 1375.76 Q188.079 1372.19 184.445 1372.19 M184.445 1368.49 Q190.255 1368.49 193.311 1373.1 Q196.389 1377.68 196.389 1386.43 Q196.389 1395.16 193.311 1399.76 Q190.255 1404.35 184.445 1404.35 Q178.635 1404.35 175.556 1399.76 Q172.501 1395.16 172.501 1386.43 Q172.501 1377.68 175.556 1373.1 Q178.635 1368.49 184.445 1368.49 Z\" fill=\"#000000\" fill-rule=\"evenodd\" fill-opacity=\"1\" /><path clip-path=\"url(#clip600)\" d=\"M144.329 990.678 L162.686 990.678 L162.686 994.613 L148.612 994.613 L148.612 1003.08 Q149.63 1002.74 150.649 1002.58 Q151.667 1002.39 152.686 1002.39 Q158.473 1002.39 161.852 1005.56 Q165.232 1008.73 165.232 1014.15 Q165.232 1019.73 161.76 1022.83 Q158.288 1025.91 151.968 1025.91 Q149.792 1025.91 147.524 1025.54 Q145.279 1025.17 142.871 1024.43 L142.871 1019.73 Q144.954 1020.86 147.177 1021.42 Q149.399 1021.97 151.876 1021.97 Q155.88 1021.97 158.218 1019.87 Q160.556 1017.76 160.556 1014.15 Q160.556 1010.54 158.218 1008.43 Q155.88 1006.33 151.876 1006.33 Q150.001 1006.33 148.126 1006.74 Q146.274 1007.16 144.329 1008.04 L144.329 990.678 Z\" fill=\"#000000\" fill-rule=\"evenodd\" fill-opacity=\"1\" /><path clip-path=\"url(#clip600)\" d=\"M184.445 993.756 Q180.834 993.756 179.005 997.321 Q177.2 1000.86 177.2 1007.99 Q177.2 1015.1 179.005 1018.66 Q180.834 1022.21 184.445 1022.21 Q188.079 1022.21 189.885 1018.66 Q191.713 1015.1 191.713 1007.99 Q191.713 1000.86 189.885 997.321 Q188.079 993.756 184.445 993.756 M184.445 990.053 Q190.255 990.053 193.311 994.659 Q196.389 999.242 196.389 1007.99 Q196.389 1016.72 193.311 1021.33 Q190.255 1025.91 184.445 1025.91 Q178.635 1025.91 175.556 1021.33 Q172.501 1016.72 172.501 1007.99 Q172.501 999.242 175.556 994.659 Q178.635 990.053 184.445 990.053 Z\" fill=\"#000000\" fill-rule=\"evenodd\" fill-opacity=\"1\" /><path clip-path=\"url(#clip600)\" d=\"M114.931 642.864 L122.57 642.864 L122.57 616.499 L114.26 618.165 L114.26 613.906 L122.524 612.24 L127.2 612.24 L127.2 642.864 L134.839 642.864 L134.839 646.8 L114.931 646.8 L114.931 642.864 Z\" fill=\"#000000\" fill-rule=\"evenodd\" fill-opacity=\"1\" /><path clip-path=\"url(#clip600)\" d=\"M154.283 615.318 Q150.672 615.318 148.843 618.883 Q147.038 622.425 147.038 629.554 Q147.038 636.661 148.843 640.225 Q150.672 643.767 154.283 643.767 Q157.917 643.767 159.723 640.225 Q161.552 636.661 161.552 629.554 Q161.552 622.425 159.723 618.883 Q157.917 615.318 154.283 615.318 M154.283 611.615 Q160.093 611.615 163.149 616.221 Q166.227 620.804 166.227 629.554 Q166.227 638.281 163.149 642.888 Q160.093 647.471 154.283 647.471 Q148.473 647.471 145.394 642.888 Q142.339 638.281 142.339 629.554 Q142.339 620.804 145.394 616.221 Q148.473 611.615 154.283 611.615 Z\" fill=\"#000000\" fill-rule=\"evenodd\" fill-opacity=\"1\" /><path clip-path=\"url(#clip600)\" d=\"M184.445 615.318 Q180.834 615.318 179.005 618.883 Q177.2 622.425 177.2 629.554 Q177.2 636.661 179.005 640.225 Q180.834 643.767 184.445 643.767 Q188.079 643.767 189.885 640.225 Q191.713 636.661 191.713 629.554 Q191.713 622.425 189.885 618.883 Q188.079 615.318 184.445 615.318 M184.445 611.615 Q190.255 611.615 193.311 616.221 Q196.389 620.804 196.389 629.554 Q196.389 638.281 193.311 642.888 Q190.255 647.471 184.445 647.471 Q178.635 647.471 175.556 642.888 Q172.501 638.281 172.501 629.554 Q172.501 620.804 175.556 616.221 Q178.635 611.615 184.445 611.615 Z\" fill=\"#000000\" fill-rule=\"evenodd\" fill-opacity=\"1\" /><path clip-path=\"url(#clip600)\" d=\"M114.931 264.426 L122.57 264.426 L122.57 238.061 L114.26 239.727 L114.26 235.468 L122.524 233.801 L127.2 233.801 L127.2 264.426 L134.839 264.426 L134.839 268.361 L114.931 268.361 L114.931 264.426 Z\" fill=\"#000000\" fill-rule=\"evenodd\" fill-opacity=\"1\" /><path clip-path=\"url(#clip600)\" d=\"M144.329 233.801 L162.686 233.801 L162.686 237.737 L148.612 237.737 L148.612 246.209 Q149.63 245.862 150.649 245.7 Q151.667 245.514 152.686 245.514 Q158.473 245.514 161.852 248.686 Q165.232 251.857 165.232 257.274 Q165.232 262.852 161.76 265.954 Q158.288 269.033 151.968 269.033 Q149.792 269.033 147.524 268.662 Q145.279 268.292 142.871 267.551 L142.871 262.852 Q144.954 263.986 147.177 264.542 Q149.399 265.098 151.876 265.098 Q155.88 265.098 158.218 262.991 Q160.556 260.885 160.556 257.274 Q160.556 253.662 158.218 251.556 Q155.88 249.45 151.876 249.45 Q150.001 249.45 148.126 249.866 Q146.274 250.283 144.329 251.162 L144.329 233.801 Z\" fill=\"#000000\" fill-rule=\"evenodd\" fill-opacity=\"1\" /><path clip-path=\"url(#clip600)\" d=\"M184.445 236.88 Q180.834 236.88 179.005 240.445 Q177.2 243.987 177.2 251.116 Q177.2 258.223 179.005 261.787 Q180.834 265.329 184.445 265.329 Q188.079 265.329 189.885 261.787 Q191.713 258.223 191.713 251.116 Q191.713 243.987 189.885 240.445 Q188.079 236.88 184.445 236.88 M184.445 233.176 Q190.255 233.176 193.311 237.783 Q196.389 242.366 196.389 251.116 Q196.389 259.843 193.311 264.449 Q190.255 269.033 184.445 269.033 Q178.635 269.033 175.556 264.449 Q172.501 259.843 172.501 251.116 Q172.501 242.366 175.556 237.783 Q178.635 233.176 184.445 233.176 Z\" fill=\"#000000\" fill-rule=\"evenodd\" fill-opacity=\"1\" /><path clip-path=\"url(#clip600)\" d=\"M29.4065 881.543 L34.9447 881.543 Q33.6716 884.026 33.035 886.699 Q32.3984 889.373 32.3984 892.237 Q32.3984 896.598 33.7352 898.794 Q35.072 900.958 37.7456 900.958 Q39.7826 900.958 40.9603 899.399 Q42.1061 897.839 43.1565 893.129 L43.6021 891.123 Q44.9389 884.885 47.3897 882.275 Q49.8086 879.633 54.1691 879.633 Q59.1344 879.633 62.0308 883.58 Q64.9272 887.495 64.9272 894.37 Q64.9272 897.234 64.3543 900.354 Q63.8132 903.441 62.6992 906.879 L56.6518 906.879 Q58.3387 903.632 59.198 900.481 Q60.0256 897.33 60.0256 894.243 Q60.0256 890.105 58.6251 887.877 Q57.1929 885.649 54.6147 885.649 Q52.2276 885.649 50.9545 887.272 Q49.6813 888.864 48.5037 894.306 L48.0262 896.343 Q46.8804 901.786 44.5251 904.205 Q42.138 906.624 38.0002 906.624 Q32.9713 906.624 30.2341 903.059 Q27.4968 899.494 27.4968 892.938 Q27.4968 889.691 27.9743 886.827 Q28.4517 883.962 29.4065 881.543 Z\" fill=\"#000000\" fill-rule=\"evenodd\" fill-opacity=\"1\" /><path clip-path=\"url(#clip600)\" d=\"M15.3702 859.518 L15.3702 853.534 L23.8365 846.818 L23.8365 851.242 L18.1711 856.526 L23.8365 861.809 L23.8365 866.233 L15.3702 859.518 M8.84531 843.19 L8.84531 837.301 L17.248 844.558 L17.248 849.428 L8.84531 843.19 M32.4621 856.494 Q32.4621 861.205 36.1542 863.942 Q39.8145 866.679 46.212 866.679 Q52.6095 866.679 56.3017 863.974 Q59.9619 861.236 59.9619 856.494 Q59.9619 851.815 56.2698 849.078 Q52.5777 846.341 46.212 846.341 Q39.8781 846.341 36.186 849.078 Q32.4621 851.815 32.4621 856.494 M27.4968 856.494 Q27.4968 848.855 32.4621 844.495 Q37.4273 840.134 46.212 840.134 Q54.9649 840.134 59.9619 844.495 Q64.9272 848.855 64.9272 856.494 Q64.9272 864.165 59.9619 868.525 Q54.9649 872.854 46.212 872.854 Q37.4273 872.854 32.4621 868.525 Q27.4968 864.165 27.4968 856.494 Z\" fill=\"#000000\" fill-rule=\"evenodd\" fill-opacity=\"1\" /><path clip-path=\"url(#clip600)\" d=\"M14.479 809.706 L14.479 803.85 L64.0042 803.85 L64.0042 809.706 L14.479 809.706 Z\" fill=\"#000000\" fill-rule=\"evenodd\" fill-opacity=\"1\" /><path clip-path=\"url(#clip600)\" d=\"M32.3666 766.228 L28.579 766.228 Q30.0113 764.287 30.7115 762.886 Q31.3799 761.486 31.3799 760.499 Q31.3799 759.035 30.5205 758.303 Q29.6293 757.571 27.9106 757.571 Q26.8921 757.571 25.9054 757.825 Q24.9187 758.048 23.932 758.526 L23.932 754.293 Q25.1415 753.974 26.2237 753.815 Q27.3059 753.656 28.2607 753.656 Q32.1438 753.656 33.9899 755.056 Q35.8041 756.425 35.8041 759.385 Q35.8041 760.913 34.9765 762.6 Q34.1172 764.255 32.3666 766.228 M49.9359 792.137 L28.3562 792.137 L28.3562 786.28 L49.7131 786.28 Q54.7739 786.28 57.3202 784.307 Q59.8346 782.333 59.8346 778.387 Q59.8346 773.644 56.8109 770.907 Q53.7872 768.138 48.5673 768.138 L28.3562 768.138 L28.3562 762.281 L64.0042 762.281 L64.0042 768.138 L58.5296 768.138 Q61.7762 770.27 63.3676 773.103 Q64.9272 775.904 64.9272 779.628 Q64.9272 785.771 61.1078 788.954 Q57.2883 792.137 49.9359 792.137 M27.4968 777.4 L27.4968 777.4 Z\" fill=\"#000000\" fill-rule=\"evenodd\" fill-opacity=\"1\" /><path clip-path=\"url(#clip600)\" d=\"M32.3666 729.689 L28.579 729.689 Q30.0113 727.748 30.7115 726.347 Q31.3799 724.947 31.3799 723.96 Q31.3799 722.496 30.5205 721.764 Q29.6293 721.032 27.9106 721.032 Q26.8921 721.032 25.9054 721.286 Q24.9187 721.509 23.932 721.987 L23.932 717.753 Q25.1415 717.435 26.2237 717.276 Q27.3059 717.117 28.2607 717.117 Q32.1438 717.117 33.9899 718.517 Q35.8041 719.886 35.8041 722.846 Q35.8041 724.374 34.9765 726.061 Q34.1172 727.716 32.3666 729.689 M32.4621 736.309 Q32.4621 741.02 36.1542 743.757 Q39.8145 746.495 46.212 746.495 Q52.6095 746.495 56.3017 743.789 Q59.9619 741.052 59.9619 736.309 Q59.9619 731.631 56.2698 728.893 Q52.5777 726.156 46.212 726.156 Q39.8781 726.156 36.186 728.893 Q32.4621 731.631 32.4621 736.309 M27.4968 736.309 Q27.4968 728.671 32.4621 724.31 Q37.4273 719.95 46.212 719.95 Q54.9649 719.95 59.9619 724.31 Q64.9272 728.671 64.9272 736.309 Q64.9272 743.98 59.9619 748.341 Q54.9649 752.669 46.212 752.669 Q37.4273 752.669 32.4621 748.341 Q27.4968 743.98 27.4968 736.309 M68.492 739.46 L68.492 733.604 L75.9399 733.604 L75.9399 739.46 L68.492 739.46 Z\" fill=\"#000000\" fill-rule=\"evenodd\" fill-opacity=\"1\" /><path clip-path=\"url(#clip600)\" d=\"M42.4881 680.769 L64.0042 680.769 L64.0042 686.625 L42.679 686.625 Q37.6183 686.625 35.1038 688.598 Q32.5894 690.572 32.5894 694.519 Q32.5894 699.261 35.6131 701.998 Q38.6368 704.735 43.8567 704.735 L64.0042 704.735 L64.0042 710.624 L28.3562 710.624 L28.3562 704.735 L33.8944 704.735 Q30.6797 702.635 29.0883 699.802 Q27.4968 696.938 27.4968 693.214 Q27.4968 687.071 31.3163 683.92 Q35.1038 680.769 42.4881 680.769 Z\" fill=\"#000000\" fill-rule=\"evenodd\" fill-opacity=\"1\" /><path clip-path=\"url(#clip600)\" d=\"M45.7664 645.63 Q39.4007 645.63 35.8996 648.272 Q32.3984 650.882 32.3984 655.624 Q32.3984 660.335 35.8996 662.976 Q39.4007 665.586 45.7664 665.586 Q52.1003 665.586 55.6014 662.976 Q59.1026 660.335 59.1026 655.624 Q59.1026 650.882 55.6014 648.272 Q52.1003 645.63 45.7664 645.63 M59.58 639.773 Q68.683 639.773 73.1071 643.816 Q77.5631 647.858 77.5631 656.197 Q77.5631 659.284 77.0857 662.022 Q76.6401 664.759 75.6852 667.337 L69.9879 667.337 Q71.3884 664.759 72.0568 662.244 Q72.7252 659.73 72.7252 657.12 Q72.7252 651.359 69.7015 648.494 Q66.7096 645.63 60.6303 645.63 L57.7339 645.63 Q60.885 647.444 62.4446 650.277 Q64.0042 653.11 64.0042 657.056 Q64.0042 663.613 59.0071 667.623 Q54.01 671.634 45.7664 671.634 Q37.491 671.634 32.4939 667.623 Q27.4968 663.613 27.4968 657.056 Q27.4968 653.11 29.0564 650.277 Q30.616 647.444 33.7671 645.63 L28.3562 645.63 L28.3562 639.773 L59.58 639.773 Z\" fill=\"#000000\" fill-rule=\"evenodd\" fill-opacity=\"1\" /><path clip-path=\"url(#clip600)\" d=\"M523.873 12.096 L575.036 12.096 L575.036 18.9825 L553.566 18.9825 L553.566 72.576 L545.343 72.576 L545.343 18.9825 L523.873 18.9825 L523.873 12.096 Z\" fill=\"#000000\" fill-rule=\"evenodd\" fill-opacity=\"1\" /><path clip-path=\"url(#clip600)\" d=\"M620.325 45.1919 L620.325 72.576 L612.871 72.576 L612.871 45.4349 Q612.871 38.994 610.36 35.7938 Q607.848 32.5936 602.825 32.5936 Q596.789 32.5936 593.306 36.4419 Q589.822 40.2903 589.822 46.9338 L589.822 72.576 L582.328 72.576 L582.328 9.54393 L589.822 9.54393 L589.822 34.2544 Q592.495 30.163 596.101 28.1376 Q599.746 26.1121 604.486 26.1121 Q612.304 26.1121 616.315 30.9732 Q620.325 35.7938 620.325 45.1919 Z\" fill=\"#000000\" fill-rule=\"evenodd\" fill-opacity=\"1\" /><path clip-path=\"url(#clip600)\" d=\"M648.924 10.6782 L656.54 10.6782 L665.088 21.4536 L659.457 21.4536 L652.732 14.243 L646.008 21.4536 L640.377 21.4536 L648.924 10.6782 M669.706 2.37383 L677.2 2.37383 L667.964 13.0682 L661.766 13.0682 L669.706 2.37383 M652.773 32.4315 Q646.777 32.4315 643.294 37.1306 Q639.81 41.7891 639.81 49.9314 Q639.81 58.0738 643.253 62.7728 Q646.737 67.4314 652.773 67.4314 Q658.728 67.4314 662.211 62.7323 Q665.695 58.0333 665.695 49.9314 Q665.695 41.8701 662.211 37.1711 Q658.728 32.4315 652.773 32.4315 M652.773 26.1121 Q662.495 26.1121 668.045 32.4315 Q673.594 38.7509 673.594 49.9314 Q673.594 61.0714 668.045 67.4314 Q662.495 73.7508 652.773 73.7508 Q643.01 73.7508 637.46 67.4314 Q631.951 61.0714 631.951 49.9314 Q631.951 38.7509 637.46 32.4315 Q643.01 26.1121 652.773 26.1121 Z\" fill=\"#000000\" fill-rule=\"evenodd\" fill-opacity=\"1\" /><path clip-path=\"url(#clip600)\" d=\"M723.664 45.1919 L723.664 72.576 L716.21 72.576 L716.21 45.4349 Q716.21 38.994 713.698 35.7938 Q711.187 32.5936 706.164 32.5936 Q700.128 32.5936 696.644 36.4419 Q693.16 40.2903 693.16 46.9338 L693.16 72.576 L685.666 72.576 L685.666 27.2059 L693.16 27.2059 L693.16 34.2544 Q695.834 30.163 699.439 28.1376 Q703.085 26.1121 707.825 26.1121 Q715.643 26.1121 719.653 30.9732 Q723.664 35.7938 723.664 45.1919 Z\" fill=\"#000000\" fill-rule=\"evenodd\" fill-opacity=\"1\" /><path clip-path=\"url(#clip600)\" d=\"M768.386 49.3643 Q768.386 41.2625 765.023 36.8065 Q761.702 32.3505 755.666 32.3505 Q749.67 32.3505 746.308 36.8065 Q742.986 41.2625 742.986 49.3643 Q742.986 57.4256 746.308 61.8816 Q749.67 66.3376 755.666 66.3376 Q761.702 66.3376 765.023 61.8816 Q768.386 57.4256 768.386 49.3643 M775.839 66.9452 Q775.839 78.5308 770.695 84.1616 Q765.55 89.8329 754.937 89.8329 Q751.007 89.8329 747.523 89.2252 Q744.04 88.6581 740.758 87.4428 L740.758 80.1917 Q744.04 81.9741 747.24 82.8248 Q750.44 83.6755 753.762 83.6755 Q761.094 83.6755 764.74 79.8271 Q768.386 76.0193 768.386 68.282 L768.386 64.5957 Q766.077 68.6061 762.471 70.5911 Q758.866 72.576 753.843 72.576 Q745.498 72.576 740.394 66.2161 Q735.29 59.8562 735.29 49.3643 Q735.29 38.832 740.394 32.472 Q745.498 26.1121 753.843 26.1121 Q758.866 26.1121 762.471 28.0971 Q766.077 30.082 768.386 34.0924 L768.386 27.2059 L775.839 27.2059 L775.839 66.9452 Z\" fill=\"#000000\" fill-rule=\"evenodd\" fill-opacity=\"1\" /><path clip-path=\"url(#clip600)\" d=\"M817.28 9.54393 L824.774 9.54393 L824.774 46.7717 L847.014 27.2059 L856.533 27.2059 L832.471 48.4326 L857.546 72.576 L847.824 72.576 L824.774 50.4176 L824.774 72.576 L817.28 72.576 L817.28 9.54393 Z\" fill=\"#000000\" fill-rule=\"evenodd\" fill-opacity=\"1\" /><path clip-path=\"url(#clip600)\" d=\"M901.458 48.0275 L901.458 51.6733 L867.187 51.6733 Q867.673 59.3701 871.805 63.421 Q875.978 67.4314 883.391 67.4314 Q887.685 67.4314 891.695 66.3781 Q895.746 65.3249 899.716 63.2184 L899.716 70.267 Q895.706 71.9684 891.493 72.8596 Q887.28 73.7508 882.945 73.7508 Q872.089 73.7508 865.729 67.4314 Q859.409 61.1119 859.409 50.3365 Q859.409 39.1965 865.405 32.6746 Q871.441 26.1121 881.649 26.1121 Q890.804 26.1121 896.111 32.0264 Q901.458 37.9003 901.458 48.0275 M894.004 45.84 Q893.923 39.7232 890.561 36.0774 Q887.239 32.4315 881.73 32.4315 Q875.492 32.4315 871.724 35.9558 Q867.997 39.4801 867.43 45.8805 L894.004 45.84 M878.206 6.22219 L884.201 6.22219 L894.126 21.4536 L888.495 21.4536 L881.203 11.5289 L873.912 21.4536 L868.281 21.4536 L878.206 6.22219 Z\" fill=\"#000000\" fill-rule=\"evenodd\" fill-opacity=\"1\" /><path clip-path=\"url(#clip600)\" d=\"M968.986 28.5427 L968.986 35.5912 Q965.827 33.9709 962.424 33.1607 Q959.021 32.3505 955.375 32.3505 Q949.826 32.3505 947.03 34.0519 Q944.276 35.7533 944.276 39.156 Q944.276 41.7486 946.261 43.2475 Q948.246 44.7058 954.241 46.0426 L956.793 46.6097 Q964.733 48.3111 968.055 51.4303 Q971.417 54.509 971.417 60.0587 Q971.417 66.3781 966.394 70.0644 Q961.411 73.7508 952.661 73.7508 Q949.015 73.7508 945.046 73.0216 Q941.116 72.3329 936.741 70.9151 L936.741 63.2184 Q940.873 65.3654 944.884 66.4591 Q948.894 67.5124 952.823 67.5124 Q958.089 67.5124 960.925 65.73 Q963.761 63.9071 963.761 60.6258 Q963.761 57.5877 961.695 55.9673 Q959.669 54.3469 952.742 52.8481 L950.15 52.2405 Q943.223 50.7821 940.144 47.7845 Q937.065 44.7463 937.065 39.4801 Q937.065 33.0797 941.602 29.5959 Q946.139 26.1121 954.484 26.1121 Q958.616 26.1121 962.262 26.7198 Q965.908 27.3274 968.986 28.5427 Z\" fill=\"#000000\" fill-rule=\"evenodd\" fill-opacity=\"1\" /><path clip-path=\"url(#clip600)\" d=\"M997.019 10.6782 L1004.63 10.6782 L1013.18 21.4536 L1007.55 21.4536 L1000.83 14.243 L994.102 21.4536 L988.471 21.4536 L997.019 10.6782 M1017.8 2.37383 L1025.29 2.37383 L1016.06 13.0682 L1009.86 13.0682 L1017.8 2.37383 M1000.87 32.4315 Q994.872 32.4315 991.388 37.1306 Q987.904 41.7891 987.904 49.9314 Q987.904 58.0738 991.347 62.7728 Q994.831 67.4314 1000.87 67.4314 Q1006.82 67.4314 1010.31 62.7323 Q1013.79 58.0333 1013.79 49.9314 Q1013.79 41.8701 1010.31 37.1711 Q1006.82 32.4315 1000.87 32.4315 M1000.87 26.1121 Q1010.59 26.1121 1016.14 32.4315 Q1021.69 38.7509 1021.69 49.9314 Q1021.69 61.0714 1016.14 67.4314 Q1010.59 73.7508 1000.87 73.7508 Q991.104 73.7508 985.555 67.4314 Q980.045 61.0714 980.045 49.9314 Q980.045 38.7509 985.555 32.4315 Q991.104 26.1121 1000.87 26.1121 Z\" fill=\"#000000\" fill-rule=\"evenodd\" fill-opacity=\"1\" /><path clip-path=\"url(#clip600)\" d=\"M1060.42 9.54393 L1067.87 9.54393 L1067.87 72.576 L1060.42 72.576 L1060.42 9.54393 Z\" fill=\"#000000\" fill-rule=\"evenodd\" fill-opacity=\"1\" /><path clip-path=\"url(#clip600)\" d=\"M1115.75 32.31 L1115.75 27.4894 Q1118.22 29.3123 1120 30.2035 Q1121.79 31.0542 1123.04 31.0542 Q1124.91 31.0542 1125.84 29.9605 Q1126.77 28.8262 1126.77 26.6387 Q1126.77 25.3425 1126.45 24.0867 Q1126.16 22.8309 1125.55 21.5751 L1130.94 21.5751 Q1131.35 23.1145 1131.55 24.4918 Q1131.75 25.8691 1131.75 27.0843 Q1131.75 32.0264 1129.97 34.376 Q1128.23 36.685 1124.46 36.685 Q1122.52 36.685 1120.37 35.6318 Q1118.26 34.538 1115.75 32.31 M1082.78 54.671 L1082.78 27.2059 L1090.23 27.2059 L1090.23 54.3874 Q1090.23 60.8284 1092.74 64.0691 Q1095.25 67.2693 1100.28 67.2693 Q1106.31 67.2693 1109.8 63.421 Q1113.32 59.5726 1113.32 52.9291 L1113.32 27.2059 L1120.77 27.2059 L1120.77 72.576 L1113.32 72.576 L1113.32 65.6084 Q1110.61 69.7404 1107 71.7658 Q1103.44 73.7508 1098.7 73.7508 Q1090.88 73.7508 1086.83 68.8897 Q1082.78 64.0286 1082.78 54.671 M1101.53 26.1121 L1101.53 26.1121 Z\" fill=\"#000000\" fill-rule=\"evenodd\" fill-opacity=\"1\" /><path clip-path=\"url(#clip600)\" d=\"M1162.26 32.31 L1162.26 27.4894 Q1164.73 29.3123 1166.51 30.2035 Q1168.29 31.0542 1169.55 31.0542 Q1171.41 31.0542 1172.34 29.9605 Q1173.27 28.8262 1173.27 26.6387 Q1173.27 25.3425 1172.95 24.0867 Q1172.67 22.8309 1172.06 21.5751 L1177.45 21.5751 Q1177.85 23.1145 1178.05 24.4918 Q1178.26 25.8691 1178.26 27.0843 Q1178.26 32.0264 1176.47 34.376 Q1174.73 36.685 1170.96 36.685 Q1169.02 36.685 1166.87 35.6318 Q1164.77 34.538 1162.26 32.31 M1153.83 32.4315 Q1147.83 32.4315 1144.35 37.1306 Q1140.87 41.7891 1140.87 49.9314 Q1140.87 58.0738 1144.31 62.7728 Q1147.79 67.4314 1153.83 67.4314 Q1159.78 67.4314 1163.27 62.7323 Q1166.75 58.0333 1166.75 49.9314 Q1166.75 41.8701 1163.27 37.1711 Q1159.78 32.4315 1153.83 32.4315 M1153.83 26.1121 Q1163.55 26.1121 1169.1 32.4315 Q1174.65 38.7509 1174.65 49.9314 Q1174.65 61.0714 1169.1 67.4314 Q1163.55 73.7508 1153.83 73.7508 Q1144.07 73.7508 1138.52 67.4314 Q1133.01 61.0714 1133.01 49.9314 Q1133.01 38.7509 1138.52 32.4315 Q1144.07 26.1121 1153.83 26.1121 M1149.82 78.2878 L1157.27 78.2878 L1157.27 87.7669 L1149.82 87.7669 L1149.82 78.2878 Z\" fill=\"#000000\" fill-rule=\"evenodd\" fill-opacity=\"1\" /><path clip-path=\"url(#clip600)\" d=\"M1224.52 45.1919 L1224.52 72.576 L1217.06 72.576 L1217.06 45.4349 Q1217.06 38.994 1214.55 35.7938 Q1212.04 32.5936 1207.02 32.5936 Q1200.98 32.5936 1197.5 36.4419 Q1194.01 40.2903 1194.01 46.9338 L1194.01 72.576 L1186.52 72.576 L1186.52 27.2059 L1194.01 27.2059 L1194.01 34.2544 Q1196.69 30.163 1200.29 28.1376 Q1203.94 26.1121 1208.68 26.1121 Q1216.5 26.1121 1220.51 30.9732 Q1224.52 35.7938 1224.52 45.1919 Z\" fill=\"#000000\" fill-rule=\"evenodd\" fill-opacity=\"1\" /><path clip-path=\"url(#clip600)\" d=\"M1269.24 49.3643 Q1269.24 41.2625 1265.88 36.8065 Q1262.56 32.3505 1256.52 32.3505 Q1250.52 32.3505 1247.16 36.8065 Q1243.84 41.2625 1243.84 49.3643 Q1243.84 57.4256 1247.16 61.8816 Q1250.52 66.3376 1256.52 66.3376 Q1262.56 66.3376 1265.88 61.8816 Q1269.24 57.4256 1269.24 49.3643 M1276.69 66.9452 Q1276.69 78.5308 1271.55 84.1616 Q1266.4 89.8329 1255.79 89.8329 Q1251.86 89.8329 1248.38 89.2252 Q1244.89 88.6581 1241.61 87.4428 L1241.61 80.1917 Q1244.89 81.9741 1248.09 82.8248 Q1251.29 83.6755 1254.62 83.6755 Q1261.95 83.6755 1265.59 79.8271 Q1269.24 76.0193 1269.24 68.282 L1269.24 64.5957 Q1266.93 68.6061 1263.33 70.5911 Q1259.72 72.576 1254.7 72.576 Q1246.35 72.576 1241.25 66.2161 Q1236.14 59.8562 1236.14 49.3643 Q1236.14 38.832 1241.25 32.472 Q1246.35 26.1121 1254.7 26.1121 Q1259.72 26.1121 1263.33 28.0971 Q1266.93 30.082 1269.24 34.0924 L1269.24 27.2059 L1276.69 27.2059 L1276.69 66.9452 Z\" fill=\"#000000\" fill-rule=\"evenodd\" fill-opacity=\"1\" /><path clip-path=\"url(#clip600)\" d=\"M1353.74 35.9153 Q1356.54 30.8922 1360.43 28.5022 Q1364.31 26.1121 1369.58 26.1121 Q1376.67 26.1121 1380.52 31.0947 Q1384.37 36.0368 1384.37 45.1919 L1384.37 72.576 L1376.87 72.576 L1376.87 45.4349 Q1376.87 38.913 1374.56 35.7533 Q1372.25 32.5936 1367.51 32.5936 Q1361.72 32.5936 1358.36 36.4419 Q1355 40.2903 1355 46.9338 L1355 72.576 L1347.5 72.576 L1347.5 45.4349 Q1347.5 38.8725 1345.19 35.7533 Q1342.88 32.5936 1338.06 32.5936 Q1332.35 32.5936 1328.99 36.4824 Q1325.63 40.3308 1325.63 46.9338 L1325.63 72.576 L1318.13 72.576 L1318.13 27.2059 L1325.63 27.2059 L1325.63 34.2544 Q1328.18 30.082 1331.74 28.0971 Q1335.31 26.1121 1340.21 26.1121 Q1345.15 26.1121 1348.6 28.6237 Q1352.08 31.1352 1353.74 35.9153 Z\" fill=\"#000000\" fill-rule=\"evenodd\" fill-opacity=\"1\" /><path clip-path=\"url(#clip600)\" d=\"M1402.6 10.9212 L1407.38 10.9212 Q1407.9 13.1087 1409.89 14.2835 Q1411.91 15.4177 1415.27 15.4177 Q1418.6 15.4177 1420.54 14.324 Q1422.53 13.1897 1423.17 10.9212 L1427.95 10.9212 Q1427.55 15.7418 1424.31 18.2534 Q1421.07 20.7244 1415.27 20.7244 Q1409.44 20.7244 1406.2 18.2534 Q1403 15.7823 1402.6 10.9212 M1419.61 -0.17824 L1427.1 -0.17824 L1417.87 10.5161 L1411.67 10.5161 L1419.61 -0.17824 M1419.85 49.7694 Q1410.82 49.7694 1407.33 51.8354 Q1403.85 53.9013 1403.85 58.8839 Q1403.85 62.8538 1406.44 65.2034 Q1409.08 67.5124 1413.57 67.5124 Q1419.77 67.5124 1423.5 63.1374 Q1427.27 58.7219 1427.27 51.4303 L1427.27 49.7694 L1419.85 49.7694 M1434.72 46.6907 L1434.72 72.576 L1427.27 72.576 L1427.27 65.6895 Q1424.71 69.8214 1420.91 71.8063 Q1417.1 73.7508 1411.59 73.7508 Q1404.62 73.7508 1400.49 69.8619 Q1396.4 65.9325 1396.4 59.3701 Q1396.4 51.7138 1401.5 47.825 Q1406.65 43.9361 1416.81 43.9361 L1427.27 43.9361 L1427.27 43.2069 Q1427.27 38.0623 1423.86 35.2672 Q1420.5 32.4315 1414.38 32.4315 Q1410.49 32.4315 1406.81 33.3632 Q1403.12 34.295 1399.72 36.1584 L1399.72 29.2718 Q1403.81 27.692 1407.66 26.9223 Q1411.51 26.1121 1415.15 26.1121 Q1425 26.1121 1429.86 31.2163 Q1434.72 36.3204 1434.72 46.6907 Z\" fill=\"#000000\" fill-rule=\"evenodd\" fill-opacity=\"1\" /><path clip-path=\"url(#clip600)\" d=\"M1482.72 28.9478 L1482.72 35.9153 Q1479.56 34.1734 1476.36 33.3227 Q1473.2 32.4315 1469.96 32.4315 Q1462.71 32.4315 1458.7 37.0496 Q1454.69 41.6271 1454.69 49.9314 Q1454.69 58.2358 1458.7 62.8538 Q1462.71 67.4314 1469.96 67.4314 Q1473.2 67.4314 1476.36 66.5807 Q1479.56 65.6895 1482.72 63.9476 L1482.72 70.8341 Q1479.6 72.2924 1476.24 73.0216 Q1472.92 73.7508 1469.15 73.7508 Q1458.9 73.7508 1452.87 67.3098 Q1446.83 60.8689 1446.83 49.9314 Q1446.83 38.832 1452.91 32.472 Q1459.02 26.1121 1469.64 26.1121 Q1473.08 26.1121 1476.36 26.8413 Q1479.64 27.5299 1482.72 28.9478 Z\" fill=\"#000000\" fill-rule=\"evenodd\" fill-opacity=\"1\" /><path clip-path=\"url(#clip600)\" d=\"M1554.63 49.9314 Q1554.63 41.7081 1551.22 37.0496 Q1547.86 32.3505 1541.95 32.3505 Q1536.03 32.3505 1532.63 37.0496 Q1529.27 41.7081 1529.27 49.9314 Q1529.27 58.1548 1532.63 62.8538 Q1536.03 67.5124 1541.95 67.5124 Q1547.86 67.5124 1551.22 62.8538 Q1554.63 58.1548 1554.63 49.9314 M1529.27 34.0924 Q1531.62 30.0415 1535.18 28.0971 Q1538.79 26.1121 1543.77 26.1121 Q1552.03 26.1121 1557.18 32.6746 Q1562.36 39.2371 1562.36 49.9314 Q1562.36 60.6258 1557.18 67.1883 Q1552.03 73.7508 1543.77 73.7508 Q1538.79 73.7508 1535.18 71.8063 Q1531.62 69.8214 1529.27 65.7705 L1529.27 72.576 L1521.77 72.576 L1521.77 9.54393 L1529.27 9.54393 L1529.27 34.0924 Z\" fill=\"#000000\" fill-rule=\"evenodd\" fill-opacity=\"1\" /><path clip-path=\"url(#clip600)\" d=\"M1589.46 78.2878 L1596.92 78.2878 L1596.92 87.7669 L1589.46 87.7669 L1589.46 78.2878 M1613.53 48.0275 L1613.53 51.6733 L1579.26 51.6733 Q1579.74 59.3701 1583.87 63.421 Q1588.05 67.4314 1595.46 67.4314 Q1599.75 67.4314 1603.76 66.3781 Q1607.81 65.3249 1611.78 63.2184 L1611.78 70.267 Q1607.77 71.9684 1603.56 72.8596 Q1599.35 73.7508 1595.01 73.7508 Q1584.16 73.7508 1577.8 67.4314 Q1571.48 61.1119 1571.48 50.3365 Q1571.48 39.1965 1577.47 32.6746 Q1583.51 26.1121 1593.72 26.1121 Q1602.87 26.1121 1608.18 32.0264 Q1613.53 37.9003 1613.53 48.0275 M1606.07 45.84 Q1605.99 39.7232 1602.63 36.0774 Q1599.31 32.4315 1593.8 32.4315 Q1587.56 32.4315 1583.79 35.9558 Q1580.07 39.4801 1579.5 45.8805 L1606.07 45.84 M1589.46 78.2878 L1596.92 78.2878 L1596.92 87.7669 L1589.46 87.7669 L1589.46 78.2878 M1590.27 6.22219 L1596.27 6.22219 L1606.19 21.4536 L1600.56 21.4536 L1593.27 11.5289 L1585.98 21.4536 L1580.35 21.4536 L1590.27 6.22219 Z\" fill=\"#000000\" fill-rule=\"evenodd\" fill-opacity=\"1\" /><path clip-path=\"url(#clip600)\" d=\"M1663.47 45.1919 L1663.47 72.576 L1656.02 72.576 L1656.02 45.4349 Q1656.02 38.994 1653.51 35.7938 Q1651 32.5936 1645.97 32.5936 Q1639.94 32.5936 1636.45 36.4419 Q1632.97 40.2903 1632.97 46.9338 L1632.97 72.576 L1625.48 72.576 L1625.48 27.2059 L1632.97 27.2059 L1632.97 34.2544 Q1635.64 30.163 1639.25 28.1376 Q1642.89 26.1121 1647.63 26.1121 Q1655.45 26.1121 1659.46 30.9732 Q1663.47 35.7938 1663.47 45.1919 Z\" fill=\"#000000\" fill-rule=\"evenodd\" fill-opacity=\"1\" /><path clip-path=\"url(#clip600)\" d=\"M1716.05 45.1919 L1716.05 72.576 L1708.6 72.576 L1708.6 45.4349 Q1708.6 38.994 1706.09 35.7938 Q1703.58 32.5936 1698.55 32.5936 Q1692.52 32.5936 1689.03 36.4419 Q1685.55 40.2903 1685.55 46.9338 L1685.55 72.576 L1678.06 72.576 L1678.06 9.54393 L1685.55 9.54393 L1685.55 34.2544 Q1688.22 30.163 1691.83 28.1376 Q1695.48 26.1121 1700.22 26.1121 Q1708.03 26.1121 1712.04 30.9732 Q1716.05 35.7938 1716.05 45.1919 Z\" fill=\"#000000\" fill-rule=\"evenodd\" fill-opacity=\"1\" /><path clip-path=\"url(#clip600)\" d=\"M1787.15 34.0924 L1787.15 20.5624 L1773.94 20.5624 L1773.94 15.4988 L1787.15 15.4988 L1787.15 9.54393 L1794.6 9.54393 L1794.6 15.4988 L1800.84 15.4988 L1800.84 20.5624 L1794.6 20.5624 L1794.6 72.576 L1787.15 72.576 L1787.15 65.7705 Q1784.8 69.8214 1781.19 71.8063 Q1777.63 73.7508 1772.6 73.7508 Q1764.38 73.7508 1759.2 67.1883 Q1754.05 60.6258 1754.05 49.9314 Q1754.05 39.2371 1759.2 32.6746 Q1764.38 26.1121 1772.6 26.1121 Q1777.63 26.1121 1781.19 28.0971 Q1784.8 30.0415 1787.15 34.0924 M1761.75 49.9314 Q1761.75 58.1548 1765.11 62.8538 Q1768.51 67.5124 1774.43 67.5124 Q1780.34 67.5124 1783.74 62.8538 Q1787.15 58.1548 1787.15 49.9314 Q1787.15 41.7081 1783.74 37.0496 Q1780.34 32.3505 1774.43 32.3505 Q1768.51 32.3505 1765.11 37.0496 Q1761.75 41.7081 1761.75 49.9314 Z\" fill=\"#000000\" fill-rule=\"evenodd\" fill-opacity=\"1\" /><path clip-path=\"url(#clip600)\" d=\"M1830.57 49.7694 Q1821.54 49.7694 1818.06 51.8354 Q1814.57 53.9013 1814.57 58.8839 Q1814.57 62.8538 1817.16 65.2034 Q1819.8 67.5124 1824.29 67.5124 Q1830.49 67.5124 1834.22 63.1374 Q1837.99 58.7219 1837.99 51.4303 L1837.99 49.7694 L1830.57 49.7694 M1845.44 46.6907 L1845.44 72.576 L1837.99 72.576 L1837.99 65.6895 Q1835.43 69.8214 1831.63 71.8063 Q1827.82 73.7508 1822.31 73.7508 Q1815.34 73.7508 1811.21 69.8619 Q1807.12 65.9325 1807.12 59.3701 Q1807.12 51.7138 1812.22 47.825 Q1817.37 43.9361 1827.54 43.9361 L1837.99 43.9361 L1837.99 43.2069 Q1837.99 38.0623 1834.58 35.2672 Q1831.22 32.4315 1825.1 32.4315 Q1821.22 32.4315 1817.53 33.3632 Q1813.84 34.295 1810.44 36.1584 L1810.44 29.2718 Q1814.53 27.692 1818.38 26.9223 Q1822.23 26.1121 1825.87 26.1121 Q1835.72 26.1121 1840.58 31.2163 Q1845.44 36.3204 1845.44 46.6907 Z\" fill=\"#000000\" fill-rule=\"evenodd\" fill-opacity=\"1\" /><path clip-path=\"url(#clip600)\" d=\"M1860.02 54.671 L1860.02 27.2059 L1867.48 27.2059 L1867.48 54.3874 Q1867.48 60.8284 1869.99 64.0691 Q1872.5 67.2693 1877.52 67.2693 Q1883.56 67.2693 1887.04 63.421 Q1890.57 59.5726 1890.57 52.9291 L1890.57 27.2059 L1898.02 27.2059 L1898.02 72.576 L1890.57 72.576 L1890.57 65.6084 Q1887.85 69.7404 1884.25 71.7658 Q1880.68 73.7508 1875.94 73.7508 Q1868.13 73.7508 1864.07 68.8897 Q1860.02 64.0286 1860.02 54.671 M1878.78 26.1121 L1878.78 26.1121 Z\" fill=\"#000000\" fill-rule=\"evenodd\" fill-opacity=\"1\" /><path clip-path=\"url(#clip600)\" d=\"M1947.12 14.324 L1947.12 27.2059 L1962.47 27.2059 L1962.47 32.9987 L1947.12 32.9987 L1947.12 57.6282 Q1947.12 63.1779 1948.62 64.7578 Q1950.16 66.3376 1954.81 66.3376 L1962.47 66.3376 L1962.47 72.576 L1954.81 72.576 Q1946.19 72.576 1942.9 69.3758 Q1939.62 66.1351 1939.62 57.6282 L1939.62 32.9987 L1934.15 32.9987 L1934.15 27.2059 L1939.62 27.2059 L1939.62 14.324 L1947.12 14.324 Z\" fill=\"#000000\" fill-rule=\"evenodd\" fill-opacity=\"1\" /><path clip-path=\"url(#clip600)\" d=\"M1972.27 27.2059 L1979.73 27.2059 L1979.73 72.576 L1972.27 72.576 L1972.27 27.2059 M1972.27 9.54393 L1979.73 9.54393 L1979.73 18.9825 L1972.27 18.9825 L1972.27 9.54393 Z\" fill=\"#000000\" fill-rule=\"evenodd\" fill-opacity=\"1\" /><path clip-path=\"url(#clip600)\" d=\"M2030.65 35.9153 Q2033.44 30.8922 2037.33 28.5022 Q2041.22 26.1121 2046.49 26.1121 Q2053.58 26.1121 2057.42 31.0947 Q2061.27 36.0368 2061.27 45.1919 L2061.27 72.576 L2053.78 72.576 L2053.78 45.4349 Q2053.78 38.913 2051.47 35.7533 Q2049.16 32.5936 2044.42 32.5936 Q2038.63 32.5936 2035.27 36.4419 Q2031.9 40.2903 2031.9 46.9338 L2031.9 72.576 L2024.41 72.576 L2024.41 45.4349 Q2024.41 38.8725 2022.1 35.7533 Q2019.79 32.5936 2014.97 32.5936 Q2009.26 32.5936 2005.9 36.4824 Q2002.53 40.3308 2002.53 46.9338 L2002.53 72.576 L1995.04 72.576 L1995.04 27.2059 L2002.53 27.2059 L2002.53 34.2544 Q2005.09 30.082 2008.65 28.0971 Q2012.22 26.1121 2017.12 26.1121 Q2022.06 26.1121 2025.5 28.6237 Q2028.99 31.1352 2030.65 35.9153 Z\" fill=\"#000000\" fill-rule=\"evenodd\" fill-opacity=\"1\" /><path clip-path=\"url(#clip602)\" d=\"\n",
       "M349.013 160.256 L349.013 1386.4 L1187.73 1386.4 L1187.73 160.256 L349.013 160.256 L349.013 160.256  Z\n",
       "  \" fill=\"#009af9\" fill-rule=\"evenodd\" fill-opacity=\"1\"/>\n",
       "<polyline clip-path=\"url(#clip602)\" style=\"stroke:#000000; stroke-linecap:butt; stroke-linejoin:round; stroke-width:4; stroke-opacity:1; fill:none\" points=\"\n",
       "  349.013,160.256 349.013,1386.4 1187.73,1386.4 1187.73,160.256 349.013,160.256 \n",
       "  \"/>\n",
       "<path clip-path=\"url(#clip602)\" d=\"\n",
       "M1397.41 341.907 L1397.41 1386.4 L2236.13 1386.4 L2236.13 341.907 L1397.41 341.907 L1397.41 341.907  Z\n",
       "  \" fill=\"#009af9\" fill-rule=\"evenodd\" fill-opacity=\"1\"/>\n",
       "<polyline clip-path=\"url(#clip602)\" style=\"stroke:#000000; stroke-linecap:butt; stroke-linejoin:round; stroke-width:4; stroke-opacity:1; fill:none\" points=\"\n",
       "  1397.41,341.907 1397.41,1386.4 2236.13,1386.4 2236.13,341.907 1397.41,341.907 \n",
       "  \"/>\n",
       "<circle clip-path=\"url(#clip602)\" style=\"fill:#009af9; stroke:none; fill-opacity:0\" cx=\"768.373\" cy=\"160.256\" r=\"2\"/>\n",
       "<circle clip-path=\"url(#clip602)\" style=\"fill:#009af9; stroke:none; fill-opacity:0\" cx=\"1816.77\" cy=\"341.907\" r=\"2\"/>\n",
       "<path clip-path=\"url(#clip600)\" d=\"\n",
       "M1994.05 270.476 L2282.08 270.476 L2282.08 166.796 L1994.05 166.796  Z\n",
       "  \" fill=\"#ffffff\" fill-rule=\"evenodd\" fill-opacity=\"1\"/>\n",
       "<polyline clip-path=\"url(#clip600)\" style=\"stroke:#000000; stroke-linecap:butt; stroke-linejoin:round; stroke-width:4; stroke-opacity:1; fill:none\" points=\"\n",
       "  1994.05,270.476 2282.08,270.476 2282.08,166.796 1994.05,166.796 1994.05,270.476 \n",
       "  \"/>\n",
       "<path clip-path=\"url(#clip600)\" d=\"\n",
       "M2017.61 239.372 L2158.97 239.372 L2158.97 197.9 L2017.61 197.9 L2017.61 239.372  Z\n",
       "  \" fill=\"#009af9\" fill-rule=\"evenodd\" fill-opacity=\"1\"/>\n",
       "<polyline clip-path=\"url(#clip600)\" style=\"stroke:#000000; stroke-linecap:butt; stroke-linejoin:round; stroke-width:4; stroke-opacity:1; fill:none\" points=\"\n",
       "  2017.61,239.372 2158.97,239.372 2158.97,197.9 2017.61,197.9 2017.61,239.372 \n",
       "  \"/>\n",
       "<path clip-path=\"url(#clip600)\" d=\"M2196.37 238.323 Q2194.56 242.953 2192.85 244.365 Q2191.14 245.777 2188.27 245.777 L2184.87 245.777 L2184.87 242.212 L2187.37 242.212 Q2189.12 242.212 2190.1 241.379 Q2191.07 240.545 2192.25 237.443 L2193.01 235.499 L2182.53 209.99 L2187.04 209.99 L2195.14 230.268 L2203.24 209.99 L2207.76 209.99 L2196.37 238.323 Z\" fill=\"#000000\" fill-rule=\"evenodd\" fill-opacity=\"1\" /><path clip-path=\"url(#clip600)\" d=\"M2215.05 231.981 L2222.69 231.981 L2222.69 205.615 L2214.38 207.282 L2214.38 203.022 L2222.64 201.356 L2227.32 201.356 L2227.32 231.981 L2234.96 231.981 L2234.96 235.916 L2215.05 235.916 L2215.05 231.981 Z\" fill=\"#000000\" fill-rule=\"evenodd\" fill-opacity=\"1\" /></svg>\n"
      ]
     },
     "execution_count": 8,
     "metadata": {},
     "output_type": "execute_result"
    }
   ],
   "source": [
    "#trực quan hóa kết quả\n",
    "bar(kq[!,:Result],kq[!,:count],title = \"Thống kê số lượng mắc bệnh đau tim\",\n",
    "    xlabel = \"0 - Không bị đau tim,1-Bị đau tim\",\n",
    "    ylabel = \"số lượng\",)\n"
   ]
  },
  {
   "cell_type": "code",
   "execution_count": 9,
   "id": "e07acf4e",
   "metadata": {},
   "outputs": [
    {
     "data": {
      "text/html": [
       "<div class=\"data-frame\"><p>2 rows × 2 columns</p><table class=\"data-frame\"><thead><tr><th></th><th>Gender</th><th>quantity</th></tr><tr><th></th><th title=\"String7\">String7</th><th title=\"Int64\">Int64</th></tr></thead><tbody><tr><th>1</th><td>Male</td><td>205</td></tr><tr><th>2</th><td>Female</td><td>95</td></tr></tbody></table></div>"
      ],
      "text/latex": [
       "\\begin{tabular}{r|cc}\n",
       "\t& Gender & quantity\\\\\n",
       "\t\\hline\n",
       "\t& String7 & Int64\\\\\n",
       "\t\\hline\n",
       "\t1 & Male & 205 \\\\\n",
       "\t2 & Female & 95 \\\\\n",
       "\\end{tabular}\n"
      ],
      "text/plain": [
       "\u001b[1m2×2 DataFrame\u001b[0m\n",
       "\u001b[1m Row \u001b[0m│\u001b[1m Gender  \u001b[0m\u001b[1m quantity \u001b[0m\n",
       "\u001b[1m     \u001b[0m│\u001b[90m String7 \u001b[0m\u001b[90m Int64    \u001b[0m\n",
       "─────┼───────────────────\n",
       "   1 │ Male          205\n",
       "   2 │ Female         95"
      ]
     },
     "execution_count": 9,
     "metadata": {},
     "output_type": "execute_result"
    }
   ],
   "source": [
    "#thống kê giới tính \n",
    "gender =combine(groupby(df,:Gender),nrow => :quantity)"
   ]
  },
  {
   "cell_type": "code",
   "execution_count": 10,
   "id": "4bdaaef8",
   "metadata": {},
   "outputs": [
    {
     "data": {
      "image/svg+xml": [
       "<?xml version=\"1.0\" encoding=\"utf-8\"?>\n",
       "<svg xmlns=\"http://www.w3.org/2000/svg\" xmlns:xlink=\"http://www.w3.org/1999/xlink\" width=\"600\" height=\"400\" viewBox=\"0 0 2400 1600\">\n",
       "<defs>\n",
       "  <clipPath id=\"clip640\">\n",
       "    <rect x=\"0\" y=\"0\" width=\"2400\" height=\"1600\"/>\n",
       "  </clipPath>\n",
       "</defs>\n",
       "<path clip-path=\"url(#clip640)\" d=\"\n",
       "M0 1600 L2400 1600 L2400 0 L0 0  Z\n",
       "  \" fill=\"#ffffff\" fill-rule=\"evenodd\" fill-opacity=\"1\"/>\n",
       "<defs>\n",
       "  <clipPath id=\"clip641\">\n",
       "    <rect x=\"480\" y=\"0\" width=\"1681\" height=\"1600\"/>\n",
       "  </clipPath>\n",
       "</defs>\n",
       "<path clip-path=\"url(#clip640)\" d=\"\n",
       "M234.125 1423.18 L2352.76 1423.18 L2352.76 123.472 L234.125 123.472  Z\n",
       "  \" fill=\"#ffffff\" fill-rule=\"evenodd\" fill-opacity=\"1\"/>\n",
       "<defs>\n",
       "  <clipPath id=\"clip642\">\n",
       "    <rect x=\"234\" y=\"123\" width=\"2120\" height=\"1301\"/>\n",
       "  </clipPath>\n",
       "</defs>\n",
       "<polyline clip-path=\"url(#clip642)\" style=\"stroke:#000000; stroke-linecap:butt; stroke-linejoin:round; stroke-width:2; stroke-opacity:0.1; fill:none\" points=\"\n",
       "  769.67,1423.18 769.67,123.472 \n",
       "  \"/>\n",
       "<polyline clip-path=\"url(#clip642)\" style=\"stroke:#000000; stroke-linecap:butt; stroke-linejoin:round; stroke-width:2; stroke-opacity:0.1; fill:none\" points=\"\n",
       "  1817.21,1423.18 1817.21,123.472 \n",
       "  \"/>\n",
       "<polyline clip-path=\"url(#clip640)\" style=\"stroke:#000000; stroke-linecap:butt; stroke-linejoin:round; stroke-width:4; stroke-opacity:1; fill:none\" points=\"\n",
       "  234.125,1423.18 2352.76,1423.18 \n",
       "  \"/>\n",
       "<polyline clip-path=\"url(#clip640)\" style=\"stroke:#000000; stroke-linecap:butt; stroke-linejoin:round; stroke-width:4; stroke-opacity:1; fill:none\" points=\"\n",
       "  769.67,1423.18 769.67,1404.28 \n",
       "  \"/>\n",
       "<polyline clip-path=\"url(#clip640)\" style=\"stroke:#000000; stroke-linecap:butt; stroke-linejoin:round; stroke-width:4; stroke-opacity:1; fill:none\" points=\"\n",
       "  1817.21,1423.18 1817.21,1404.28 \n",
       "  \"/>\n",
       "<path clip-path=\"url(#clip640)\" d=\"M717.113 1451.02 L724.08 1451.02 L732.9 1474.54 L741.765 1451.02 L748.733 1451.02 L748.733 1485.58 L744.173 1485.58 L744.173 1455.23 L735.261 1478.94 L730.562 1478.94 L721.65 1455.23 L721.65 1485.58 L717.113 1485.58 L717.113 1451.02 Z\" fill=\"#000000\" fill-rule=\"evenodd\" fill-opacity=\"1\" /><path clip-path=\"url(#clip640)\" d=\"M769.612 1472.55 Q764.45 1472.55 762.46 1473.73 Q760.469 1474.91 760.469 1477.76 Q760.469 1480.02 761.95 1481.37 Q763.455 1482.69 766.024 1482.69 Q769.566 1482.69 771.696 1480.19 Q773.848 1477.66 773.848 1473.5 L773.848 1472.55 L769.612 1472.55 M778.108 1470.79 L778.108 1485.58 L773.848 1485.58 L773.848 1481.64 Q772.39 1484.01 770.214 1485.14 Q768.038 1486.25 764.89 1486.25 Q760.909 1486.25 758.548 1484.03 Q756.21 1481.78 756.21 1478.03 Q756.21 1473.66 759.126 1471.44 Q762.066 1469.21 767.876 1469.21 L773.848 1469.21 L773.848 1468.8 Q773.848 1465.86 771.904 1464.26 Q769.983 1462.64 766.487 1462.64 Q764.265 1462.64 762.159 1463.17 Q760.052 1463.7 758.108 1464.77 L758.108 1460.83 Q760.446 1459.93 762.645 1459.49 Q764.844 1459.03 766.927 1459.03 Q772.552 1459.03 775.33 1461.95 Q778.108 1464.86 778.108 1470.79 Z\" fill=\"#000000\" fill-rule=\"evenodd\" fill-opacity=\"1\" /><path clip-path=\"url(#clip640)\" d=\"M786.881 1449.56 L791.14 1449.56 L791.14 1485.58 L786.881 1485.58 L786.881 1449.56 Z\" fill=\"#000000\" fill-rule=\"evenodd\" fill-opacity=\"1\" /><path clip-path=\"url(#clip640)\" d=\"M822.228 1471.55 L822.228 1473.64 L802.645 1473.64 Q802.922 1478.03 805.283 1480.35 Q807.668 1482.64 811.904 1482.64 Q814.358 1482.64 816.649 1482.04 Q818.964 1481.44 821.232 1480.23 L821.232 1484.26 Q818.941 1485.23 816.533 1485.74 Q814.126 1486.25 811.649 1486.25 Q805.446 1486.25 801.811 1482.64 Q798.2 1479.03 798.2 1472.87 Q798.2 1466.51 801.626 1462.78 Q805.075 1459.03 810.908 1459.03 Q816.14 1459.03 819.172 1462.41 Q822.228 1465.77 822.228 1471.55 M817.969 1470.3 Q817.922 1466.81 816.001 1464.72 Q814.103 1462.64 810.955 1462.64 Q807.39 1462.64 805.237 1464.65 Q803.108 1466.67 802.783 1470.33 L817.969 1470.3 Z\" fill=\"#000000\" fill-rule=\"evenodd\" fill-opacity=\"1\" /><path clip-path=\"url(#clip640)\" d=\"M1735.09 1451.02 L1754.95 1451.02 L1754.95 1454.96 L1739.77 1454.96 L1739.77 1465.14 L1753.47 1465.14 L1753.47 1469.08 L1739.77 1469.08 L1739.77 1485.58 L1735.09 1485.58 L1735.09 1451.02 Z\" fill=\"#000000\" fill-rule=\"evenodd\" fill-opacity=\"1\" /><path clip-path=\"url(#clip640)\" d=\"M1781.76 1471.55 L1781.76 1473.64 L1762.18 1473.64 Q1762.45 1478.03 1764.82 1480.35 Q1767.2 1482.64 1771.44 1482.64 Q1773.89 1482.64 1776.18 1482.04 Q1778.5 1481.44 1780.76 1480.23 L1780.76 1484.26 Q1778.47 1485.23 1776.07 1485.74 Q1773.66 1486.25 1771.18 1486.25 Q1764.98 1486.25 1761.34 1482.64 Q1757.73 1479.03 1757.73 1472.87 Q1757.73 1466.51 1761.16 1462.78 Q1764.61 1459.03 1770.44 1459.03 Q1775.67 1459.03 1778.7 1462.41 Q1781.76 1465.77 1781.76 1471.55 M1777.5 1470.3 Q1777.45 1466.81 1775.53 1464.72 Q1773.63 1462.64 1770.49 1462.64 Q1766.92 1462.64 1764.77 1464.65 Q1762.64 1466.67 1762.32 1470.33 L1777.5 1470.3 Z\" fill=\"#000000\" fill-rule=\"evenodd\" fill-opacity=\"1\" /><path clip-path=\"url(#clip640)\" d=\"M1808.94 1464.63 Q1810.53 1461.76 1812.76 1460.39 Q1814.98 1459.03 1817.99 1459.03 Q1822.04 1459.03 1824.24 1461.88 Q1826.44 1464.7 1826.44 1469.93 L1826.44 1485.58 L1822.15 1485.58 L1822.15 1470.07 Q1822.15 1466.34 1820.83 1464.54 Q1819.51 1462.73 1816.81 1462.73 Q1813.5 1462.73 1811.57 1464.93 Q1809.65 1467.13 1809.65 1470.93 L1809.65 1485.58 L1805.37 1485.58 L1805.37 1470.07 Q1805.37 1466.32 1804.05 1464.54 Q1802.73 1462.73 1799.98 1462.73 Q1796.71 1462.73 1794.79 1464.95 Q1792.87 1467.15 1792.87 1470.93 L1792.87 1485.58 L1788.59 1485.58 L1788.59 1459.65 L1792.87 1459.65 L1792.87 1463.68 Q1794.33 1461.3 1796.37 1460.16 Q1798.4 1459.03 1801.2 1459.03 Q1804.03 1459.03 1806 1460.46 Q1807.99 1461.9 1808.94 1464.63 Z\" fill=\"#000000\" fill-rule=\"evenodd\" fill-opacity=\"1\" /><path clip-path=\"url(#clip640)\" d=\"M1846.71 1472.55 Q1841.55 1472.55 1839.56 1473.73 Q1837.57 1474.91 1837.57 1477.76 Q1837.57 1480.02 1839.05 1481.37 Q1840.56 1482.69 1843.13 1482.69 Q1846.67 1482.69 1848.8 1480.19 Q1850.95 1477.66 1850.95 1473.5 L1850.95 1472.55 L1846.71 1472.55 M1855.21 1470.79 L1855.21 1485.58 L1850.95 1485.58 L1850.95 1481.64 Q1849.49 1484.01 1847.32 1485.14 Q1845.14 1486.25 1841.99 1486.25 Q1838.01 1486.25 1835.65 1484.03 Q1833.31 1481.78 1833.31 1478.03 Q1833.31 1473.66 1836.23 1471.44 Q1839.17 1469.21 1844.98 1469.21 L1850.95 1469.21 L1850.95 1468.8 Q1850.95 1465.86 1849 1464.26 Q1847.08 1462.64 1843.59 1462.64 Q1841.37 1462.64 1839.26 1463.17 Q1837.15 1463.7 1835.21 1464.77 L1835.21 1460.83 Q1837.55 1459.93 1839.75 1459.49 Q1841.94 1459.03 1844.03 1459.03 Q1849.65 1459.03 1852.43 1461.95 Q1855.21 1464.86 1855.21 1470.79 Z\" fill=\"#000000\" fill-rule=\"evenodd\" fill-opacity=\"1\" /><path clip-path=\"url(#clip640)\" d=\"M1863.98 1449.56 L1868.24 1449.56 L1868.24 1485.58 L1863.98 1485.58 L1863.98 1449.56 Z\" fill=\"#000000\" fill-rule=\"evenodd\" fill-opacity=\"1\" /><path clip-path=\"url(#clip640)\" d=\"M1899.33 1471.55 L1899.33 1473.64 L1879.75 1473.64 Q1880.02 1478.03 1882.38 1480.35 Q1884.77 1482.64 1889 1482.64 Q1891.46 1482.64 1893.75 1482.04 Q1896.06 1481.44 1898.33 1480.23 L1898.33 1484.26 Q1896.04 1485.23 1893.63 1485.74 Q1891.23 1486.25 1888.75 1486.25 Q1882.55 1486.25 1878.91 1482.64 Q1875.3 1479.03 1875.3 1472.87 Q1875.3 1466.51 1878.73 1462.78 Q1882.18 1459.03 1888.01 1459.03 Q1893.24 1459.03 1896.27 1462.41 Q1899.33 1465.77 1899.33 1471.55 M1895.07 1470.3 Q1895.02 1466.81 1893.1 1464.72 Q1891.2 1462.64 1888.06 1462.64 Q1884.49 1462.64 1882.34 1464.65 Q1880.21 1466.67 1879.88 1470.33 L1895.07 1470.3 Z\" fill=\"#000000\" fill-rule=\"evenodd\" fill-opacity=\"1\" /><path clip-path=\"url(#clip640)\" d=\"M1191.76 1549.81 Q1191.76 1543.44 1189.12 1539.94 Q1186.51 1536.44 1181.77 1536.44 Q1177.06 1536.44 1174.42 1539.94 Q1171.81 1543.44 1171.81 1549.81 Q1171.81 1556.14 1174.42 1559.64 Q1177.06 1563.14 1181.77 1563.14 Q1186.51 1563.14 1189.12 1559.64 Q1191.76 1556.14 1191.76 1549.81 M1197.62 1563.62 Q1197.62 1572.72 1193.58 1577.15 Q1189.54 1581.6 1181.2 1581.6 Q1178.11 1581.6 1175.37 1581.13 Q1172.64 1580.68 1170.06 1579.72 L1170.06 1574.03 Q1172.64 1575.43 1175.15 1576.1 Q1177.66 1576.76 1180.27 1576.76 Q1186.04 1576.76 1188.9 1573.74 Q1191.76 1570.75 1191.76 1564.67 L1191.76 1561.77 Q1189.95 1564.92 1187.12 1566.48 Q1184.28 1568.04 1180.34 1568.04 Q1173.78 1568.04 1169.77 1563.05 Q1165.76 1558.05 1165.76 1549.81 Q1165.76 1541.53 1169.77 1536.53 Q1173.78 1531.54 1180.34 1531.54 Q1184.28 1531.54 1187.12 1533.1 Q1189.95 1534.66 1191.76 1537.81 L1191.76 1532.4 L1197.62 1532.4 L1197.62 1563.62 Z\" fill=\"#000000\" fill-rule=\"evenodd\" fill-opacity=\"1\" /><path clip-path=\"url(#clip640)\" d=\"M1209.68 1532.4 L1215.54 1532.4 L1215.54 1568.04 L1209.68 1568.04 L1209.68 1532.4 M1209.68 1518.52 L1215.54 1518.52 L1215.54 1525.93 L1209.68 1525.93 L1209.68 1518.52 Z\" fill=\"#000000\" fill-rule=\"evenodd\" fill-opacity=\"1\" /><path clip-path=\"url(#clip640)\" d=\"M1246.03 1515.91 L1252.37 1515.91 L1241.99 1527.88 L1237.12 1527.88 L1246.03 1515.91 M1248.39 1536.41 L1248.39 1532.62 Q1250.33 1534.05 1251.73 1534.75 Q1253.13 1535.42 1254.12 1535.42 Q1255.58 1535.42 1256.31 1534.56 Q1257.04 1533.67 1257.04 1531.95 Q1257.04 1530.93 1256.79 1529.95 Q1256.57 1528.96 1256.09 1527.97 L1260.32 1527.97 Q1260.64 1529.18 1260.8 1530.26 Q1260.96 1531.35 1260.96 1532.3 Q1260.96 1536.18 1259.56 1538.03 Q1258.19 1539.84 1255.23 1539.84 Q1253.7 1539.84 1252.02 1539.02 Q1250.36 1538.16 1248.39 1536.41 M1241.77 1536.5 Q1237.06 1536.5 1234.32 1540.19 Q1231.58 1543.85 1231.58 1550.25 Q1231.58 1556.65 1234.29 1560.34 Q1237.02 1564 1241.77 1564 Q1246.45 1564 1249.18 1560.31 Q1251.92 1556.62 1251.92 1550.25 Q1251.92 1543.92 1249.18 1540.23 Q1246.45 1536.5 1241.77 1536.5 M1241.77 1531.54 Q1249.41 1531.54 1253.77 1536.5 Q1258.13 1541.47 1258.13 1550.25 Q1258.13 1559 1253.77 1564 Q1249.41 1568.97 1241.77 1568.97 Q1234.1 1568.97 1229.74 1564 Q1225.41 1559 1225.41 1550.25 Q1225.41 1541.47 1229.74 1536.5 Q1234.1 1531.54 1241.77 1531.54 Z\" fill=\"#000000\" fill-rule=\"evenodd\" fill-opacity=\"1\" /><path clip-path=\"url(#clip640)\" d=\"M1267.68 1532.4 L1273.53 1532.4 L1273.53 1568.04 L1267.68 1568.04 L1267.68 1532.4 M1267.68 1518.52 L1273.53 1518.52 L1273.53 1525.93 L1267.68 1525.93 L1267.68 1518.52 Z\" fill=\"#000000\" fill-rule=\"evenodd\" fill-opacity=\"1\" /><path clip-path=\"url(#clip640)\" d=\"M1312.3 1522.27 L1312.3 1532.4 L1324.36 1532.4 L1324.36 1536.95 L1312.3 1536.95 L1312.3 1556.3 Q1312.3 1560.66 1313.48 1561.9 Q1314.69 1563.14 1318.35 1563.14 L1324.36 1563.14 L1324.36 1568.04 L1318.35 1568.04 Q1311.57 1568.04 1308.99 1565.53 Q1306.41 1562.98 1306.41 1556.3 L1306.41 1536.95 L1302.11 1536.95 L1302.11 1532.4 L1306.41 1532.4 L1306.41 1522.27 L1312.3 1522.27 Z\" fill=\"#000000\" fill-rule=\"evenodd\" fill-opacity=\"1\" /><path clip-path=\"url(#clip640)\" d=\"M1339.42 1515.91 L1345.75 1515.91 L1335.37 1527.88 L1330.51 1527.88 L1339.42 1515.91 M1332.06 1532.4 L1337.92 1532.4 L1337.92 1568.04 L1332.06 1568.04 L1332.06 1532.4 M1334.99 1531.54 L1334.99 1531.54 Z\" fill=\"#000000\" fill-rule=\"evenodd\" fill-opacity=\"1\" /><path clip-path=\"url(#clip640)\" d=\"M1379.81 1546.53 L1379.81 1568.04 L1373.95 1568.04 L1373.95 1546.72 Q1373.95 1541.66 1371.98 1539.14 Q1370 1536.63 1366.06 1536.63 Q1361.32 1536.63 1358.58 1539.65 Q1355.84 1542.68 1355.84 1547.9 L1355.84 1568.04 L1349.95 1568.04 L1349.95 1532.4 L1355.84 1532.4 L1355.84 1537.93 Q1357.94 1534.72 1360.77 1533.13 Q1363.64 1531.54 1367.36 1531.54 Q1373.51 1531.54 1376.66 1535.36 Q1379.81 1539.14 1379.81 1546.53 Z\" fill=\"#000000\" fill-rule=\"evenodd\" fill-opacity=\"1\" /><path clip-path=\"url(#clip640)\" d=\"M1421.12 1546.53 L1421.12 1568.04 L1415.26 1568.04 L1415.26 1546.72 Q1415.26 1541.66 1413.29 1539.14 Q1411.32 1536.63 1407.37 1536.63 Q1402.63 1536.63 1399.89 1539.65 Q1397.15 1542.68 1397.15 1547.9 L1397.15 1568.04 L1391.27 1568.04 L1391.27 1518.52 L1397.15 1518.52 L1397.15 1537.93 Q1399.25 1534.72 1402.09 1533.13 Q1404.95 1531.54 1408.68 1531.54 Q1414.82 1531.54 1417.97 1535.36 Q1421.12 1539.14 1421.12 1546.53 Z\" fill=\"#000000\" fill-rule=\"evenodd\" fill-opacity=\"1\" /><polyline clip-path=\"url(#clip642)\" style=\"stroke:#000000; stroke-linecap:butt; stroke-linejoin:round; stroke-width:2; stroke-opacity:0.1; fill:none\" points=\"\n",
       "  234.125,1386.4 2352.76,1386.4 \n",
       "  \"/>\n",
       "<polyline clip-path=\"url(#clip642)\" style=\"stroke:#000000; stroke-linecap:butt; stroke-linejoin:round; stroke-width:2; stroke-opacity:0.1; fill:none\" points=\"\n",
       "  234.125,1087.34 2352.76,1087.34 \n",
       "  \"/>\n",
       "<polyline clip-path=\"url(#clip642)\" style=\"stroke:#000000; stroke-linecap:butt; stroke-linejoin:round; stroke-width:2; stroke-opacity:0.1; fill:none\" points=\"\n",
       "  234.125,788.279 2352.76,788.279 \n",
       "  \"/>\n",
       "<polyline clip-path=\"url(#clip642)\" style=\"stroke:#000000; stroke-linecap:butt; stroke-linejoin:round; stroke-width:2; stroke-opacity:0.1; fill:none\" points=\"\n",
       "  234.125,489.221 2352.76,489.221 \n",
       "  \"/>\n",
       "<polyline clip-path=\"url(#clip642)\" style=\"stroke:#000000; stroke-linecap:butt; stroke-linejoin:round; stroke-width:2; stroke-opacity:0.1; fill:none\" points=\"\n",
       "  234.125,190.162 2352.76,190.162 \n",
       "  \"/>\n",
       "<polyline clip-path=\"url(#clip640)\" style=\"stroke:#000000; stroke-linecap:butt; stroke-linejoin:round; stroke-width:4; stroke-opacity:1; fill:none\" points=\"\n",
       "  234.125,1423.18 234.125,123.472 \n",
       "  \"/>\n",
       "<polyline clip-path=\"url(#clip640)\" style=\"stroke:#000000; stroke-linecap:butt; stroke-linejoin:round; stroke-width:4; stroke-opacity:1; fill:none\" points=\"\n",
       "  234.125,1386.4 253.023,1386.4 \n",
       "  \"/>\n",
       "<polyline clip-path=\"url(#clip640)\" style=\"stroke:#000000; stroke-linecap:butt; stroke-linejoin:round; stroke-width:4; stroke-opacity:1; fill:none\" points=\"\n",
       "  234.125,1087.34 253.023,1087.34 \n",
       "  \"/>\n",
       "<polyline clip-path=\"url(#clip640)\" style=\"stroke:#000000; stroke-linecap:butt; stroke-linejoin:round; stroke-width:4; stroke-opacity:1; fill:none\" points=\"\n",
       "  234.125,788.279 253.023,788.279 \n",
       "  \"/>\n",
       "<polyline clip-path=\"url(#clip640)\" style=\"stroke:#000000; stroke-linecap:butt; stroke-linejoin:round; stroke-width:4; stroke-opacity:1; fill:none\" points=\"\n",
       "  234.125,489.221 253.023,489.221 \n",
       "  \"/>\n",
       "<polyline clip-path=\"url(#clip640)\" style=\"stroke:#000000; stroke-linecap:butt; stroke-linejoin:round; stroke-width:4; stroke-opacity:1; fill:none\" points=\"\n",
       "  234.125,190.162 253.023,190.162 \n",
       "  \"/>\n",
       "<path clip-path=\"url(#clip640)\" d=\"M186.181 1372.19 Q182.57 1372.19 180.741 1375.76 Q178.936 1379.3 178.936 1386.43 Q178.936 1393.54 180.741 1397.1 Q182.57 1400.64 186.181 1400.64 Q189.815 1400.64 191.621 1397.1 Q193.45 1393.54 193.45 1386.43 Q193.45 1379.3 191.621 1375.76 Q189.815 1372.19 186.181 1372.19 M186.181 1368.49 Q191.991 1368.49 195.047 1373.1 Q198.125 1377.68 198.125 1386.43 Q198.125 1395.16 195.047 1399.76 Q191.991 1404.35 186.181 1404.35 Q180.371 1404.35 177.292 1399.76 Q174.237 1395.16 174.237 1386.43 Q174.237 1377.68 177.292 1373.1 Q180.371 1368.49 186.181 1368.49 Z\" fill=\"#000000\" fill-rule=\"evenodd\" fill-opacity=\"1\" /><path clip-path=\"url(#clip640)\" d=\"M146.066 1070.06 L164.422 1070.06 L164.422 1073.99 L150.348 1073.99 L150.348 1082.46 Q151.366 1082.12 152.385 1081.96 Q153.403 1081.77 154.422 1081.77 Q160.209 1081.77 163.589 1084.94 Q166.968 1088.11 166.968 1093.53 Q166.968 1099.11 163.496 1102.21 Q160.024 1105.29 153.704 1105.29 Q151.528 1105.29 149.26 1104.92 Q147.015 1104.55 144.607 1103.81 L144.607 1099.11 Q146.691 1100.24 148.913 1100.8 Q151.135 1101.35 153.612 1101.35 Q157.616 1101.35 159.954 1099.25 Q162.292 1097.14 162.292 1093.53 Q162.292 1089.92 159.954 1087.81 Q157.616 1085.71 153.612 1085.71 Q151.737 1085.71 149.862 1086.12 Q148.01 1086.54 146.066 1087.42 L146.066 1070.06 Z\" fill=\"#000000\" fill-rule=\"evenodd\" fill-opacity=\"1\" /><path clip-path=\"url(#clip640)\" d=\"M186.181 1073.14 Q182.57 1073.14 180.741 1076.7 Q178.936 1080.24 178.936 1087.37 Q178.936 1094.48 180.741 1098.04 Q182.57 1101.58 186.181 1101.58 Q189.815 1101.58 191.621 1098.04 Q193.45 1094.48 193.45 1087.37 Q193.45 1080.24 191.621 1076.7 Q189.815 1073.14 186.181 1073.14 M186.181 1069.43 Q191.991 1069.43 195.047 1074.04 Q198.125 1078.62 198.125 1087.37 Q198.125 1096.1 195.047 1100.71 Q191.991 1105.29 186.181 1105.29 Q180.371 1105.29 177.292 1100.71 Q174.237 1096.1 174.237 1087.37 Q174.237 1078.62 177.292 1074.04 Q180.371 1069.43 186.181 1069.43 Z\" fill=\"#000000\" fill-rule=\"evenodd\" fill-opacity=\"1\" /><path clip-path=\"url(#clip640)\" d=\"M116.668 801.624 L124.306 801.624 L124.306 775.258 L115.996 776.925 L115.996 772.666 L124.26 770.999 L128.936 770.999 L128.936 801.624 L136.575 801.624 L136.575 805.559 L116.668 805.559 L116.668 801.624 Z\" fill=\"#000000\" fill-rule=\"evenodd\" fill-opacity=\"1\" /><path clip-path=\"url(#clip640)\" d=\"M156.019 774.078 Q152.408 774.078 150.579 777.642 Q148.774 781.184 148.774 788.314 Q148.774 795.42 150.579 798.985 Q152.408 802.527 156.019 802.527 Q159.653 802.527 161.459 798.985 Q163.288 795.42 163.288 788.314 Q163.288 781.184 161.459 777.642 Q159.653 774.078 156.019 774.078 M156.019 770.374 Q161.829 770.374 164.885 774.98 Q167.964 779.564 167.964 788.314 Q167.964 797.04 164.885 801.647 Q161.829 806.23 156.019 806.23 Q150.209 806.23 147.13 801.647 Q144.075 797.04 144.075 788.314 Q144.075 779.564 147.13 774.98 Q150.209 770.374 156.019 770.374 Z\" fill=\"#000000\" fill-rule=\"evenodd\" fill-opacity=\"1\" /><path clip-path=\"url(#clip640)\" d=\"M186.181 774.078 Q182.57 774.078 180.741 777.642 Q178.936 781.184 178.936 788.314 Q178.936 795.42 180.741 798.985 Q182.57 802.527 186.181 802.527 Q189.815 802.527 191.621 798.985 Q193.45 795.42 193.45 788.314 Q193.45 781.184 191.621 777.642 Q189.815 774.078 186.181 774.078 M186.181 770.374 Q191.991 770.374 195.047 774.98 Q198.125 779.564 198.125 788.314 Q198.125 797.04 195.047 801.647 Q191.991 806.23 186.181 806.23 Q180.371 806.23 177.292 801.647 Q174.237 797.04 174.237 788.314 Q174.237 779.564 177.292 774.98 Q180.371 770.374 186.181 770.374 Z\" fill=\"#000000\" fill-rule=\"evenodd\" fill-opacity=\"1\" /><path clip-path=\"url(#clip640)\" d=\"M116.668 502.565 L124.306 502.565 L124.306 476.2 L115.996 477.866 L115.996 473.607 L124.26 471.941 L128.936 471.941 L128.936 502.565 L136.575 502.565 L136.575 506.501 L116.668 506.501 L116.668 502.565 Z\" fill=\"#000000\" fill-rule=\"evenodd\" fill-opacity=\"1\" /><path clip-path=\"url(#clip640)\" d=\"M146.066 471.941 L164.422 471.941 L164.422 475.876 L150.348 475.876 L150.348 484.348 Q151.366 484.001 152.385 483.839 Q153.403 483.653 154.422 483.653 Q160.209 483.653 163.589 486.825 Q166.968 489.996 166.968 495.413 Q166.968 500.991 163.496 504.093 Q160.024 507.172 153.704 507.172 Q151.528 507.172 149.26 506.801 Q147.015 506.431 144.607 505.69 L144.607 500.991 Q146.691 502.126 148.913 502.681 Q151.135 503.237 153.612 503.237 Q157.616 503.237 159.954 501.13 Q162.292 499.024 162.292 495.413 Q162.292 491.802 159.954 489.695 Q157.616 487.589 153.612 487.589 Q151.737 487.589 149.862 488.005 Q148.01 488.422 146.066 489.302 L146.066 471.941 Z\" fill=\"#000000\" fill-rule=\"evenodd\" fill-opacity=\"1\" /><path clip-path=\"url(#clip640)\" d=\"M186.181 475.019 Q182.57 475.019 180.741 478.584 Q178.936 482.126 178.936 489.255 Q178.936 496.362 180.741 499.926 Q182.57 503.468 186.181 503.468 Q189.815 503.468 191.621 499.926 Q193.45 496.362 193.45 489.255 Q193.45 482.126 191.621 478.584 Q189.815 475.019 186.181 475.019 M186.181 471.316 Q191.991 471.316 195.047 475.922 Q198.125 480.505 198.125 489.255 Q198.125 497.982 195.047 502.589 Q191.991 507.172 186.181 507.172 Q180.371 507.172 177.292 502.589 Q174.237 497.982 174.237 489.255 Q174.237 480.505 177.292 475.922 Q180.371 471.316 186.181 471.316 Z\" fill=\"#000000\" fill-rule=\"evenodd\" fill-opacity=\"1\" /><path clip-path=\"url(#clip640)\" d=\"M119.885 203.507 L136.204 203.507 L136.204 207.442 L114.26 207.442 L114.26 203.507 Q116.922 200.752 121.505 196.123 Q126.112 191.47 127.292 190.127 Q129.538 187.604 130.417 185.868 Q131.32 184.109 131.32 182.419 Q131.32 179.665 129.376 177.928 Q127.455 176.192 124.353 176.192 Q122.154 176.192 119.7 176.956 Q117.269 177.72 114.492 179.271 L114.492 174.549 Q117.316 173.415 119.769 172.836 Q122.223 172.257 124.26 172.257 Q129.63 172.257 132.825 174.942 Q136.019 177.627 136.019 182.118 Q136.019 184.248 135.209 186.169 Q134.422 188.067 132.316 190.66 Q131.737 191.331 128.635 194.549 Q125.533 197.743 119.885 203.507 Z\" fill=\"#000000\" fill-rule=\"evenodd\" fill-opacity=\"1\" /><path clip-path=\"url(#clip640)\" d=\"M156.019 175.961 Q152.408 175.961 150.579 179.526 Q148.774 183.067 148.774 190.197 Q148.774 197.303 150.579 200.868 Q152.408 204.41 156.019 204.41 Q159.653 204.41 161.459 200.868 Q163.288 197.303 163.288 190.197 Q163.288 183.067 161.459 179.526 Q159.653 175.961 156.019 175.961 M156.019 172.257 Q161.829 172.257 164.885 176.864 Q167.964 181.447 167.964 190.197 Q167.964 198.924 164.885 203.53 Q161.829 208.113 156.019 208.113 Q150.209 208.113 147.13 203.53 Q144.075 198.924 144.075 190.197 Q144.075 181.447 147.13 176.864 Q150.209 172.257 156.019 172.257 Z\" fill=\"#000000\" fill-rule=\"evenodd\" fill-opacity=\"1\" /><path clip-path=\"url(#clip640)\" d=\"M186.181 175.961 Q182.57 175.961 180.741 179.526 Q178.936 183.067 178.936 190.197 Q178.936 197.303 180.741 200.868 Q182.57 204.41 186.181 204.41 Q189.815 204.41 191.621 200.868 Q193.45 197.303 193.45 190.197 Q193.45 183.067 191.621 179.526 Q189.815 175.961 186.181 175.961 M186.181 172.257 Q191.991 172.257 195.047 176.864 Q198.125 181.447 198.125 190.197 Q198.125 198.924 195.047 203.53 Q191.991 208.113 186.181 208.113 Q180.371 208.113 177.292 203.53 Q174.237 198.924 174.237 190.197 Q174.237 181.447 177.292 176.864 Q180.371 172.257 186.181 172.257 Z\" fill=\"#000000\" fill-rule=\"evenodd\" fill-opacity=\"1\" /><path clip-path=\"url(#clip640)\" d=\"M29.4065 881.543 L34.9447 881.543 Q33.6716 884.026 33.035 886.699 Q32.3984 889.373 32.3984 892.237 Q32.3984 896.598 33.7352 898.794 Q35.072 900.958 37.7456 900.958 Q39.7826 900.958 40.9603 899.399 Q42.1061 897.839 43.1565 893.129 L43.6021 891.123 Q44.9389 884.885 47.3897 882.275 Q49.8086 879.633 54.1691 879.633 Q59.1344 879.633 62.0308 883.58 Q64.9272 887.495 64.9272 894.37 Q64.9272 897.234 64.3543 900.354 Q63.8132 903.441 62.6992 906.879 L56.6518 906.879 Q58.3387 903.632 59.198 900.481 Q60.0256 897.33 60.0256 894.243 Q60.0256 890.105 58.6251 887.877 Q57.1929 885.649 54.6147 885.649 Q52.2276 885.649 50.9545 887.272 Q49.6813 888.864 48.5037 894.306 L48.0262 896.343 Q46.8804 901.786 44.5251 904.205 Q42.138 906.624 38.0002 906.624 Q32.9713 906.624 30.2341 903.059 Q27.4968 899.494 27.4968 892.938 Q27.4968 889.691 27.9743 886.827 Q28.4517 883.962 29.4065 881.543 Z\" fill=\"#000000\" fill-rule=\"evenodd\" fill-opacity=\"1\" /><path clip-path=\"url(#clip640)\" d=\"M15.3702 859.518 L15.3702 853.534 L23.8365 846.818 L23.8365 851.242 L18.1711 856.526 L23.8365 861.809 L23.8365 866.233 L15.3702 859.518 M8.84531 843.19 L8.84531 837.301 L17.248 844.558 L17.248 849.428 L8.84531 843.19 M32.4621 856.494 Q32.4621 861.205 36.1542 863.942 Q39.8145 866.679 46.212 866.679 Q52.6095 866.679 56.3017 863.974 Q59.9619 861.236 59.9619 856.494 Q59.9619 851.815 56.2698 849.078 Q52.5777 846.341 46.212 846.341 Q39.8781 846.341 36.186 849.078 Q32.4621 851.815 32.4621 856.494 M27.4968 856.494 Q27.4968 848.855 32.4621 844.495 Q37.4273 840.134 46.212 840.134 Q54.9649 840.134 59.9619 844.495 Q64.9272 848.855 64.9272 856.494 Q64.9272 864.165 59.9619 868.525 Q54.9649 872.854 46.212 872.854 Q37.4273 872.854 32.4621 868.525 Q27.4968 864.165 27.4968 856.494 Z\" fill=\"#000000\" fill-rule=\"evenodd\" fill-opacity=\"1\" /><path clip-path=\"url(#clip640)\" d=\"M14.479 809.706 L14.479 803.85 L64.0042 803.85 L64.0042 809.706 L14.479 809.706 Z\" fill=\"#000000\" fill-rule=\"evenodd\" fill-opacity=\"1\" /><path clip-path=\"url(#clip640)\" d=\"M32.3666 766.228 L28.579 766.228 Q30.0113 764.287 30.7115 762.886 Q31.3799 761.486 31.3799 760.499 Q31.3799 759.035 30.5205 758.303 Q29.6293 757.571 27.9106 757.571 Q26.8921 757.571 25.9054 757.825 Q24.9187 758.048 23.932 758.526 L23.932 754.293 Q25.1415 753.974 26.2237 753.815 Q27.3059 753.656 28.2607 753.656 Q32.1438 753.656 33.9899 755.056 Q35.8041 756.425 35.8041 759.385 Q35.8041 760.913 34.9765 762.6 Q34.1172 764.255 32.3666 766.228 M49.9359 792.137 L28.3562 792.137 L28.3562 786.28 L49.7131 786.28 Q54.7739 786.28 57.3202 784.307 Q59.8346 782.333 59.8346 778.387 Q59.8346 773.644 56.8109 770.907 Q53.7872 768.138 48.5673 768.138 L28.3562 768.138 L28.3562 762.281 L64.0042 762.281 L64.0042 768.138 L58.5296 768.138 Q61.7762 770.27 63.3676 773.103 Q64.9272 775.904 64.9272 779.628 Q64.9272 785.771 61.1078 788.954 Q57.2883 792.137 49.9359 792.137 M27.4968 777.4 L27.4968 777.4 Z\" fill=\"#000000\" fill-rule=\"evenodd\" fill-opacity=\"1\" /><path clip-path=\"url(#clip640)\" d=\"M32.3666 729.689 L28.579 729.689 Q30.0113 727.748 30.7115 726.347 Q31.3799 724.947 31.3799 723.96 Q31.3799 722.496 30.5205 721.764 Q29.6293 721.032 27.9106 721.032 Q26.8921 721.032 25.9054 721.286 Q24.9187 721.509 23.932 721.987 L23.932 717.753 Q25.1415 717.435 26.2237 717.276 Q27.3059 717.117 28.2607 717.117 Q32.1438 717.117 33.9899 718.517 Q35.8041 719.886 35.8041 722.846 Q35.8041 724.374 34.9765 726.061 Q34.1172 727.716 32.3666 729.689 M32.4621 736.309 Q32.4621 741.02 36.1542 743.757 Q39.8145 746.495 46.212 746.495 Q52.6095 746.495 56.3017 743.789 Q59.9619 741.052 59.9619 736.309 Q59.9619 731.631 56.2698 728.893 Q52.5777 726.156 46.212 726.156 Q39.8781 726.156 36.186 728.893 Q32.4621 731.631 32.4621 736.309 M27.4968 736.309 Q27.4968 728.671 32.4621 724.31 Q37.4273 719.95 46.212 719.95 Q54.9649 719.95 59.9619 724.31 Q64.9272 728.671 64.9272 736.309 Q64.9272 743.98 59.9619 748.341 Q54.9649 752.669 46.212 752.669 Q37.4273 752.669 32.4621 748.341 Q27.4968 743.98 27.4968 736.309 M68.492 739.46 L68.492 733.604 L75.9399 733.604 L75.9399 739.46 L68.492 739.46 Z\" fill=\"#000000\" fill-rule=\"evenodd\" fill-opacity=\"1\" /><path clip-path=\"url(#clip640)\" d=\"M42.4881 680.769 L64.0042 680.769 L64.0042 686.625 L42.679 686.625 Q37.6183 686.625 35.1038 688.598 Q32.5894 690.572 32.5894 694.519 Q32.5894 699.261 35.6131 701.998 Q38.6368 704.735 43.8567 704.735 L64.0042 704.735 L64.0042 710.624 L28.3562 710.624 L28.3562 704.735 L33.8944 704.735 Q30.6797 702.635 29.0883 699.802 Q27.4968 696.938 27.4968 693.214 Q27.4968 687.071 31.3163 683.92 Q35.1038 680.769 42.4881 680.769 Z\" fill=\"#000000\" fill-rule=\"evenodd\" fill-opacity=\"1\" /><path clip-path=\"url(#clip640)\" d=\"M45.7664 645.63 Q39.4007 645.63 35.8996 648.272 Q32.3984 650.882 32.3984 655.624 Q32.3984 660.335 35.8996 662.976 Q39.4007 665.586 45.7664 665.586 Q52.1003 665.586 55.6014 662.976 Q59.1026 660.335 59.1026 655.624 Q59.1026 650.882 55.6014 648.272 Q52.1003 645.63 45.7664 645.63 M59.58 639.773 Q68.683 639.773 73.1071 643.816 Q77.5631 647.858 77.5631 656.197 Q77.5631 659.284 77.0857 662.022 Q76.6401 664.759 75.6852 667.337 L69.9879 667.337 Q71.3884 664.759 72.0568 662.244 Q72.7252 659.73 72.7252 657.12 Q72.7252 651.359 69.7015 648.494 Q66.7096 645.63 60.6303 645.63 L57.7339 645.63 Q60.885 647.444 62.4446 650.277 Q64.0042 653.11 64.0042 657.056 Q64.0042 663.613 59.0071 667.623 Q54.01 671.634 45.7664 671.634 Q37.491 671.634 32.4939 667.623 Q27.4968 663.613 27.4968 657.056 Q27.4968 653.11 29.0564 650.277 Q30.616 647.444 33.7671 645.63 L28.3562 645.63 L28.3562 639.773 L59.58 639.773 Z\" fill=\"#000000\" fill-rule=\"evenodd\" fill-opacity=\"1\" /><path clip-path=\"url(#clip640)\" d=\"M628.647 12.096 L679.81 12.096 L679.81 18.9825 L658.34 18.9825 L658.34 72.576 L650.117 72.576 L650.117 18.9825 L628.647 18.9825 L628.647 12.096 Z\" fill=\"#000000\" fill-rule=\"evenodd\" fill-opacity=\"1\" /><path clip-path=\"url(#clip640)\" d=\"M725.099 45.1919 L725.099 72.576 L717.645 72.576 L717.645 45.4349 Q717.645 38.994 715.134 35.7938 Q712.622 32.5936 707.599 32.5936 Q701.563 32.5936 698.079 36.4419 Q694.596 40.2903 694.596 46.9338 L694.596 72.576 L687.101 72.576 L687.101 9.54393 L694.596 9.54393 L694.596 34.2544 Q697.269 30.163 700.874 28.1376 Q704.52 26.1121 709.26 26.1121 Q717.078 26.1121 721.088 30.9732 Q725.099 35.7938 725.099 45.1919 Z\" fill=\"#000000\" fill-rule=\"evenodd\" fill-opacity=\"1\" /><path clip-path=\"url(#clip640)\" d=\"M753.698 10.6782 L761.314 10.6782 L769.861 21.4536 L764.231 21.4536 L757.506 14.243 L750.782 21.4536 L745.151 21.4536 L753.698 10.6782 M774.479 2.37383 L781.974 2.37383 L772.737 13.0682 L766.54 13.0682 L774.479 2.37383 M757.547 32.4315 Q751.551 32.4315 748.067 37.1306 Q744.584 41.7891 744.584 49.9314 Q744.584 58.0738 748.027 62.7728 Q751.511 67.4314 757.547 67.4314 Q763.501 67.4314 766.985 62.7323 Q770.469 58.0333 770.469 49.9314 Q770.469 41.8701 766.985 37.1711 Q763.501 32.4315 757.547 32.4315 M757.547 26.1121 Q767.269 26.1121 772.818 32.4315 Q778.368 38.7509 778.368 49.9314 Q778.368 61.0714 772.818 67.4314 Q767.269 73.7508 757.547 73.7508 Q747.784 73.7508 742.234 67.4314 Q736.725 61.0714 736.725 49.9314 Q736.725 38.7509 742.234 32.4315 Q747.784 26.1121 757.547 26.1121 Z\" fill=\"#000000\" fill-rule=\"evenodd\" fill-opacity=\"1\" /><path clip-path=\"url(#clip640)\" d=\"M828.437 45.1919 L828.437 72.576 L820.984 72.576 L820.984 45.4349 Q820.984 38.994 818.472 35.7938 Q815.961 32.5936 810.937 32.5936 Q804.902 32.5936 801.418 36.4419 Q797.934 40.2903 797.934 46.9338 L797.934 72.576 L790.44 72.576 L790.44 27.2059 L797.934 27.2059 L797.934 34.2544 Q800.608 30.163 804.213 28.1376 Q807.859 26.1121 812.598 26.1121 Q820.417 26.1121 824.427 30.9732 Q828.437 35.7938 828.437 45.1919 Z\" fill=\"#000000\" fill-rule=\"evenodd\" fill-opacity=\"1\" /><path clip-path=\"url(#clip640)\" d=\"M873.159 49.3643 Q873.159 41.2625 869.797 36.8065 Q866.475 32.3505 860.44 32.3505 Q854.444 32.3505 851.082 36.8065 Q847.76 41.2625 847.76 49.3643 Q847.76 57.4256 851.082 61.8816 Q854.444 66.3376 860.44 66.3376 Q866.475 66.3376 869.797 61.8816 Q873.159 57.4256 873.159 49.3643 M880.613 66.9452 Q880.613 78.5308 875.468 84.1616 Q870.324 89.8329 859.71 89.8329 Q855.781 89.8329 852.297 89.2252 Q848.813 88.6581 845.532 87.4428 L845.532 80.1917 Q848.813 81.9741 852.014 82.8248 Q855.214 83.6755 858.536 83.6755 Q865.868 83.6755 869.514 79.8271 Q873.159 76.0193 873.159 68.282 L873.159 64.5957 Q870.85 68.6061 867.245 70.5911 Q863.64 72.576 858.617 72.576 Q850.272 72.576 845.168 66.2161 Q840.063 59.8562 840.063 49.3643 Q840.063 38.832 845.168 32.472 Q850.272 26.1121 858.617 26.1121 Q863.64 26.1121 867.245 28.0971 Q870.85 30.082 873.159 34.0924 L873.159 27.2059 L880.613 27.2059 L880.613 66.9452 Z\" fill=\"#000000\" fill-rule=\"evenodd\" fill-opacity=\"1\" /><path clip-path=\"url(#clip640)\" d=\"M922.054 9.54393 L929.548 9.54393 L929.548 46.7717 L951.787 27.2059 L961.307 27.2059 L937.245 48.4326 L962.32 72.576 L952.598 72.576 L929.548 50.4176 L929.548 72.576 L922.054 72.576 L922.054 9.54393 Z\" fill=\"#000000\" fill-rule=\"evenodd\" fill-opacity=\"1\" /><path clip-path=\"url(#clip640)\" d=\"M1006.23 48.0275 L1006.23 51.6733 L971.961 51.6733 Q972.447 59.3701 976.579 63.421 Q980.751 67.4314 988.165 67.4314 Q992.458 67.4314 996.469 66.3781 Q1000.52 65.3249 1004.49 63.2184 L1004.49 70.267 Q1000.48 71.9684 996.266 72.8596 Q992.053 73.7508 987.719 73.7508 Q976.863 73.7508 970.503 67.4314 Q964.183 61.1119 964.183 50.3365 Q964.183 39.1965 970.179 32.6746 Q976.214 26.1121 986.423 26.1121 Q995.578 26.1121 1000.88 32.0264 Q1006.23 37.9003 1006.23 48.0275 M998.778 45.84 Q998.697 39.7232 995.335 36.0774 Q992.013 32.4315 986.504 32.4315 Q980.265 32.4315 976.498 35.9558 Q972.771 39.4801 972.204 45.8805 L998.778 45.84 M982.979 6.22219 L988.975 6.22219 L998.899 21.4536 L993.269 21.4536 L985.977 11.5289 L978.685 21.4536 L973.055 21.4536 L982.979 6.22219 Z\" fill=\"#000000\" fill-rule=\"evenodd\" fill-opacity=\"1\" /><path clip-path=\"url(#clip640)\" d=\"M1073.76 28.5427 L1073.76 35.5912 Q1070.6 33.9709 1067.2 33.1607 Q1063.79 32.3505 1060.15 32.3505 Q1054.6 32.3505 1051.8 34.0519 Q1049.05 35.7533 1049.05 39.156 Q1049.05 41.7486 1051.03 43.2475 Q1053.02 44.7058 1059.01 46.0426 L1061.57 46.6097 Q1069.51 48.3111 1072.83 51.4303 Q1076.19 54.509 1076.19 60.0587 Q1076.19 66.3781 1071.17 70.0644 Q1066.18 73.7508 1057.43 73.7508 Q1053.79 73.7508 1049.82 73.0216 Q1045.89 72.3329 1041.51 70.9151 L1041.51 63.2184 Q1045.65 65.3654 1049.66 66.4591 Q1053.67 67.5124 1057.6 67.5124 Q1062.86 67.5124 1065.7 65.73 Q1068.53 63.9071 1068.53 60.6258 Q1068.53 57.5877 1066.47 55.9673 Q1064.44 54.3469 1057.52 52.8481 L1054.92 52.2405 Q1048 50.7821 1044.92 47.7845 Q1041.84 44.7463 1041.84 39.4801 Q1041.84 33.0797 1046.38 29.5959 Q1050.91 26.1121 1059.26 26.1121 Q1063.39 26.1121 1067.04 26.7198 Q1070.68 27.3274 1073.76 28.5427 Z\" fill=\"#000000\" fill-rule=\"evenodd\" fill-opacity=\"1\" /><path clip-path=\"url(#clip640)\" d=\"M1101.79 10.6782 L1109.41 10.6782 L1117.96 21.4536 L1112.32 21.4536 L1105.6 14.243 L1098.88 21.4536 L1093.24 21.4536 L1101.79 10.6782 M1122.57 2.37383 L1130.07 2.37383 L1120.83 13.0682 L1114.63 13.0682 L1122.57 2.37383 M1105.64 32.4315 Q1099.65 32.4315 1096.16 37.1306 Q1092.68 41.7891 1092.68 49.9314 Q1092.68 58.0738 1096.12 62.7728 Q1099.6 67.4314 1105.64 67.4314 Q1111.6 67.4314 1115.08 62.7323 Q1118.56 58.0333 1118.56 49.9314 Q1118.56 41.8701 1115.08 37.1711 Q1111.6 32.4315 1105.64 32.4315 M1105.64 26.1121 Q1115.36 26.1121 1120.91 32.4315 Q1126.46 38.7509 1126.46 49.9314 Q1126.46 61.0714 1120.91 67.4314 Q1115.36 73.7508 1105.64 73.7508 Q1095.88 73.7508 1090.33 67.4314 Q1084.82 61.0714 1084.82 49.9314 Q1084.82 38.7509 1090.33 32.4315 Q1095.88 26.1121 1105.64 26.1121 Z\" fill=\"#000000\" fill-rule=\"evenodd\" fill-opacity=\"1\" /><path clip-path=\"url(#clip640)\" d=\"M1165.19 9.54393 L1172.64 9.54393 L1172.64 72.576 L1165.19 72.576 L1165.19 9.54393 Z\" fill=\"#000000\" fill-rule=\"evenodd\" fill-opacity=\"1\" /><path clip-path=\"url(#clip640)\" d=\"M1220.52 32.31 L1220.52 27.4894 Q1223 29.3123 1224.78 30.2035 Q1226.56 31.0542 1227.82 31.0542 Q1229.68 31.0542 1230.61 29.9605 Q1231.54 28.8262 1231.54 26.6387 Q1231.54 25.3425 1231.22 24.0867 Q1230.94 22.8309 1230.33 21.5751 L1235.72 21.5751 Q1236.12 23.1145 1236.32 24.4918 Q1236.53 25.8691 1236.53 27.0843 Q1236.53 32.0264 1234.74 34.376 Q1233 36.685 1229.23 36.685 Q1227.29 36.685 1225.14 35.6318 Q1223.04 34.538 1220.52 32.31 M1187.55 54.671 L1187.55 27.2059 L1195 27.2059 L1195 54.3874 Q1195 60.8284 1197.52 64.0691 Q1200.03 67.2693 1205.05 67.2693 Q1211.09 67.2693 1214.57 63.421 Q1218.09 59.5726 1218.09 52.9291 L1218.09 27.2059 L1225.55 27.2059 L1225.55 72.576 L1218.09 72.576 L1218.09 65.6084 Q1215.38 69.7404 1211.77 71.7658 Q1208.21 73.7508 1203.47 73.7508 Q1195.65 73.7508 1191.6 68.8897 Q1187.55 64.0286 1187.55 54.671 M1206.31 26.1121 L1206.31 26.1121 Z\" fill=\"#000000\" fill-rule=\"evenodd\" fill-opacity=\"1\" /><path clip-path=\"url(#clip640)\" d=\"M1267.03 32.31 L1267.03 27.4894 Q1269.5 29.3123 1271.28 30.2035 Q1273.06 31.0542 1274.32 31.0542 Q1276.18 31.0542 1277.12 29.9605 Q1278.05 28.8262 1278.05 26.6387 Q1278.05 25.3425 1277.72 24.0867 Q1277.44 22.8309 1276.83 21.5751 L1282.22 21.5751 Q1282.62 23.1145 1282.83 24.4918 Q1283.03 25.8691 1283.03 27.0843 Q1283.03 32.0264 1281.25 34.376 Q1279.51 36.685 1275.74 36.685 Q1273.79 36.685 1271.65 35.6318 Q1269.54 34.538 1267.03 32.31 M1258.6 32.4315 Q1252.61 32.4315 1249.12 37.1306 Q1245.64 41.7891 1245.64 49.9314 Q1245.64 58.0738 1249.08 62.7728 Q1252.57 67.4314 1258.6 67.4314 Q1264.56 67.4314 1268.04 62.7323 Q1271.53 58.0333 1271.53 49.9314 Q1271.53 41.8701 1268.04 37.1711 Q1264.56 32.4315 1258.6 32.4315 M1258.6 26.1121 Q1268.33 26.1121 1273.87 32.4315 Q1279.42 38.7509 1279.42 49.9314 Q1279.42 61.0714 1273.87 67.4314 Q1268.33 73.7508 1258.6 73.7508 Q1248.84 73.7508 1243.29 67.4314 Q1237.78 61.0714 1237.78 49.9314 Q1237.78 38.7509 1243.29 32.4315 Q1248.84 26.1121 1258.6 26.1121 M1254.59 78.2878 L1262.05 78.2878 L1262.05 87.7669 L1254.59 87.7669 L1254.59 78.2878 Z\" fill=\"#000000\" fill-rule=\"evenodd\" fill-opacity=\"1\" /><path clip-path=\"url(#clip640)\" d=\"M1329.29 45.1919 L1329.29 72.576 L1321.84 72.576 L1321.84 45.4349 Q1321.84 38.994 1319.33 35.7938 Q1316.81 32.5936 1311.79 32.5936 Q1305.76 32.5936 1302.27 36.4419 Q1298.79 40.2903 1298.79 46.9338 L1298.79 72.576 L1291.29 72.576 L1291.29 27.2059 L1298.79 27.2059 L1298.79 34.2544 Q1301.46 30.163 1305.07 28.1376 Q1308.71 26.1121 1313.45 26.1121 Q1321.27 26.1121 1325.28 30.9732 Q1329.29 35.7938 1329.29 45.1919 Z\" fill=\"#000000\" fill-rule=\"evenodd\" fill-opacity=\"1\" /><path clip-path=\"url(#clip640)\" d=\"M1374.01 49.3643 Q1374.01 41.2625 1370.65 36.8065 Q1367.33 32.3505 1361.29 32.3505 Q1355.3 32.3505 1351.94 36.8065 Q1348.61 41.2625 1348.61 49.3643 Q1348.61 57.4256 1351.94 61.8816 Q1355.3 66.3376 1361.29 66.3376 Q1367.33 66.3376 1370.65 61.8816 Q1374.01 57.4256 1374.01 49.3643 M1381.47 66.9452 Q1381.47 78.5308 1376.32 84.1616 Q1371.18 89.8329 1360.56 89.8329 Q1356.63 89.8329 1353.15 89.2252 Q1349.67 88.6581 1346.39 87.4428 L1346.39 80.1917 Q1349.67 81.9741 1352.87 82.8248 Q1356.07 83.6755 1359.39 83.6755 Q1366.72 83.6755 1370.37 79.8271 Q1374.01 76.0193 1374.01 68.282 L1374.01 64.5957 Q1371.7 68.6061 1368.1 70.5911 Q1364.49 72.576 1359.47 72.576 Q1351.13 72.576 1346.02 66.2161 Q1340.92 59.8562 1340.92 49.3643 Q1340.92 38.832 1346.02 32.472 Q1351.13 26.1121 1359.47 26.1121 Q1364.49 26.1121 1368.1 28.0971 Q1371.7 30.082 1374.01 34.0924 L1374.01 27.2059 L1381.47 27.2059 L1381.47 66.9452 Z\" fill=\"#000000\" fill-rule=\"evenodd\" fill-opacity=\"1\" /><path clip-path=\"url(#clip640)\" d=\"M1430.56 14.324 L1430.56 27.2059 L1445.92 27.2059 L1445.92 32.9987 L1430.56 32.9987 L1430.56 57.6282 Q1430.56 63.1779 1432.06 64.7578 Q1433.6 66.3376 1438.26 66.3376 L1445.92 66.3376 L1445.92 72.576 L1438.26 72.576 Q1429.63 72.576 1426.35 69.3758 Q1423.07 66.1351 1423.07 57.6282 L1423.07 32.9987 L1417.6 32.9987 L1417.6 27.2059 L1423.07 27.2059 L1423.07 14.324 L1430.56 14.324 Z\" fill=\"#000000\" fill-rule=\"evenodd\" fill-opacity=\"1\" /><path clip-path=\"url(#clip640)\" d=\"M1493.43 45.1919 L1493.43 72.576 L1485.98 72.576 L1485.98 45.4349 Q1485.98 38.994 1483.47 35.7938 Q1480.96 32.5936 1475.93 32.5936 Q1469.9 32.5936 1466.41 36.4419 Q1462.93 40.2903 1462.93 46.9338 L1462.93 72.576 L1455.44 72.576 L1455.44 9.54393 L1462.93 9.54393 L1462.93 34.2544 Q1465.6 30.163 1469.21 28.1376 Q1472.86 26.1121 1477.59 26.1121 Q1485.41 26.1121 1489.42 30.9732 Q1493.43 35.7938 1493.43 45.1919 Z\" fill=\"#000000\" fill-rule=\"evenodd\" fill-opacity=\"1\" /><path clip-path=\"url(#clip640)\" d=\"M1547.11 48.0275 L1547.11 51.6733 L1512.84 51.6733 Q1513.32 59.3701 1517.46 63.421 Q1521.63 67.4314 1529.04 67.4314 Q1533.34 67.4314 1537.35 66.3781 Q1541.4 65.3249 1545.37 63.2184 L1545.37 70.267 Q1541.36 71.9684 1537.14 72.8596 Q1532.93 73.7508 1528.6 73.7508 Q1517.74 73.7508 1511.38 67.4314 Q1505.06 61.1119 1505.06 50.3365 Q1505.06 39.1965 1511.06 32.6746 Q1517.09 26.1121 1527.3 26.1121 Q1536.45 26.1121 1541.76 32.0264 Q1547.11 37.9003 1547.11 48.0275 M1539.65 45.84 Q1539.57 39.7232 1536.21 36.0774 Q1532.89 32.4315 1527.38 32.4315 Q1521.14 32.4315 1517.37 35.9558 Q1513.65 39.4801 1513.08 45.8805 L1539.65 45.84 Z\" fill=\"#000000\" fill-rule=\"evenodd\" fill-opacity=\"1\" /><path clip-path=\"url(#clip640)\" d=\"M1576.92 32.4315 Q1570.93 32.4315 1567.44 37.1306 Q1563.96 41.7891 1563.96 49.9314 Q1563.96 58.0738 1567.4 62.7728 Q1570.89 67.4314 1576.92 67.4314 Q1582.88 67.4314 1586.36 62.7323 Q1589.85 58.0333 1589.85 49.9314 Q1589.85 41.8701 1586.36 37.1711 Q1582.88 32.4315 1576.92 32.4315 M1576.92 26.1121 Q1586.65 26.1121 1592.19 32.4315 Q1597.74 38.7509 1597.74 49.9314 Q1597.74 61.0714 1592.19 67.4314 Q1586.65 73.7508 1576.92 73.7508 Q1567.16 73.7508 1561.61 67.4314 Q1556.1 61.0714 1556.1 49.9314 Q1556.1 38.7509 1561.61 32.4315 Q1567.16 26.1121 1576.92 26.1121 Z\" fill=\"#000000\" fill-rule=\"evenodd\" fill-opacity=\"1\" /><path clip-path=\"url(#clip640)\" d=\"M1666.33 49.3643 Q1666.33 41.2625 1662.96 36.8065 Q1659.64 32.3505 1653.61 32.3505 Q1647.61 32.3505 1644.25 36.8065 Q1640.93 41.2625 1640.93 49.3643 Q1640.93 57.4256 1644.25 61.8816 Q1647.61 66.3376 1653.61 66.3376 Q1659.64 66.3376 1662.96 61.8816 Q1666.33 57.4256 1666.33 49.3643 M1673.78 66.9452 Q1673.78 78.5308 1668.64 84.1616 Q1663.49 89.8329 1652.88 89.8329 Q1648.95 89.8329 1645.46 89.2252 Q1641.98 88.6581 1638.7 87.4428 L1638.7 80.1917 Q1641.98 81.9741 1645.18 82.8248 Q1648.38 83.6755 1651.7 83.6755 Q1659.03 83.6755 1662.68 79.8271 Q1666.33 76.0193 1666.33 68.282 L1666.33 64.5957 Q1664.02 68.6061 1660.41 70.5911 Q1656.81 72.576 1651.78 72.576 Q1643.44 72.576 1638.33 66.2161 Q1633.23 59.8562 1633.23 49.3643 Q1633.23 38.832 1638.33 32.472 Q1643.44 26.1121 1651.78 26.1121 Q1656.81 26.1121 1660.41 28.0971 Q1664.02 30.082 1666.33 34.0924 L1666.33 27.2059 L1673.78 27.2059 L1673.78 66.9452 Z\" fill=\"#000000\" fill-rule=\"evenodd\" fill-opacity=\"1\" /><path clip-path=\"url(#clip640)\" d=\"M1689.13 27.2059 L1696.59 27.2059 L1696.59 72.576 L1689.13 72.576 L1689.13 27.2059 M1689.13 9.54393 L1696.59 9.54393 L1696.59 18.9825 L1689.13 18.9825 L1689.13 9.54393 Z\" fill=\"#000000\" fill-rule=\"evenodd\" fill-opacity=\"1\" /><path clip-path=\"url(#clip640)\" d=\"M1735.39 6.22219 L1743.46 6.22219 L1730.25 21.4536 L1724.05 21.4536 L1735.39 6.22219 M1738.39 32.31 L1738.39 27.4894 Q1740.86 29.3123 1742.65 30.2035 Q1744.43 31.0542 1745.68 31.0542 Q1747.55 31.0542 1748.48 29.9605 Q1749.41 28.8262 1749.41 26.6387 Q1749.41 25.3425 1749.09 24.0867 Q1748.8 22.8309 1748.2 21.5751 L1753.58 21.5751 Q1753.99 23.1145 1754.19 24.4918 Q1754.39 25.8691 1754.39 27.0843 Q1754.39 32.0264 1752.61 34.376 Q1750.87 36.685 1747.1 36.685 Q1745.16 36.685 1743.01 35.6318 Q1740.9 34.538 1738.39 32.31 M1729.97 32.4315 Q1723.97 32.4315 1720.49 37.1306 Q1717 41.7891 1717 49.9314 Q1717 58.0738 1720.45 62.7728 Q1723.93 67.4314 1729.97 67.4314 Q1735.92 67.4314 1739.4 62.7323 Q1742.89 58.0333 1742.89 49.9314 Q1742.89 41.8701 1739.4 37.1711 Q1735.92 32.4315 1729.97 32.4315 M1729.97 26.1121 Q1739.69 26.1121 1745.24 32.4315 Q1750.79 38.7509 1750.79 49.9314 Q1750.79 61.0714 1745.24 67.4314 Q1739.69 73.7508 1729.97 73.7508 Q1720.2 73.7508 1714.65 67.4314 Q1709.14 61.0714 1709.14 49.9314 Q1709.14 38.7509 1714.65 32.4315 Q1720.2 26.1121 1729.97 26.1121 Z\" fill=\"#000000\" fill-rule=\"evenodd\" fill-opacity=\"1\" /><path clip-path=\"url(#clip640)\" d=\"M1762.94 27.2059 L1770.39 27.2059 L1770.39 72.576 L1762.94 72.576 L1762.94 27.2059 M1762.94 9.54393 L1770.39 9.54393 L1770.39 18.9825 L1762.94 18.9825 L1762.94 9.54393 Z\" fill=\"#000000\" fill-rule=\"evenodd\" fill-opacity=\"1\" /><path clip-path=\"url(#clip640)\" d=\"M1819.73 14.324 L1819.73 27.2059 L1835.09 27.2059 L1835.09 32.9987 L1819.73 32.9987 L1819.73 57.6282 Q1819.73 63.1779 1821.23 64.7578 Q1822.77 66.3376 1827.43 66.3376 L1835.09 66.3376 L1835.09 72.576 L1827.43 72.576 Q1818.8 72.576 1815.52 69.3758 Q1812.24 66.1351 1812.24 57.6282 L1812.24 32.9987 L1806.77 32.9987 L1806.77 27.2059 L1812.24 27.2059 L1812.24 14.324 L1819.73 14.324 Z\" fill=\"#000000\" fill-rule=\"evenodd\" fill-opacity=\"1\" /><path clip-path=\"url(#clip640)\" d=\"M1854.25 6.22219 L1862.31 6.22219 L1849.1 21.4536 L1842.91 21.4536 L1854.25 6.22219 M1844.89 27.2059 L1852.34 27.2059 L1852.34 72.576 L1844.89 72.576 L1844.89 27.2059 M1848.62 26.1121 L1848.62 26.1121 Z\" fill=\"#000000\" fill-rule=\"evenodd\" fill-opacity=\"1\" /><path clip-path=\"url(#clip640)\" d=\"M1905.65 45.1919 L1905.65 72.576 L1898.2 72.576 L1898.2 45.4349 Q1898.2 38.994 1895.69 35.7938 Q1893.18 32.5936 1888.15 32.5936 Q1882.12 32.5936 1878.63 36.4419 Q1875.15 40.2903 1875.15 46.9338 L1875.15 72.576 L1867.66 72.576 L1867.66 27.2059 L1875.15 27.2059 L1875.15 34.2544 Q1877.82 30.163 1881.43 28.1376 Q1885.08 26.1121 1889.81 26.1121 Q1897.63 26.1121 1901.64 30.9732 Q1905.65 35.7938 1905.65 45.1919 Z\" fill=\"#000000\" fill-rule=\"evenodd\" fill-opacity=\"1\" /><path clip-path=\"url(#clip640)\" d=\"M1958.23 45.1919 L1958.23 72.576 L1950.78 72.576 L1950.78 45.4349 Q1950.78 38.994 1948.27 35.7938 Q1945.76 32.5936 1940.73 32.5936 Q1934.7 32.5936 1931.22 36.4419 Q1927.73 40.2903 1927.73 46.9338 L1927.73 72.576 L1920.24 72.576 L1920.24 9.54393 L1927.73 9.54393 L1927.73 34.2544 Q1930.4 30.163 1934.01 28.1376 Q1937.66 26.1121 1942.4 26.1121 Q1950.21 26.1121 1954.22 30.9732 Q1958.23 35.7938 1958.23 45.1919 Z\" fill=\"#000000\" fill-rule=\"evenodd\" fill-opacity=\"1\" /><path clip-path=\"url(#clip642)\" d=\"\n",
       "M350.654 160.256 L350.654 1386.4 L1188.69 1386.4 L1188.69 160.256 L350.654 160.256 L350.654 160.256  Z\n",
       "  \" fill=\"#009af9\" fill-rule=\"evenodd\" fill-opacity=\"1\"/>\n",
       "<polyline clip-path=\"url(#clip642)\" style=\"stroke:#000000; stroke-linecap:butt; stroke-linejoin:round; stroke-width:4; stroke-opacity:1; fill:none\" points=\"\n",
       "  350.654,160.256 350.654,1386.4 1188.69,1386.4 1188.69,160.256 350.654,160.256 \n",
       "  \"/>\n",
       "<path clip-path=\"url(#clip642)\" d=\"\n",
       "M1398.19 818.185 L1398.19 1386.4 L2236.23 1386.4 L2236.23 818.185 L1398.19 818.185 L1398.19 818.185  Z\n",
       "  \" fill=\"#009af9\" fill-rule=\"evenodd\" fill-opacity=\"1\"/>\n",
       "<polyline clip-path=\"url(#clip642)\" style=\"stroke:#000000; stroke-linecap:butt; stroke-linejoin:round; stroke-width:4; stroke-opacity:1; fill:none\" points=\"\n",
       "  1398.19,818.185 1398.19,1386.4 2236.23,1386.4 2236.23,818.185 1398.19,818.185 \n",
       "  \"/>\n",
       "<circle clip-path=\"url(#clip642)\" style=\"fill:#009af9; stroke:none; fill-opacity:0\" cx=\"769.67\" cy=\"160.256\" r=\"2\"/>\n",
       "<circle clip-path=\"url(#clip642)\" style=\"fill:#009af9; stroke:none; fill-opacity:0\" cx=\"1817.21\" cy=\"818.185\" r=\"2\"/>\n",
       "<path clip-path=\"url(#clip640)\" d=\"\n",
       "M1994.3 270.476 L2282.13 270.476 L2282.13 166.796 L1994.3 166.796  Z\n",
       "  \" fill=\"#ffffff\" fill-rule=\"evenodd\" fill-opacity=\"1\"/>\n",
       "<polyline clip-path=\"url(#clip640)\" style=\"stroke:#000000; stroke-linecap:butt; stroke-linejoin:round; stroke-width:4; stroke-opacity:1; fill:none\" points=\"\n",
       "  1994.3,270.476 2282.13,270.476 2282.13,166.796 1994.3,166.796 1994.3,270.476 \n",
       "  \"/>\n",
       "<path clip-path=\"url(#clip640)\" d=\"\n",
       "M2017.84 239.372 L2159.08 239.372 L2159.08 197.9 L2017.84 197.9 L2017.84 239.372  Z\n",
       "  \" fill=\"#009af9\" fill-rule=\"evenodd\" fill-opacity=\"1\"/>\n",
       "<polyline clip-path=\"url(#clip640)\" style=\"stroke:#000000; stroke-linecap:butt; stroke-linejoin:round; stroke-width:4; stroke-opacity:1; fill:none\" points=\"\n",
       "  2017.84,239.372 2159.08,239.372 2159.08,197.9 2017.84,197.9 2017.84,239.372 \n",
       "  \"/>\n",
       "<path clip-path=\"url(#clip640)\" d=\"M2196.47 238.323 Q2194.66 242.953 2192.95 244.365 Q2191.24 245.777 2188.36 245.777 L2184.96 245.777 L2184.96 242.212 L2187.46 242.212 Q2189.22 242.212 2190.19 241.379 Q2191.17 240.545 2192.35 237.443 L2193.11 235.499 L2182.62 209.99 L2187.14 209.99 L2195.24 230.268 L2203.34 209.99 L2207.86 209.99 L2196.47 238.323 Z\" fill=\"#000000\" fill-rule=\"evenodd\" fill-opacity=\"1\" /><path clip-path=\"url(#clip640)\" d=\"M2215.15 231.981 L2222.79 231.981 L2222.79 205.615 L2214.48 207.282 L2214.48 203.022 L2222.74 201.356 L2227.42 201.356 L2227.42 231.981 L2235.05 231.981 L2235.05 235.916 L2215.15 235.916 L2215.15 231.981 Z\" fill=\"#000000\" fill-rule=\"evenodd\" fill-opacity=\"1\" /></svg>\n"
      ]
     },
     "execution_count": 10,
     "metadata": {},
     "output_type": "execute_result"
    }
   ],
   "source": [
    "#trực quan hóa\n",
    "bar(gender[!,:Gender],gender[!,:quantity],title = \"Thống kê số lượng theo giới tính\",\n",
    "    xlabel = \"giới tính\",\n",
    "    ylabel = \"số lượng\",)"
   ]
  },
  {
   "cell_type": "code",
   "execution_count": 11,
   "id": "7f7d0b4a",
   "metadata": {},
   "outputs": [
    {
     "data": {
      "text/html": [
       "<div class=\"data-frame\"><p>9 rows × 7 columns</p><table class=\"data-frame\"><thead><tr><th></th><th>variable</th><th>mean</th><th>min</th><th>median</th><th>max</th><th>nmissing</th><th>eltype</th></tr><tr><th></th><th title=\"Symbol\">Symbol</th><th title=\"Union{Nothing, Float64}\">Union…</th><th title=\"Any\">Any</th><th title=\"Union{Nothing, Float64}\">Union…</th><th title=\"Any\">Any</th><th title=\"Int64\">Int64</th><th title=\"Type\">Type</th></tr></thead><tbody><tr><th>1</th><td>id</td><td></td><td>Patient_01</td><td></td><td>Patient_99</td><td>0</td><td>String15</td></tr><tr><th>2</th><td>Age</td><td>54.49</td><td>29</td><td>56.0</td><td>77</td><td>0</td><td>Int64</td></tr><tr><th>3</th><td>Gender</td><td></td><td>Female</td><td></td><td>Male</td><td>0</td><td>String7</td></tr><tr><th>4</th><td>Type</td><td></td><td>Asymptomatic</td><td></td><td>Typical angina</td><td>5</td><td>Union{Missing, String31}</td></tr><tr><th>5</th><td>Blood_pressure</td><td>131.687</td><td>94</td><td>130.0</td><td>200</td><td>0</td><td>Int64</td></tr><tr><th>6</th><td>Cholesterol</td><td>247.07</td><td>126</td><td>242.5</td><td>564</td><td>0</td><td>Int64</td></tr><tr><th>7</th><td>Heartbeat</td><td>149.563</td><td>71</td><td>152.5</td><td>202</td><td>0</td><td>Int64</td></tr><tr><th>8</th><td>Thalassemia</td><td>4.78157</td><td>3</td><td>3.0</td><td>7</td><td>7</td><td>Union{Missing, Int64}</td></tr><tr><th>9</th><td>Result</td><td>0.46</td><td>0</td><td>0.0</td><td>1</td><td>0</td><td>Int64</td></tr></tbody></table></div>"
      ],
      "text/latex": [
       "\\begin{tabular}{r|ccccccc}\n",
       "\t& variable & mean & min & median & max & nmissing & eltype\\\\\n",
       "\t\\hline\n",
       "\t& Symbol & Union… & Any & Union… & Any & Int64 & Type\\\\\n",
       "\t\\hline\n",
       "\t1 & id &  & Patient\\_01 &  & Patient\\_99 & 0 & String15 \\\\\n",
       "\t2 & Age & 54.49 & 29 & 56.0 & 77 & 0 & Int64 \\\\\n",
       "\t3 & Gender &  & Female &  & Male & 0 & String7 \\\\\n",
       "\t4 & Type &  & Asymptomatic &  & Typical angina & 5 & Union\\{Missing, String31\\} \\\\\n",
       "\t5 & Blood\\_pressure & 131.687 & 94 & 130.0 & 200 & 0 & Int64 \\\\\n",
       "\t6 & Cholesterol & 247.07 & 126 & 242.5 & 564 & 0 & Int64 \\\\\n",
       "\t7 & Heartbeat & 149.563 & 71 & 152.5 & 202 & 0 & Int64 \\\\\n",
       "\t8 & Thalassemia & 4.78157 & 3 & 3.0 & 7 & 7 & Union\\{Missing, Int64\\} \\\\\n",
       "\t9 & Result & 0.46 & 0 & 0.0 & 1 & 0 & Int64 \\\\\n",
       "\\end{tabular}\n"
      ],
      "text/plain": [
       "\u001b[1m9×7 DataFrame\u001b[0m\n",
       "\u001b[1m Row \u001b[0m│\u001b[1m variable       \u001b[0m\u001b[1m mean    \u001b[0m\u001b[1m min          \u001b[0m\u001b[1m median \u001b[0m\u001b[1m max            \u001b[0m\u001b[1m nmissing\u001b[0m ⋯\n",
       "\u001b[1m     \u001b[0m│\u001b[90m Symbol         \u001b[0m\u001b[90m Union…  \u001b[0m\u001b[90m Any          \u001b[0m\u001b[90m Union… \u001b[0m\u001b[90m Any            \u001b[0m\u001b[90m Int64   \u001b[0m ⋯\n",
       "─────┼──────────────────────────────────────────────────────────────────────────\n",
       "   1 │ id             \u001b[90m         \u001b[0m Patient_01   \u001b[90m        \u001b[0m Patient_99             0 ⋯\n",
       "   2 │ Age             54.49    29            56.0    77                     0\n",
       "   3 │ Gender         \u001b[90m         \u001b[0m Female       \u001b[90m        \u001b[0m Male                   0\n",
       "   4 │ Type           \u001b[90m         \u001b[0m Asymptomatic \u001b[90m        \u001b[0m Typical angina         5\n",
       "   5 │ Blood_pressure  131.687  94            130.0   200                    0 ⋯\n",
       "   6 │ Cholesterol     247.07   126           242.5   564                    0\n",
       "   7 │ Heartbeat       149.563  71            152.5   202                    0\n",
       "   8 │ Thalassemia     4.78157  3             3.0     7                      7\n",
       "   9 │ Result          0.46     0             0.0     1                      0 ⋯\n",
       "\u001b[36m                                                                1 column omitted\u001b[0m"
      ]
     },
     "execution_count": 11,
     "metadata": {},
     "output_type": "execute_result"
    }
   ],
   "source": [
    "describe(df)"
   ]
  },
  {
   "cell_type": "code",
   "execution_count": 12,
   "id": "576da865",
   "metadata": {},
   "outputs": [
    {
     "data": {
      "text/plain": [
       "9-element Vector{String}:\n",
       " \"id\"\n",
       " \"Age\"\n",
       " \"Gender\"\n",
       " \"Type\"\n",
       " \"Blood_pressure\"\n",
       " \"Cholesterol\"\n",
       " \"Heartbeat\"\n",
       " \"Thalassemia\"\n",
       " \"Result\""
      ]
     },
     "execution_count": 12,
     "metadata": {},
     "output_type": "execute_result"
    }
   ],
   "source": [
    "names(df)"
   ]
  },
  {
   "cell_type": "code",
   "execution_count": 13,
   "id": "d5d8109f",
   "metadata": {},
   "outputs": [
    {
     "data": {
      "text/html": [
       "<div class=\"data-frame\"><p>5 rows × 2 columns</p><table class=\"data-frame\"><thead><tr><th></th><th>Type</th><th>quantity</th></tr><tr><th></th><th title=\"Union{Missing, String31}\">String31?</th><th title=\"Int64\">Int64</th></tr></thead><tbody><tr><th>1</th><td><em>missing</em></td><td>5</td></tr><tr><th>2</th><td>Typical angina</td><td>23</td></tr><tr><th>3</th><td>Asymptomatic</td><td>139</td></tr><tr><th>4</th><td>Non-anginal pain</td><td>84</td></tr><tr><th>5</th><td>Atypical angina</td><td>49</td></tr></tbody></table></div>"
      ],
      "text/latex": [
       "\\begin{tabular}{r|cc}\n",
       "\t& Type & quantity\\\\\n",
       "\t\\hline\n",
       "\t& String31? & Int64\\\\\n",
       "\t\\hline\n",
       "\t1 & \\emph{missing} & 5 \\\\\n",
       "\t2 & Typical angina & 23 \\\\\n",
       "\t3 & Asymptomatic & 139 \\\\\n",
       "\t4 & Non-anginal pain & 84 \\\\\n",
       "\t5 & Atypical angina & 49 \\\\\n",
       "\\end{tabular}\n"
      ],
      "text/plain": [
       "\u001b[1m5×2 DataFrame\u001b[0m\n",
       "\u001b[1m Row \u001b[0m│\u001b[1m Type             \u001b[0m\u001b[1m quantity \u001b[0m\n",
       "\u001b[1m     \u001b[0m│\u001b[90m String31?        \u001b[0m\u001b[90m Int64    \u001b[0m\n",
       "─────┼────────────────────────────\n",
       "   1 │\u001b[90m missing          \u001b[0m        5\n",
       "   2 │ Typical angina          23\n",
       "   3 │ Asymptomatic           139\n",
       "   4 │ Non-anginal pain        84\n",
       "   5 │ Atypical angina         49"
      ]
     },
     "execution_count": 13,
     "metadata": {},
     "output_type": "execute_result"
    }
   ],
   "source": [
    "df_Type =combine(groupby(df,:Type),nrow => :quantity)"
   ]
  },
  {
   "cell_type": "code",
   "execution_count": 14,
   "id": "01278ae7",
   "metadata": {},
   "outputs": [
    {
     "data": {
      "text/html": [
       "<div class=\"data-frame\"><p>4 rows × 2 columns</p><table class=\"data-frame\"><thead><tr><th></th><th>Thalassemia</th><th>quantity</th></tr><tr><th></th><th title=\"Union{Missing, Int64}\">Int64?</th><th title=\"Int64\">Int64</th></tr></thead><tbody><tr><th>1</th><td>3</td><td>158</td></tr><tr><th>2</th><td>6</td><td>18</td></tr><tr><th>3</th><td>7</td><td>117</td></tr><tr><th>4</th><td><em>missing</em></td><td>7</td></tr></tbody></table></div>"
      ],
      "text/latex": [
       "\\begin{tabular}{r|cc}\n",
       "\t& Thalassemia & quantity\\\\\n",
       "\t\\hline\n",
       "\t& Int64? & Int64\\\\\n",
       "\t\\hline\n",
       "\t1 & 3 & 158 \\\\\n",
       "\t2 & 6 & 18 \\\\\n",
       "\t3 & 7 & 117 \\\\\n",
       "\t4 & \\emph{missing} & 7 \\\\\n",
       "\\end{tabular}\n"
      ],
      "text/plain": [
       "\u001b[1m4×2 DataFrame\u001b[0m\n",
       "\u001b[1m Row \u001b[0m│\u001b[1m Thalassemia \u001b[0m\u001b[1m quantity \u001b[0m\n",
       "\u001b[1m     \u001b[0m│\u001b[90m Int64?      \u001b[0m\u001b[90m Int64    \u001b[0m\n",
       "─────┼───────────────────────\n",
       "   1 │           3       158\n",
       "   2 │           6        18\n",
       "   3 │           7       117\n",
       "   4 │\u001b[90m     missing \u001b[0m        7"
      ]
     },
     "execution_count": 14,
     "metadata": {},
     "output_type": "execute_result"
    }
   ],
   "source": [
    "df_Thalassemia =combine(groupby(df,:Thalassemia),nrow => :quantity)"
   ]
  },
  {
   "cell_type": "code",
   "execution_count": 15,
   "id": "37d083c6",
   "metadata": {},
   "outputs": [
    {
     "data": {
      "text/html": [
       "<div class=\"data-frame\"><p>9 rows × 7 columns</p><table class=\"data-frame\"><thead><tr><th></th><th>variable</th><th>mean</th><th>min</th><th>median</th><th>max</th><th>nmissing</th><th>eltype</th></tr><tr><th></th><th title=\"Symbol\">Symbol</th><th title=\"Union{Nothing, Float64}\">Union…</th><th title=\"Any\">Any</th><th title=\"Union{Nothing, Float64}\">Union…</th><th title=\"Any\">Any</th><th title=\"Int64\">Int64</th><th title=\"DataType\">DataType</th></tr></thead><tbody><tr><th>1</th><td>id</td><td></td><td>Patient_01</td><td></td><td>Patient_99</td><td>0</td><td>String15</td></tr><tr><th>2</th><td>Age</td><td>54.49</td><td>29</td><td>56.0</td><td>77</td><td>0</td><td>Int64</td></tr><tr><th>3</th><td>Gender</td><td></td><td>Female</td><td></td><td>Male</td><td>0</td><td>String7</td></tr><tr><th>4</th><td>Type</td><td></td><td>Asymptomatic</td><td></td><td>Typical angina</td><td>0</td><td>AbstractString</td></tr><tr><th>5</th><td>Blood_pressure</td><td>131.687</td><td>94</td><td>130.0</td><td>200</td><td>0</td><td>Int64</td></tr><tr><th>6</th><td>Cholesterol</td><td>247.07</td><td>126</td><td>242.5</td><td>564</td><td>0</td><td>Int64</td></tr><tr><th>7</th><td>Heartbeat</td><td>149.563</td><td>71</td><td>152.5</td><td>202</td><td>0</td><td>Int64</td></tr><tr><th>8</th><td>Thalassemia</td><td>4.74</td><td>3</td><td>3.0</td><td>7</td><td>0</td><td>Int64</td></tr><tr><th>9</th><td>Result</td><td>0.46</td><td>0</td><td>0.0</td><td>1</td><td>0</td><td>Int64</td></tr></tbody></table></div>"
      ],
      "text/latex": [
       "\\begin{tabular}{r|ccccccc}\n",
       "\t& variable & mean & min & median & max & nmissing & eltype\\\\\n",
       "\t\\hline\n",
       "\t& Symbol & Union… & Any & Union… & Any & Int64 & DataType\\\\\n",
       "\t\\hline\n",
       "\t1 & id &  & Patient\\_01 &  & Patient\\_99 & 0 & String15 \\\\\n",
       "\t2 & Age & 54.49 & 29 & 56.0 & 77 & 0 & Int64 \\\\\n",
       "\t3 & Gender &  & Female &  & Male & 0 & String7 \\\\\n",
       "\t4 & Type &  & Asymptomatic &  & Typical angina & 0 & AbstractString \\\\\n",
       "\t5 & Blood\\_pressure & 131.687 & 94 & 130.0 & 200 & 0 & Int64 \\\\\n",
       "\t6 & Cholesterol & 247.07 & 126 & 242.5 & 564 & 0 & Int64 \\\\\n",
       "\t7 & Heartbeat & 149.563 & 71 & 152.5 & 202 & 0 & Int64 \\\\\n",
       "\t8 & Thalassemia & 4.74 & 3 & 3.0 & 7 & 0 & Int64 \\\\\n",
       "\t9 & Result & 0.46 & 0 & 0.0 & 1 & 0 & Int64 \\\\\n",
       "\\end{tabular}\n"
      ],
      "text/plain": [
       "\u001b[1m9×7 DataFrame\u001b[0m\n",
       "\u001b[1m Row \u001b[0m│\u001b[1m variable       \u001b[0m\u001b[1m mean    \u001b[0m\u001b[1m min          \u001b[0m\u001b[1m median \u001b[0m\u001b[1m max            \u001b[0m\u001b[1m nmissing\u001b[0m ⋯\n",
       "\u001b[1m     \u001b[0m│\u001b[90m Symbol         \u001b[0m\u001b[90m Union…  \u001b[0m\u001b[90m Any          \u001b[0m\u001b[90m Union… \u001b[0m\u001b[90m Any            \u001b[0m\u001b[90m Int64   \u001b[0m ⋯\n",
       "─────┼──────────────────────────────────────────────────────────────────────────\n",
       "   1 │ id             \u001b[90m         \u001b[0m Patient_01   \u001b[90m        \u001b[0m Patient_99             0 ⋯\n",
       "   2 │ Age             54.49    29            56.0    77                     0\n",
       "   3 │ Gender         \u001b[90m         \u001b[0m Female       \u001b[90m        \u001b[0m Male                   0\n",
       "   4 │ Type           \u001b[90m         \u001b[0m Asymptomatic \u001b[90m        \u001b[0m Typical angina         0\n",
       "   5 │ Blood_pressure  131.687  94            130.0   200                    0 ⋯\n",
       "   6 │ Cholesterol     247.07   126           242.5   564                    0\n",
       "   7 │ Heartbeat       149.563  71            152.5   202                    0\n",
       "   8 │ Thalassemia     4.74     3             3.0     7                      0\n",
       "   9 │ Result          0.46     0             0.0     1                      0 ⋯\n",
       "\u001b[36m                                                                1 column omitted\u001b[0m"
      ]
     },
     "execution_count": 15,
     "metadata": {},
     "output_type": "execute_result"
    }
   ],
   "source": [
    "#treatment data missing\n",
    "df.Type=coalesce.(df.Type,\"Asymptomatic\")\n",
    "df.Thalassemia=coalesce.(df.Thalassemia,3)\n",
    "describe(df)"
   ]
  },
  {
   "cell_type": "code",
   "execution_count": 16,
   "id": "8109c77a",
   "metadata": {},
   "outputs": [
    {
     "data": {
      "text/html": [
       "<div class=\"data-frame\"><p>300 rows × 9 columns (omitted printing of 1 columns)</p><table class=\"data-frame\"><thead><tr><th></th><th>id</th><th>Age</th><th>Gender</th><th>Type</th><th>Blood_pressure</th><th>Cholesterol</th><th>Heartbeat</th><th>Thalassemia</th></tr><tr><th></th><th title=\"String15\">String15</th><th title=\"Int64\">Int64</th><th title=\"Any\">Any</th><th title=\"Any\">Any</th><th title=\"Int64\">Int64</th><th title=\"Int64\">Int64</th><th title=\"Int64\">Int64</th><th title=\"Int64\">Int64</th></tr></thead><tbody><tr><th>1</th><td>Patient_01</td><td>63</td><td>0</td><td>1</td><td>145</td><td>233</td><td>150</td><td>6</td></tr><tr><th>2</th><td>Patient_02</td><td>67</td><td>0</td><td>2</td><td>160</td><td>286</td><td>108</td><td>3</td></tr><tr><th>3</th><td>Patient_03</td><td>67</td><td>0</td><td>2</td><td>120</td><td>229</td><td>129</td><td>7</td></tr><tr><th>4</th><td>Patient_04</td><td>37</td><td>0</td><td>3</td><td>130</td><td>250</td><td>187</td><td>3</td></tr><tr><th>5</th><td>Patient_05</td><td>41</td><td>1</td><td>4</td><td>130</td><td>204</td><td>172</td><td>3</td></tr><tr><th>6</th><td>Patient_16</td><td>56</td><td>0</td><td>4</td><td>120</td><td>236</td><td>178</td><td>3</td></tr><tr><th>7</th><td>Patient_07</td><td>62</td><td>1</td><td>2</td><td>140</td><td>268</td><td>160</td><td>3</td></tr><tr><th>8</th><td>Patient_08</td><td>57</td><td>1</td><td>2</td><td>120</td><td>354</td><td>163</td><td>3</td></tr><tr><th>9</th><td>Patient_19</td><td>63</td><td>0</td><td>2</td><td>130</td><td>254</td><td>147</td><td>7</td></tr><tr><th>10</th><td>Patient_10</td><td>53</td><td>0</td><td>2</td><td>140</td><td>203</td><td>155</td><td>7</td></tr><tr><th>11</th><td>Patient_110</td><td>57</td><td>0</td><td>2</td><td>140</td><td>192</td><td>148</td><td>6</td></tr><tr><th>12</th><td>Patient_120</td><td>56</td><td>1</td><td>4</td><td>140</td><td>294</td><td>153</td><td>3</td></tr><tr><th>13</th><td>Patient_130</td><td>56</td><td>0</td><td>3</td><td>130</td><td>256</td><td>142</td><td>6</td></tr><tr><th>14</th><td>Patient_140</td><td>44</td><td>0</td><td>4</td><td>120</td><td>263</td><td>173</td><td>7</td></tr><tr><th>15</th><td>Patient_150</td><td>52</td><td>0</td><td>3</td><td>172</td><td>199</td><td>162</td><td>7</td></tr><tr><th>16</th><td>Patient_160</td><td>57</td><td>0</td><td>3</td><td>150</td><td>168</td><td>174</td><td>3</td></tr><tr><th>17</th><td>Patient_170</td><td>48</td><td>0</td><td>4</td><td>110</td><td>229</td><td>168</td><td>7</td></tr><tr><th>18</th><td>Patient_180</td><td>54</td><td>0</td><td>2</td><td>140</td><td>239</td><td>160</td><td>3</td></tr><tr><th>19</th><td>Patient_190</td><td>48</td><td>1</td><td>3</td><td>130</td><td>275</td><td>139</td><td>3</td></tr><tr><th>20</th><td>Patient_200</td><td>49</td><td>0</td><td>4</td><td>130</td><td>266</td><td>171</td><td>3</td></tr><tr><th>21</th><td>Patient_21</td><td>64</td><td>0</td><td>1</td><td>110</td><td>211</td><td>144</td><td>3</td></tr><tr><th>22</th><td>Patient_22</td><td>58</td><td>1</td><td>1</td><td>150</td><td>283</td><td>162</td><td>3</td></tr><tr><th>23</th><td>Patient_23</td><td>58</td><td>0</td><td>4</td><td>120</td><td>284</td><td>160</td><td>3</td></tr><tr><th>24</th><td>Patient_24</td><td>58</td><td>0</td><td>3</td><td>132</td><td>224</td><td>173</td><td>7</td></tr><tr><th>25</th><td>Patient_25</td><td>60</td><td>0</td><td>2</td><td>130</td><td>206</td><td>132</td><td>7</td></tr><tr><th>26</th><td>Patient_26</td><td>50</td><td>1</td><td>3</td><td>120</td><td>219</td><td>158</td><td>3</td></tr><tr><th>27</th><td>Patient_27</td><td>58</td><td>1</td><td>3</td><td>120</td><td>340</td><td>172</td><td>3</td></tr><tr><th>28</th><td>Patient_28</td><td>66</td><td>1</td><td>1</td><td>150</td><td>226</td><td>114</td><td>3</td></tr><tr><th>29</th><td>Patient_29</td><td>43</td><td>0</td><td>2</td><td>150</td><td>247</td><td>171</td><td>3</td></tr><tr><th>30</th><td>Patient_30</td><td>40</td><td>0</td><td>2</td><td>110</td><td>167</td><td>114</td><td>7</td></tr><tr><th>&vellip;</th><td>&vellip;</td><td>&vellip;</td><td>&vellip;</td><td>&vellip;</td><td>&vellip;</td><td>&vellip;</td><td>&vellip;</td><td>&vellip;</td></tr></tbody></table></div>"
      ],
      "text/latex": [
       "\\begin{tabular}{r|ccccccccc}\n",
       "\t& id & Age & Gender & Type & Blood\\_pressure & Cholesterol & Heartbeat & Thalassemia & \\\\\n",
       "\t\\hline\n",
       "\t& String15 & Int64 & Any & Any & Int64 & Int64 & Int64 & Int64 & \\\\\n",
       "\t\\hline\n",
       "\t1 & Patient\\_01 & 63 & 0 & 1 & 145 & 233 & 150 & 6 & $\\dots$ \\\\\n",
       "\t2 & Patient\\_02 & 67 & 0 & 2 & 160 & 286 & 108 & 3 & $\\dots$ \\\\\n",
       "\t3 & Patient\\_03 & 67 & 0 & 2 & 120 & 229 & 129 & 7 & $\\dots$ \\\\\n",
       "\t4 & Patient\\_04 & 37 & 0 & 3 & 130 & 250 & 187 & 3 & $\\dots$ \\\\\n",
       "\t5 & Patient\\_05 & 41 & 1 & 4 & 130 & 204 & 172 & 3 & $\\dots$ \\\\\n",
       "\t6 & Patient\\_16 & 56 & 0 & 4 & 120 & 236 & 178 & 3 & $\\dots$ \\\\\n",
       "\t7 & Patient\\_07 & 62 & 1 & 2 & 140 & 268 & 160 & 3 & $\\dots$ \\\\\n",
       "\t8 & Patient\\_08 & 57 & 1 & 2 & 120 & 354 & 163 & 3 & $\\dots$ \\\\\n",
       "\t9 & Patient\\_19 & 63 & 0 & 2 & 130 & 254 & 147 & 7 & $\\dots$ \\\\\n",
       "\t10 & Patient\\_10 & 53 & 0 & 2 & 140 & 203 & 155 & 7 & $\\dots$ \\\\\n",
       "\t11 & Patient\\_110 & 57 & 0 & 2 & 140 & 192 & 148 & 6 & $\\dots$ \\\\\n",
       "\t12 & Patient\\_120 & 56 & 1 & 4 & 140 & 294 & 153 & 3 & $\\dots$ \\\\\n",
       "\t13 & Patient\\_130 & 56 & 0 & 3 & 130 & 256 & 142 & 6 & $\\dots$ \\\\\n",
       "\t14 & Patient\\_140 & 44 & 0 & 4 & 120 & 263 & 173 & 7 & $\\dots$ \\\\\n",
       "\t15 & Patient\\_150 & 52 & 0 & 3 & 172 & 199 & 162 & 7 & $\\dots$ \\\\\n",
       "\t16 & Patient\\_160 & 57 & 0 & 3 & 150 & 168 & 174 & 3 & $\\dots$ \\\\\n",
       "\t17 & Patient\\_170 & 48 & 0 & 4 & 110 & 229 & 168 & 7 & $\\dots$ \\\\\n",
       "\t18 & Patient\\_180 & 54 & 0 & 2 & 140 & 239 & 160 & 3 & $\\dots$ \\\\\n",
       "\t19 & Patient\\_190 & 48 & 1 & 3 & 130 & 275 & 139 & 3 & $\\dots$ \\\\\n",
       "\t20 & Patient\\_200 & 49 & 0 & 4 & 130 & 266 & 171 & 3 & $\\dots$ \\\\\n",
       "\t21 & Patient\\_21 & 64 & 0 & 1 & 110 & 211 & 144 & 3 & $\\dots$ \\\\\n",
       "\t22 & Patient\\_22 & 58 & 1 & 1 & 150 & 283 & 162 & 3 & $\\dots$ \\\\\n",
       "\t23 & Patient\\_23 & 58 & 0 & 4 & 120 & 284 & 160 & 3 & $\\dots$ \\\\\n",
       "\t24 & Patient\\_24 & 58 & 0 & 3 & 132 & 224 & 173 & 7 & $\\dots$ \\\\\n",
       "\t25 & Patient\\_25 & 60 & 0 & 2 & 130 & 206 & 132 & 7 & $\\dots$ \\\\\n",
       "\t26 & Patient\\_26 & 50 & 1 & 3 & 120 & 219 & 158 & 3 & $\\dots$ \\\\\n",
       "\t27 & Patient\\_27 & 58 & 1 & 3 & 120 & 340 & 172 & 3 & $\\dots$ \\\\\n",
       "\t28 & Patient\\_28 & 66 & 1 & 1 & 150 & 226 & 114 & 3 & $\\dots$ \\\\\n",
       "\t29 & Patient\\_29 & 43 & 0 & 2 & 150 & 247 & 171 & 3 & $\\dots$ \\\\\n",
       "\t30 & Patient\\_30 & 40 & 0 & 2 & 110 & 167 & 114 & 7 & $\\dots$ \\\\\n",
       "\t$\\dots$ & $\\dots$ & $\\dots$ & $\\dots$ & $\\dots$ & $\\dots$ & $\\dots$ & $\\dots$ & $\\dots$ &  \\\\\n",
       "\\end{tabular}\n"
      ],
      "text/plain": [
       "\u001b[1m300×9 DataFrame\u001b[0m\n",
       "\u001b[1m Row \u001b[0m│\u001b[1m id          \u001b[0m\u001b[1m Age   \u001b[0m\u001b[1m Gender \u001b[0m\u001b[1m Type \u001b[0m\u001b[1m Blood_pressure \u001b[0m\u001b[1m Cholesterol \u001b[0m\u001b[1m Heartbea\u001b[0m ⋯\n",
       "\u001b[1m     \u001b[0m│\u001b[90m String15    \u001b[0m\u001b[90m Int64 \u001b[0m\u001b[90m Any    \u001b[0m\u001b[90m Any  \u001b[0m\u001b[90m Int64          \u001b[0m\u001b[90m Int64       \u001b[0m\u001b[90m Int64   \u001b[0m ⋯\n",
       "─────┼──────────────────────────────────────────────────────────────────────────\n",
       "   1 │ Patient_01      63  0       1                145          233        15 ⋯\n",
       "   2 │ Patient_02      67  0       2                160          286        10\n",
       "   3 │ Patient_03      67  0       2                120          229        12\n",
       "   4 │ Patient_04      37  0       3                130          250        18\n",
       "   5 │ Patient_05      41  1       4                130          204        17 ⋯\n",
       "   6 │ Patient_16      56  0       4                120          236        17\n",
       "   7 │ Patient_07      62  1       2                140          268        16\n",
       "   8 │ Patient_08      57  1       2                120          354        16\n",
       "   9 │ Patient_19      63  0       2                130          254        14 ⋯\n",
       "  10 │ Patient_10      53  0       2                140          203        15\n",
       "  11 │ Patient_110     57  0       2                140          192        14\n",
       "  ⋮  │      ⋮         ⋮      ⋮      ⋮          ⋮              ⋮           ⋮    ⋱\n",
       " 291 │ Patient_291     55  1       4                132          342        16\n",
       " 292 │ Patient_292     44  0       2                120          169        14 ⋯\n",
       " 293 │ Patient_293     63  0       2                140          187        14\n",
       " 294 │ Patient_294     63  1       2                124          197        13\n",
       " 295 │ Patient_295     41  0       4                120          157        18\n",
       " 296 │ Patient_296     59  0       2                164          176         9 ⋯\n",
       " 297 │ Patient_297     57  1       2                140          241        12\n",
       " 298 │ Patient_298     45  0       1                110          264        13\n",
       " 299 │ Patient_299     68  0       2                144          193        14\n",
       " 300 │ Patient_300     57  0       2                130          131        11 ⋯\n",
       "\u001b[36m                                                  3 columns and 279 rows omitted\u001b[0m"
      ]
     },
     "execution_count": 16,
     "metadata": {},
     "output_type": "execute_result"
    }
   ],
   "source": [
    "\n",
    "df.Gender=replace(df.Gender,\"e\"=>0)\n",
    "df.Type=replace(df.Type,\"TypicaFemale\"=>1)\n",
    "df.Gender=replace(df.Gender,\"Mall angina\"=>1)\n",
    "df.Type=replace(df.Type,\"Asymptomatic\"=>2)\n",
    "df.Type=replace(df.Type,\"Non-anginal pain\"=>3)\n",
    "df.Type=replace(df.Type,\"Atypical angina\"=>4)\n",
    "df"
   ]
  },
  {
   "cell_type": "code",
   "execution_count": 17,
   "id": "70c8728c",
   "metadata": {},
   "outputs": [
    {
     "data": {
      "text/html": [
       "<div class=\"data-frame\"><p>9 rows × 7 columns</p><table class=\"data-frame\"><thead><tr><th></th><th>variable</th><th>mean</th><th>min</th><th>median</th><th>max</th><th>nmissing</th><th>eltype</th></tr><tr><th></th><th title=\"Symbol\">Symbol</th><th title=\"Union{Nothing, Float64}\">Union…</th><th title=\"Any\">Any</th><th title=\"Union{Nothing, Float64}\">Union…</th><th title=\"Any\">Any</th><th title=\"Int64\">Int64</th><th title=\"DataType\">DataType</th></tr></thead><tbody><tr><th>1</th><td>id</td><td></td><td>Patient_01</td><td></td><td>Patient_99</td><td>0</td><td>String15</td></tr><tr><th>2</th><td>Age</td><td>54.49</td><td>29</td><td>56.0</td><td>77</td><td>0</td><td>Int64</td></tr><tr><th>3</th><td>Gender</td><td>0.316667</td><td>0</td><td>0.0</td><td>1</td><td>0</td><td>Any</td></tr><tr><th>4</th><td>Type</td><td>2.53</td><td>1</td><td>2.0</td><td>4</td><td>0</td><td>Any</td></tr><tr><th>5</th><td>Blood_pressure</td><td>131.687</td><td>94</td><td>130.0</td><td>200</td><td>0</td><td>Int64</td></tr><tr><th>6</th><td>Cholesterol</td><td>247.07</td><td>126</td><td>242.5</td><td>564</td><td>0</td><td>Int64</td></tr><tr><th>7</th><td>Heartbeat</td><td>149.563</td><td>71</td><td>152.5</td><td>202</td><td>0</td><td>Int64</td></tr><tr><th>8</th><td>Thalassemia</td><td>4.74</td><td>3</td><td>3.0</td><td>7</td><td>0</td><td>Int64</td></tr><tr><th>9</th><td>Result</td><td>0.46</td><td>0</td><td>0.0</td><td>1</td><td>0</td><td>Int64</td></tr></tbody></table></div>"
      ],
      "text/latex": [
       "\\begin{tabular}{r|ccccccc}\n",
       "\t& variable & mean & min & median & max & nmissing & eltype\\\\\n",
       "\t\\hline\n",
       "\t& Symbol & Union… & Any & Union… & Any & Int64 & DataType\\\\\n",
       "\t\\hline\n",
       "\t1 & id &  & Patient\\_01 &  & Patient\\_99 & 0 & String15 \\\\\n",
       "\t2 & Age & 54.49 & 29 & 56.0 & 77 & 0 & Int64 \\\\\n",
       "\t3 & Gender & 0.316667 & 0 & 0.0 & 1 & 0 & Any \\\\\n",
       "\t4 & Type & 2.53 & 1 & 2.0 & 4 & 0 & Any \\\\\n",
       "\t5 & Blood\\_pressure & 131.687 & 94 & 130.0 & 200 & 0 & Int64 \\\\\n",
       "\t6 & Cholesterol & 247.07 & 126 & 242.5 & 564 & 0 & Int64 \\\\\n",
       "\t7 & Heartbeat & 149.563 & 71 & 152.5 & 202 & 0 & Int64 \\\\\n",
       "\t8 & Thalassemia & 4.74 & 3 & 3.0 & 7 & 0 & Int64 \\\\\n",
       "\t9 & Result & 0.46 & 0 & 0.0 & 1 & 0 & Int64 \\\\\n",
       "\\end{tabular}\n"
      ],
      "text/plain": [
       "\u001b[1m9×7 DataFrame\u001b[0m\n",
       "\u001b[1m Row \u001b[0m│\u001b[1m variable       \u001b[0m\u001b[1m mean     \u001b[0m\u001b[1m min        \u001b[0m\u001b[1m median \u001b[0m\u001b[1m max        \u001b[0m\u001b[1m nmissing \u001b[0m\u001b[1m elt\u001b[0m ⋯\n",
       "\u001b[1m     \u001b[0m│\u001b[90m Symbol         \u001b[0m\u001b[90m Union…   \u001b[0m\u001b[90m Any        \u001b[0m\u001b[90m Union… \u001b[0m\u001b[90m Any        \u001b[0m\u001b[90m Int64    \u001b[0m\u001b[90m Dat\u001b[0m ⋯\n",
       "─────┼──────────────────────────────────────────────────────────────────────────\n",
       "   1 │ id             \u001b[90m          \u001b[0m Patient_01 \u001b[90m        \u001b[0m Patient_99         0  Str ⋯\n",
       "   2 │ Age             54.49     29          56.0    77                 0  Int\n",
       "   3 │ Gender          0.316667  0           0.0     1                  0  Any\n",
       "   4 │ Type            2.53      1           2.0     4                  0  Any\n",
       "   5 │ Blood_pressure  131.687   94          130.0   200                0  Int ⋯\n",
       "   6 │ Cholesterol     247.07    126         242.5   564                0  Int\n",
       "   7 │ Heartbeat       149.563   71          152.5   202                0  Int\n",
       "   8 │ Thalassemia     4.74      3           3.0     7                  0  Int\n",
       "   9 │ Result          0.46      0           0.0     1                  0  Int ⋯\n",
       "\u001b[36m                                                                1 column omitted\u001b[0m"
      ]
     },
     "execution_count": 17,
     "metadata": {},
     "output_type": "execute_result"
    }
   ],
   "source": [
    "describe(df)"
   ]
  },
  {
   "cell_type": "code",
   "execution_count": 18,
   "id": "3e0b318c",
   "metadata": {},
   "outputs": [
    {
     "data": {
      "text/html": [
       "<div class=\"data-frame\"><p>9 rows × 7 columns</p><table class=\"data-frame\"><thead><tr><th></th><th>variable</th><th>mean</th><th>min</th><th>median</th><th>max</th><th>nmissing</th><th>eltype</th></tr><tr><th></th><th title=\"Symbol\">Symbol</th><th title=\"Union{Nothing, Float64}\">Union…</th><th title=\"Any\">Any</th><th title=\"Union{Nothing, Float64}\">Union…</th><th title=\"Any\">Any</th><th title=\"Int64\">Int64</th><th title=\"DataType\">DataType</th></tr></thead><tbody><tr><th>1</th><td>id</td><td></td><td>Patient_01</td><td></td><td>Patient_99</td><td>0</td><td>String15</td></tr><tr><th>2</th><td>Age</td><td>54.49</td><td>29</td><td>56.0</td><td>77</td><td>0</td><td>Int64</td></tr><tr><th>3</th><td>Gender</td><td>0.316667</td><td>0</td><td>0.0</td><td>1</td><td>0</td><td>Int64</td></tr><tr><th>4</th><td>Type</td><td>2.53</td><td>1</td><td>2.0</td><td>4</td><td>0</td><td>Int64</td></tr><tr><th>5</th><td>Blood_pressure</td><td>131.687</td><td>94</td><td>130.0</td><td>200</td><td>0</td><td>Int64</td></tr><tr><th>6</th><td>Cholesterol</td><td>247.07</td><td>126</td><td>242.5</td><td>564</td><td>0</td><td>Int64</td></tr><tr><th>7</th><td>Heartbeat</td><td>149.563</td><td>71</td><td>152.5</td><td>202</td><td>0</td><td>Int64</td></tr><tr><th>8</th><td>Thalassemia</td><td>4.74</td><td>3</td><td>3.0</td><td>7</td><td>0</td><td>Int64</td></tr><tr><th>9</th><td>Result</td><td>0.46</td><td>0</td><td>0.0</td><td>1</td><td>0</td><td>Int64</td></tr></tbody></table></div>"
      ],
      "text/latex": [
       "\\begin{tabular}{r|ccccccc}\n",
       "\t& variable & mean & min & median & max & nmissing & eltype\\\\\n",
       "\t\\hline\n",
       "\t& Symbol & Union… & Any & Union… & Any & Int64 & DataType\\\\\n",
       "\t\\hline\n",
       "\t1 & id &  & Patient\\_01 &  & Patient\\_99 & 0 & String15 \\\\\n",
       "\t2 & Age & 54.49 & 29 & 56.0 & 77 & 0 & Int64 \\\\\n",
       "\t3 & Gender & 0.316667 & 0 & 0.0 & 1 & 0 & Int64 \\\\\n",
       "\t4 & Type & 2.53 & 1 & 2.0 & 4 & 0 & Int64 \\\\\n",
       "\t5 & Blood\\_pressure & 131.687 & 94 & 130.0 & 200 & 0 & Int64 \\\\\n",
       "\t6 & Cholesterol & 247.07 & 126 & 242.5 & 564 & 0 & Int64 \\\\\n",
       "\t7 & Heartbeat & 149.563 & 71 & 152.5 & 202 & 0 & Int64 \\\\\n",
       "\t8 & Thalassemia & 4.74 & 3 & 3.0 & 7 & 0 & Int64 \\\\\n",
       "\t9 & Result & 0.46 & 0 & 0.0 & 1 & 0 & Int64 \\\\\n",
       "\\end{tabular}\n"
      ],
      "text/plain": [
       "\u001b[1m9×7 DataFrame\u001b[0m\n",
       "\u001b[1m Row \u001b[0m│\u001b[1m variable       \u001b[0m\u001b[1m mean     \u001b[0m\u001b[1m min        \u001b[0m\u001b[1m median \u001b[0m\u001b[1m max        \u001b[0m\u001b[1m nmissing \u001b[0m\u001b[1m elt\u001b[0m ⋯\n",
       "\u001b[1m     \u001b[0m│\u001b[90m Symbol         \u001b[0m\u001b[90m Union…   \u001b[0m\u001b[90m Any        \u001b[0m\u001b[90m Union… \u001b[0m\u001b[90m Any        \u001b[0m\u001b[90m Int64    \u001b[0m\u001b[90m Dat\u001b[0m ⋯\n",
       "─────┼──────────────────────────────────────────────────────────────────────────\n",
       "   1 │ id             \u001b[90m          \u001b[0m Patient_01 \u001b[90m        \u001b[0m Patient_99         0  Str ⋯\n",
       "   2 │ Age             54.49     29          56.0    77                 0  Int\n",
       "   3 │ Gender          0.316667  0           0.0     1                  0  Int\n",
       "   4 │ Type            2.53      1           2.0     4                  0  Int\n",
       "   5 │ Blood_pressure  131.687   94          130.0   200                0  Int ⋯\n",
       "   6 │ Cholesterol     247.07    126         242.5   564                0  Int\n",
       "   7 │ Heartbeat       149.563   71          152.5   202                0  Int\n",
       "   8 │ Thalassemia     4.74      3           3.0     7                  0  Int\n",
       "   9 │ Result          0.46      0           0.0     1                  0  Int ⋯\n",
       "\u001b[36m                                                                1 column omitted\u001b[0m"
      ]
     },
     "execution_count": 18,
     "metadata": {},
     "output_type": "execute_result"
    }
   ],
   "source": [
    "#convert any=>int or column gender\n",
    "df.Gender=convert.(Int64,df.Gender)\n",
    "#conver any=>int or column type\n",
    "df.Type=convert.(Int64,df.Type)\n",
    "describe(df)"
   ]
  },
  {
   "cell_type": "code",
   "execution_count": 19,
   "id": "04751572",
   "metadata": {},
   "outputs": [
    {
     "data": {
      "text/plain": [
       "9-element Vector{String}:\n",
       " \"id\"\n",
       " \"Age\"\n",
       " \"Gender\"\n",
       " \"Type\"\n",
       " \"Blood_pressure\"\n",
       " \"Cholesterol\"\n",
       " \"Heartbeat\"\n",
       " \"Thalassemia\"\n",
       " \"Result\""
      ]
     },
     "execution_count": 19,
     "metadata": {},
     "output_type": "execute_result"
    }
   ],
   "source": [
    "names(df)"
   ]
  },
  {
   "cell_type": "code",
   "execution_count": null,
   "id": "1516b164",
   "metadata": {},
   "outputs": [],
   "source": []
  },
  {
   "cell_type": "code",
   "execution_count": 20,
   "id": "9b351495",
   "metadata": {},
   "outputs": [
    {
     "name": "stdout",
     "output_type": "stream",
     "text": [
      "\u001b[1m300×9 DataFrame\u001b[0m\n",
      "\u001b[1m Row \u001b[0m│\u001b[1m id          \u001b[0m\u001b[1m Age   \u001b[0m\u001b[1m Gender \u001b[0m\u001b[1m Type  \u001b[0m\u001b[1m Blood_pressure \u001b[0m\u001b[1m Cholesterol \u001b[0m\u001b[1m Heartbeat \u001b[0m\u001b[1m Thalassemia \u001b[0m\u001b[1m Result \u001b[0m\n",
      "\u001b[1m     \u001b[0m│\u001b[90m String15    \u001b[0m\u001b[90m Int64 \u001b[0m\u001b[90m Int64  \u001b[0m\u001b[90m Int64 \u001b[0m\u001b[90m Int64          \u001b[0m\u001b[90m Int64       \u001b[0m\u001b[90m Int64     \u001b[0m\u001b[90m Int64       \u001b[0m\u001b[90m Int64  \u001b[0m\n",
      "─────┼────────────────────────────────────────────────────────────────────────────────────────────────\n",
      "   1 │ Patient_01      63       0      1             145          233        150            6       0\n",
      "   2 │ Patient_02      67       0      2             160          286        108            3       1\n",
      "   3 │ Patient_03      67       0      2             120          229        129            7       1\n",
      "   4 │ Patient_04      37       0      3             130          250        187            3       0\n",
      "   5 │ Patient_05      41       1      4             130          204        172            3       0\n",
      "   6 │ Patient_16      56       0      4             120          236        178            3       0\n",
      "   7 │ Patient_07      62       1      2             140          268        160            3       1\n",
      "   8 │ Patient_08      57       1      2             120          354        163            3       0\n",
      "   9 │ Patient_19      63       0      2             130          254        147            7       1\n",
      "  10 │ Patient_10      53       0      2             140          203        155            7       1\n",
      "  11 │ Patient_110     57       0      2             140          192        148            6       0\n",
      "  12 │ Patient_120     56       1      4             140          294        153            3       0\n",
      "  13 │ Patient_130     56       0      3             130          256        142            6       1\n",
      "  14 │ Patient_140     44       0      4             120          263        173            7       0\n",
      "  15 │ Patient_150     52       0      3             172          199        162            7       0\n",
      "  16 │ Patient_160     57       0      3             150          168        174            3       0\n",
      "  17 │ Patient_170     48       0      4             110          229        168            7       1\n",
      "  18 │ Patient_180     54       0      2             140          239        160            3       0\n",
      "  19 │ Patient_190     48       1      3             130          275        139            3       0\n",
      "  20 │ Patient_200     49       0      4             130          266        171            3       0\n",
      "  21 │ Patient_21      64       0      1             110          211        144            3       0\n",
      "  22 │ Patient_22      58       1      1             150          283        162            3       0\n",
      "  23 │ Patient_23      58       0      4             120          284        160            3       1\n",
      "  24 │ Patient_24      58       0      3             132          224        173            7       1\n",
      "  25 │ Patient_25      60       0      2             130          206        132            7       1\n",
      "  26 │ Patient_26      50       1      3             120          219        158            3       0\n",
      "  27 │ Patient_27      58       1      3             120          340        172            3       0\n",
      "  28 │ Patient_28      66       1      1             150          226        114            3       0\n",
      "  29 │ Patient_29      43       0      2             150          247        171            3       0\n",
      "  30 │ Patient_30      40       0      2             110          167        114            7       1\n",
      "  31 │ Patient_31      69       1      1             140          239        151            3       0\n",
      "  32 │ Patient_32      60       0      2             117          230        160            7       1\n",
      "  33 │ Patient_33      64       0      3             140          335        158            3       1\n",
      "  34 │ Patient_34      59       0      2             135          234        161            7       0\n",
      "  35 │ Patient_35      44       0      3             130          233        179            3       0\n",
      "  36 │ Patient_36      42       0      2             140          226        178            3       0\n",
      "  37 │ Patient_37      43       0      2             120          177        120            7       1\n",
      "  38 │ Patient_38      57       0      2             150          276        112            6       1\n",
      "  39 │ Patient_39      55       0      2             132          353        132            7       1\n",
      "  40 │ Patient_40      61       0      3             150          243        137            3       0\n",
      "  41 │ Patient_41      65       1      2             150          225        114            7       1\n",
      "  42 │ Patient_42      40       0      1             140          199        178            7       0\n",
      "  43 │ Patient_43      71       1      4             160          302        162            3       0\n",
      "  44 │ Patient_44      59       0      3             150          212        157            3       0\n",
      "  45 │ Patient_45      61       1      2             130          330        169            3       1\n",
      "  46 │ Patient_46      58       0      3             112          230        165            7       1\n",
      "  47 │ Patient_47      51       0      3             110          175        123            3       0\n",
      "  48 │ Patient_48      50       0      2             150          243        128            7       1\n",
      "  49 │ Patient_49      65       1      3             140          417        157            3       0\n",
      "  50 │ Patient_50      53       0      3             130          197        152            3       0\n",
      "  51 │ Patient_51      41       1      4             105          198        168            3       0\n",
      "  52 │ Patient_52      65       0      2             120          177        140            7       0\n",
      "  53 │ Patient_53      44       0      2             112          290        153            3       1\n",
      "  54 │ Patient_54      44       0      4             130          219        188            3       0\n",
      "  55 │ Patient_55      60       0      2             130          253        144            7       1\n",
      "  56 │ Patient_56      54       0      2             124          266        109            7       1\n",
      "  57 │ Patient_57      50       0      3             140          233        163            7       1\n",
      "  58 │ Patient_58      41       0      2             110          172        158            7       1\n",
      "  59 │ Patient_59      54       0      3             125          273        152            3       0\n",
      "  60 │ Patient_60      51       0      1             125          213        125            3       0\n",
      "  61 │ Patient_61      51       1      2             130          305        142            7       1\n",
      "  62 │ Patient_62      46       1      3             142          177        160            3       0\n",
      "  63 │ Patient_63      58       0      2             128          216        131            7       1\n",
      "  64 │ Patient_64      54       1      3             135          304        170            3       0\n",
      "  65 │ Patient_65      54       0      2             120          188        113            7       1\n",
      "  66 │ Patient_66      60       0      2             145          282        142            7       1\n",
      "  67 │ Patient_67      60       0      3             140          185        155            3       1\n",
      "  68 │ Patient_68      54       0      3             150          232        165            7       0\n",
      "  69 │ Patient_69      59       0      2             170          326        140            7       1\n",
      "  70 │ Patient_70      46       0      3             150          231        147            3       1\n",
      "  71 │ Patient_71      65       1      3             155          269        148            3       0\n",
      "  72 │ Patient_72      67       0      2             125          254        163            7       1\n",
      "  73 │ Patient_73      62       0      2             120          267         99            7       1\n",
      "  74 │ Patient_74      65       0      2             110          248        158            6       1\n",
      "  75 │ Patient_75      44       0      2             110          197        177            3       1\n",
      "  76 │ Patient_76      65       1      3             160          360        151            3       0\n",
      "  77 │ Patient_77      60       0      2             125          258        141            7       1\n",
      "  78 │ Patient_78      51       1      3             140          308        142            3       0\n",
      "  79 │ Patient_79      48       0      4             130          245        180            3       0\n",
      "  80 │ Patient_80      58       0      2             150          270        111            7       1\n",
      "  81 │ Patient_81      45       0      2             104          208        148            3       0\n",
      "  82 │ Patient_82      53       1      2             130          264        143            3       0\n",
      "  83 │ Patient_83      39       0      3             140          321        182            3       0\n",
      "  84 │ Patient_84      68       0      3             180          274        150            7       1\n",
      "  85 │ Patient_85      52       0      4             120          325        172            3       0\n",
      "  86 │ Patient_86      44       0      3             140          235        180            3       0\n",
      "  87 │ Patient_87      47       0      3             138          257        156            3       0\n",
      "  88 │ Patient_88      53       1      2             138          234        160            3       0\n",
      "  89 │ Patient_89      51       1      3             130          256        149            3       0\n",
      "  90 │ Patient_90      66       0      2             120          302        151            3       0\n",
      "  91 │ Patient_91      62       1      2             160          164        145            7       1\n",
      "  92 │ Patient_92      62       0      3             130          231        146            7       0\n",
      "  93 │ Patient_93      44       1      3             108          141        175            3       0\n",
      "  94 │ Patient_94      63       1      3             135          252        172            3       0\n",
      "  95 │ Patient_95      52       0      2             128          255        161            7       1\n",
      "  96 │ Patient_96      59       0      2             110          239        142            7       1\n",
      "  97 │ Patient_97      60       1      2             150          258        157            7       1\n",
      "  98 │ Patient_98      52       0      4             134          201        158            3       0\n",
      "  99 │ Patient_99      48       0      2             122          222        186            3       0\n",
      " 100 │ Patient_100     45       0      2             115          260        185            3       0\n",
      " 101 │ Patient_101     34       0      1             118          182        174            3       0\n",
      " 102 │ Patient_102     57       1      2             128          303        159            3       0\n",
      " 103 │ Patient_103     71       1      3             110          265        130            3       0\n",
      " 104 │ Patient_104     49       0      3             120          188        139            7       1\n",
      " 105 │ Patient_105     54       0      4             108          309        156            7       0\n",
      " 106 │ Patient_106     59       0      2             140          177        162            7       1\n",
      " 107 │ Patient_107     57       0      3             128          229        150            7       1\n",
      " 108 │ Patient_108     61       0      2             120          260        140            7       1\n",
      " 109 │ Patient_109     39       0      2             118          219        140            7       1\n",
      " 110 │ Patient_110     61       1      2             145          307        146            7       1\n",
      " 111 │ Patient_111     56       0      2             125          249        144            3       1\n",
      " 112 │ Patient_112     52       0      1             118          186        190            6       0\n",
      " 113 │ Patient_113     43       1      2             132          341        136            7       1\n",
      " 114 │ Patient_114     62       1      3             130          263         97            7       1\n",
      " 115 │ Patient_115     41       0      4             135          203        132            6       0\n",
      " 116 │ Patient_116     58       0      3             140          211        165            3       0\n",
      " 117 │ Patient_117     35       1      2             138          183        182            3       0\n",
      " 118 │ Patient_118     63       0      2             130          330        132            7       1\n",
      " 119 │ Patient_119     65       0      2             135          254        127            7       1\n",
      " 120 │ Patient_120     48       0      2             130          256        150            7       1\n",
      " 121 │ Patient_121     63       1      2             150          407        154            7       1\n",
      " 122 │ Patient_122     51       0      3             100          222        143            3       0\n",
      " 123 │ Patient_123     55       0      2             140          217        111            7       1\n",
      " 124 │ Patient_124     65       0      1             138          282        174            3       1\n",
      " 125 │ Patient_125     45       1      4             130          234        175            3       0\n",
      " 126 │ Patient_126     56       1      2             200          288        133            7       1\n",
      " 127 │ Patient_127     54       0      2             110          239        126            7       1\n",
      " 128 │ Patient_128     44       0      4             120          220        170            3       0\n",
      " 129 │ Patient_129     62       1      2             124          209        163            3       0\n",
      " 130 │ Patient_130     54       0      3             120          258        147            7       0\n",
      " 131 │ Patient_131     51       0      3              94          227        154            7       0\n",
      " 132 │ Patient_132     29       0      4             130          204        202            3       0\n",
      " 133 │ Patient_133     51       0      2             140          261        186            3       0\n",
      " 134 │ Patient_134     43       1      3             122          213        165            3       0\n",
      " 135 │ Patient_135     55       1      4             135          250        161            3       0\n",
      " 136 │ Patient_136     70       0      2             145          174        125            7       1\n",
      " 137 │ Patient_137     62       0      4             120          281        103            7       1\n",
      " 138 │ Patient_138     35       0      2             120          198        130            7       1\n",
      " 139 │ Patient_139     51       0      3             125          245        166            3       0\n",
      " 140 │ Patient_140     59       0      4             140          221        164            3       0\n",
      " 141 │ Patient_141     59       0      1             170          288        159            7       1\n",
      " 142 │ Patient_142     52       0      4             128          205        184            3       0\n",
      " 143 │ Patient_143     64       0      3             125          309        131            7       1\n",
      " 144 │ Patient_144     58       0      3             105          240        154            7       0\n",
      " 145 │ Patient_145     47       0      3             108          243        152            3       1\n",
      " 146 │ Patient_146     57       0      2             165          289        124            7       1\n",
      " 147 │ Patient_147     41       0      3             112          250        179            3       0\n",
      " 148 │ Patient_148     45       0      4             128          308        170            3       0\n",
      " 149 │ Patient_149     60       1      3             102          318        160            3       0\n",
      " 150 │ Patient_150     52       0      1             152          298        178            7       0\n",
      " 151 │ Patient_151     42       1      2             102          265        122            3       0\n",
      " 152 │ Patient_152     67       1      3             115          564        160            7       0\n",
      " 153 │ Patient_153     55       0      2             160          289        145            7       1\n",
      " 154 │ Patient_154     64       0      2             120          246         96            3       1\n",
      " 155 │ Patient_155     70       0      2             130          322        109            3       1\n",
      " 156 │ Patient_156     51       0      2             140          299        173            7       1\n",
      " 157 │ Patient_157     58       0      2             125          300        171            7       1\n",
      " 158 │ Patient_158     60       0      2             140          293        170            7       1\n",
      " 159 │ Patient_159     68       0      3             118          277        151            7       0\n",
      " 160 │ Patient_06      46       0      4             101          197        156            7       0\n",
      " 161 │ Patient_161     77       0      2             125          304        162            3       1\n",
      " 162 │ Patient_162     54       1      3             110          214        158            3       0\n",
      " 163 │ Patient_163     58       1      2             100          248        122            3       0\n",
      " 164 │ Patient_164     48       0      3             124          255        175            3       0\n",
      " 165 │ Patient_165     57       0      2             132          207        168            7       0\n",
      " 166 │ Patient_166     52       0      3             138          223        169            3       0\n",
      " 167 │ Patient_167     54       1      4             132          288        159            3       0\n",
      " 168 │ Patient_168     35       0      2             126          282        156            7       1\n",
      " 169 │ Patient_169     45       1      4             112          160        138            3       0\n",
      " 170 │ Patient_170     70       0      3             160          269        112            7       1\n",
      " 171 │ Patient_171     53       0      2             142          226        111            7       0\n",
      " 172 │ Patient_172     59       1      2             174          249        143            3       1\n",
      " 173 │ Patient_173     62       1      2             140          394        157            3       0\n",
      " 174 │ Patient_174     64       0      2             145          212        132            6       1\n",
      " 175 │ Patient_175     57       0      2             152          274         88            7       1\n",
      " 176 │ Patient_176     52       0      2             108          233        147            7       0\n",
      " 177 │ Patient_177     56       0      2             132          184        105            6       1\n",
      " 178 │ Patient_178     43       0      3             130          315        162            3       0\n",
      " 179 │ Patient_179     53       0      3             130          246        173            3       0\n",
      " 180 │ Patient_180     48       0      2             124          274        166            7       1\n",
      " 181 │ Patient_181     56       1      2             134          409        150            7       1\n",
      " 182 │ Patient_182     42       0      1             148          244        178            3       0\n",
      " 183 │ Patient_183     59       0      1             178          270        145            7       0\n",
      " 184 │ Patient_184     60       1      2             158          305        161            3       1\n",
      " 185 │ Patient_185     63       1      4             140          195        179            3       0\n",
      " 186 │ Patient_186     42       0      3             120          240        194            7       0\n",
      " 187 │ Patient_187     66       0      4             160          246        120            6       1\n",
      " 188 │ Patient_188     54       0      4             192          283        195            7       1\n",
      " 189 │ Patient_189     69       0      3             140          254        146            7       1\n",
      " 190 │ Patient_09      50       0      3             129          196        163            3       0\n",
      " 191 │ Patient_191     51       0      2             140          298        122            7       1\n",
      " 192 │ Patient_192     43       0      2             132          247        143            7       1\n",
      " 193 │ Patient_193     62       1      2             138          294        106            3       1\n",
      " 194 │ Patient_194     68       1      3             120          211        115            3       0\n",
      " 195 │ Patient_195     67       0      2             100          299        125            3       1\n",
      " 196 │ Patient_196     69       0      1             160          234        131            3       0\n",
      " 197 │ Patient_197     45       1      2             138          236        152            3       0\n",
      " 198 │ Patient_198     50       1      4             120          244        162            3       0\n",
      " 199 │ Patient_199     59       0      1             160          273        125            3       1\n",
      " 200 │ Patient_200     50       1      2             110          254        159            3       0\n",
      " 201 │ Patient_201     64       1      2             180          325        154            3       0\n",
      " 202 │ Patient_202     57       0      3             150          126        173            7       0\n",
      " 203 │ Patient_203     64       1      3             140          313        133            7       0\n",
      " 204 │ Patient_204     43       0      2             110          211        161            7       0\n",
      " 205 │ Patient_205     45       0      2             142          309        147            7       1\n",
      " 206 │ Patient_206     58       0      2             128          259        130            7       1\n",
      " 207 │ Patient_207     50       0      2             144          200        126            7       1\n",
      " 208 │ Patient_208     55       0      4             130          262        155            3       0\n",
      " 209 │ Patient_209     62       1      2             150          244        154            3       1\n",
      " 210 │ Patient_210     37       1      3             120          215        170            3       0\n",
      " 211 │ Patient_211     38       0      1             120          231        182            7       1\n",
      " 212 │ Patient_212     41       0      3             130          214        168            3       0\n",
      " 213 │ Patient_213     66       1      2             178          228        165            7       1\n",
      " 214 │ Patient_214     52       0      2             112          230        160            3       1\n",
      " 215 │ Patient_215     56       0      1             120          193        162            7       0\n",
      " 216 │ Patient_216     46       1      4             105          204        172            3       0\n",
      " 217 │ Patient_217     46       1      2             138          243        152            3       0\n",
      " 218 │ Patient_218     64       1      2             130          303        122            3       0\n",
      " 219 │ Patient_219     59       0      2             138          271        182            3       0\n",
      " 220 │ Patient_220     41       1      3             112          268        172            3       0\n",
      " 221 │ Patient_221     54       1      3             108          267        167            3       0\n",
      " 222 │ Patient_222     39       1      3              94          199        179            3       0\n",
      " 223 │ Patient_223     53       0      2             123          282         95            7       1\n",
      " 224 │ Patient_224     63       1      2             108          269        169            3       1\n",
      " 225 │ Patient_225     34       1      4             118          210        192            3       0\n",
      " 226 │ Patient_226     47       0      2             112          204        143            3       0\n",
      " 227 │ Patient_227     67       1      3             152          277        172            3       0\n",
      " 228 │ Patient_228     54       0      2             110          206        108            3       1\n",
      " 229 │ Patient_229     66       0      2             112          212        132            3       1\n",
      " 230 │ Patient_230     52       1      3             136          196        169            3       0\n",
      " 231 │ Patient_231     55       1      2             180          327        117            3       1\n",
      " 232 │ Patient_232     49       0      3             118          149        126            3       1\n",
      " 233 │ Patient_233     74       1      4             120          269        121            3       0\n",
      " 234 │ Patient_234     54       1      3             160          201        163            3       0\n",
      " 235 │ Patient_235     54       0      2             122          286        116            3       1\n",
      " 236 │ Patient_236     56       0      2             130          283        103            7       1\n",
      " 237 │ Patient_237     46       0      2             120          249        144            7       1\n",
      " 238 │ Patient_238     49       1      4             134          271        162            3       0\n",
      " 239 │ Patient_239     42       0      4             120          295        162            3       0\n",
      " 240 │ Patient_240     41       0      4             110          235        153            3       0\n",
      " 241 │ Patient_241     41       1      4             126          306        163            3       0\n",
      " 242 │ Patient_242     49       1      2             130          269        163            3       0\n",
      " 243 │ Patient_243     61       0      1             134          234        145            3       1\n",
      " 244 │ Patient_244     60       1      3             120          178         96            3       0\n",
      " 245 │ Patient_245     67       0      2             120          237         71            3       1\n",
      " 246 │ Patient_246     58       0      2             100          234        156            7       1\n",
      " 247 │ Patient_247     47       0      2             110          275        118            3       1\n",
      " 248 │ Patient_248     52       0      2             125          212        168            7       1\n",
      " 249 │ Patient_249     62       0      4             128          208        140            3       0\n",
      " 250 │ Patient_250     57       0      2             110          201        126            6       0\n",
      " 251 │ Patient_251     58       0      2             146          218        105            7       1\n",
      " 252 │ Patient_252     64       0      2             128          263        105            7       0\n",
      " 253 │ Patient_253     51       1      3             120          295        157            3       0\n",
      " 254 │ Patient_254     43       0      2             115          303        181            3       0\n",
      " 255 │ Patient_255     42       1      3             120          209        173            3       0\n",
      " 256 │ Patient_256     67       1      2             106          223        142            3       0\n",
      " 257 │ Patient_257     76       1      3             140          197        116            3       0\n",
      " 258 │ Patient_258     70       0      4             156          245        143            3       0\n",
      " 259 │ Patient_259     57       0      4             124          261        141            7       1\n",
      " 260 │ Patient_260     44       1      3             118          242        149            3       0\n",
      " 261 │ Patient_261     58       1      4             136          319        152            3       1\n",
      " 262 │ Patient_262     60       1      1             150          240        171            3       0\n",
      " 263 │ Patient_263     44       0      3             120          226        169            3       0\n",
      " 264 │ Patient_264     61       0      2             138          166        125            3       1\n",
      " 265 │ Patient_265     42       0      2             136          315        125            6       1\n",
      " 266 │ Patient_266     52       0      2             128          204        156            3       1\n",
      " 267 │ Patient_267     59       0      3             126          218        134            6       1\n",
      " 268 │ Patient_268     40       0      2             152          223        181            7       1\n",
      " 269 │ Patient_269     42       0      3             130          180        150            3       0\n",
      " 270 │ Patient_270     61       0      2             140          207        138            7       1\n",
      " 271 │ Patient_271     66       0      2             160          228        138            6       0\n",
      " 272 │ Patient_272     46       0      2             140          311        120            7       1\n",
      " 273 │ Patient_273     71       1      2             112          149        125            3       0\n",
      " 274 │ Patient_274     59       0      1             134          204        162            3       1\n",
      " 275 │ Patient_275     64       0      1             170          227        155            7       0\n",
      " 276 │ Patient_276     66       1      3             146          278        152            3       0\n",
      " 277 │ Patient_277     39       1      3             138          220        152            3       0\n",
      " 278 │ Patient_278     57       0      4             154          232        164            3       1\n",
      " 279 │ Patient_279     58       1      2             130          197        131            3       0\n",
      " 280 │ Patient_280     57       0      2             110          335        143            7       1\n",
      " 281 │ Patient_281     47       0      3             130          253        179            3       0\n",
      " 282 │ Patient_282     55       1      2             128          205        130            7       1\n",
      " 283 │ Patient_283     35       0      4             122          192        174            3       0\n",
      " 284 │ Patient_284     61       0      2             148          203        161            7       1\n",
      " 285 │ Patient_285     58       0      2             114          318        140            6       1\n",
      " 286 │ Patient_286     58       1      2             170          225        146            6       1\n",
      " 287 │ Patient_287     58       0      4             125          220        144            7       0\n",
      " 288 │ Patient_288     56       0      4             130          221        163            7       0\n",
      " 289 │ Patient_289     56       0      4             120          240        169            3       0\n",
      " 290 │ Patient_290     67       0      3             152          212        150            7       1\n",
      " 291 │ Patient_291     55       1      4             132          342        166            3       0\n",
      " 292 │ Patient_292     44       0      2             120          169        144            6       1\n",
      " 293 │ Patient_293     63       0      2             140          187        144            7       1\n",
      " 294 │ Patient_294     63       1      2             124          197        136            3       1\n",
      " 295 │ Patient_295     41       0      4             120          157        182            3       0\n",
      " 296 │ Patient_296     59       0      2             164          176         90            6       1\n",
      " 297 │ Patient_297     57       1      2             140          241        123            7       1\n",
      " 298 │ Patient_298     45       0      1             110          264        132            7       1\n",
      " 299 │ Patient_299     68       0      2             144          193        141            7       1\n",
      " 300 │ Patient_300     57       0      2             130          131        115            7       1"
     ]
    }
   ],
   "source": [
    "print(df)"
   ]
  },
  {
   "cell_type": "code",
   "execution_count": 21,
   "id": "bb4d16cb",
   "metadata": {},
   "outputs": [
    {
     "data": {
      "text/plain": [
       "300×8 Matrix{Int64}:\n",
       " 63  0  1  145  233  150  6  0\n",
       " 67  0  2  160  286  108  3  1\n",
       " 67  0  2  120  229  129  7  1\n",
       " 37  0  3  130  250  187  3  0\n",
       " 41  1  4  130  204  172  3  0\n",
       " 56  0  4  120  236  178  3  0\n",
       " 62  1  2  140  268  160  3  1\n",
       " 57  1  2  120  354  163  3  0\n",
       " 63  0  2  130  254  147  7  1\n",
       " 53  0  2  140  203  155  7  1\n",
       " 57  0  2  140  192  148  6  0\n",
       " 56  1  4  140  294  153  3  0\n",
       " 56  0  3  130  256  142  6  1\n",
       "  ⋮                    ⋮     \n",
       " 56  0  4  120  240  169  3  0\n",
       " 67  0  3  152  212  150  7  1\n",
       " 55  1  4  132  342  166  3  0\n",
       " 44  0  2  120  169  144  6  1\n",
       " 63  0  2  140  187  144  7  1\n",
       " 63  1  2  124  197  136  3  1\n",
       " 41  0  4  120  157  182  3  0\n",
       " 59  0  2  164  176   90  6  1\n",
       " 57  1  2  140  241  123  7  1\n",
       " 45  0  1  110  264  132  7  1\n",
       " 68  0  2  144  193  141  7  1\n",
       " 57  0  2  130  131  115  7  1"
      ]
     },
     "execution_count": 21,
     "metadata": {},
     "output_type": "execute_result"
    }
   ],
   "source": [
    "df_new =Array(df[:,2:9])"
   ]
  },
  {
   "cell_type": "code",
   "execution_count": 33,
   "id": "2ea4e2d3",
   "metadata": {},
   "outputs": [
    {
     "data": {
      "text/plain": [
       "([46 0 … 7 1; 55 1 … 3 0; … ; 67 0 … 7 1; 58 0 … 3 1], [44 0 … 3 0; 55 0 … 3 0; … ; 64 1 … 3 0; 49 0 … 7 1])"
      ]
     },
     "execution_count": 33,
     "metadata": {},
     "output_type": "execute_result"
    }
   ],
   "source": [
    "train,test = partition(df_new, 0.8, shuffle=true)"
   ]
  },
  {
   "cell_type": "code",
   "execution_count": 34,
   "id": "03744c0c",
   "metadata": {},
   "outputs": [
    {
     "data": {
      "text/plain": [
       "240×7 Matrix{Float64}:\n",
       " 46.0  0.0  2.0  140.0  311.0  120.0  7.0\n",
       " 55.0  1.0  4.0  135.0  250.0  161.0  3.0\n",
       " 58.0  0.0  2.0  150.0  270.0  111.0  7.0\n",
       " 64.0  0.0  3.0  125.0  309.0  131.0  7.0\n",
       " 51.0  0.0  2.0  140.0  299.0  173.0  7.0\n",
       " 66.0  1.0  3.0  146.0  278.0  152.0  3.0\n",
       " 40.0  0.0  2.0  152.0  223.0  181.0  7.0\n",
       " 59.0  0.0  2.0  140.0  177.0  162.0  7.0\n",
       " 55.0  0.0  2.0  160.0  289.0  145.0  7.0\n",
       " 58.0  0.0  3.0  140.0  211.0  165.0  3.0\n",
       " 62.0  1.0  2.0  150.0  244.0  154.0  3.0\n",
       " 54.0  1.0  3.0  108.0  267.0  167.0  3.0\n",
       " 45.0  1.0  4.0  130.0  234.0  175.0  3.0\n",
       "  ⋮                              ⋮    \n",
       " 65.0  1.0  2.0  150.0  225.0  114.0  7.0\n",
       " 45.0  0.0  2.0  142.0  309.0  147.0  7.0\n",
       " 51.0  1.0  2.0  130.0  305.0  142.0  7.0\n",
       " 56.0  0.0  4.0  130.0  221.0  163.0  7.0\n",
       " 52.0  0.0  4.0  120.0  325.0  172.0  3.0\n",
       " 66.0  0.0  4.0  160.0  246.0  120.0  6.0\n",
       " 40.0  0.0  1.0  140.0  199.0  178.0  7.0\n",
       " 56.0  0.0  4.0  120.0  236.0  178.0  3.0\n",
       " 50.0  1.0  4.0  120.0  244.0  162.0  3.0\n",
       " 74.0  1.0  4.0  120.0  269.0  121.0  3.0\n",
       " 67.0  0.0  3.0  152.0  212.0  150.0  7.0\n",
       " 58.0  0.0  4.0  120.0  284.0  160.0  3.0"
      ]
     },
     "execution_count": 34,
     "metadata": {},
     "output_type": "execute_result"
    }
   ],
   "source": [
    "X_train=train[:,1:7]\n",
    "X_train=float.(X_train)"
   ]
  },
  {
   "cell_type": "code",
   "execution_count": 35,
   "id": "748fc099",
   "metadata": {},
   "outputs": [
    {
     "data": {
      "text/plain": [
       "240-element Vector{Int64}:\n",
       " 1\n",
       " 0\n",
       " 1\n",
       " 1\n",
       " 1\n",
       " 0\n",
       " 1\n",
       " 1\n",
       " 1\n",
       " 0\n",
       " 1\n",
       " 0\n",
       " 0\n",
       " ⋮\n",
       " 1\n",
       " 1\n",
       " 1\n",
       " 0\n",
       " 0\n",
       " 1\n",
       " 0\n",
       " 0\n",
       " 0\n",
       " 0\n",
       " 1\n",
       " 1"
      ]
     },
     "execution_count": 35,
     "metadata": {},
     "output_type": "execute_result"
    }
   ],
   "source": [
    "Y_train=train[:,:8]"
   ]
  },
  {
   "cell_type": "code",
   "execution_count": 36,
   "id": "004aa9de",
   "metadata": {},
   "outputs": [
    {
     "data": {
      "text/plain": [
       "60×7 Matrix{Float64}:\n",
       " 44.0  0.0  3.0  140.0  235.0  180.0  3.0\n",
       " 55.0  0.0  4.0  130.0  262.0  155.0  3.0\n",
       " 50.0  0.0  3.0  129.0  196.0  163.0  3.0\n",
       " 57.0  0.0  3.0  150.0  126.0  173.0  7.0\n",
       " 67.0  0.0  2.0  120.0  229.0  129.0  7.0\n",
       " 48.0  0.0  2.0  130.0  256.0  150.0  7.0\n",
       " 46.0  0.0  4.0  101.0  197.0  156.0  7.0\n",
       " 54.0  1.0  3.0  135.0  304.0  170.0  3.0\n",
       " 54.0  0.0  2.0  122.0  286.0  116.0  3.0\n",
       " 59.0  0.0  1.0  134.0  204.0  162.0  3.0\n",
       " 50.0  0.0  3.0  140.0  233.0  163.0  7.0\n",
       " 53.0  0.0  3.0  130.0  246.0  173.0  3.0\n",
       " 63.0  0.0  2.0  140.0  187.0  144.0  7.0\n",
       "  ⋮                              ⋮    \n",
       " 57.0  0.0  2.0  110.0  201.0  126.0  6.0\n",
       " 41.0  0.0  4.0  120.0  157.0  182.0  3.0\n",
       " 62.0  1.0  3.0  130.0  263.0   97.0  7.0\n",
       " 60.0  0.0  3.0  140.0  185.0  155.0  3.0\n",
       " 52.0  1.0  3.0  136.0  196.0  169.0  3.0\n",
       " 65.0  0.0  2.0  135.0  254.0  127.0  7.0\n",
       " 49.0  1.0  2.0  130.0  269.0  163.0  3.0\n",
       " 65.0  0.0  2.0  120.0  177.0  140.0  7.0\n",
       " 50.0  1.0  3.0  120.0  219.0  158.0  3.0\n",
       " 52.0  0.0  1.0  152.0  298.0  178.0  7.0\n",
       " 64.0  1.0  2.0  180.0  325.0  154.0  3.0\n",
       " 49.0  0.0  3.0  120.0  188.0  139.0  7.0"
      ]
     },
     "execution_count": 36,
     "metadata": {},
     "output_type": "execute_result"
    }
   ],
   "source": [
    "X_test=test[:,1:7]\n",
    "x=float.(X_test)"
   ]
  },
  {
   "cell_type": "code",
   "execution_count": 37,
   "id": "7111b568",
   "metadata": {},
   "outputs": [
    {
     "data": {
      "text/plain": [
       "1×60 Matrix{Int64}:\n",
       " 0  0  0  0  1  1  0  0  1  1  1  0  1  …  0  0  1  1  0  1  0  0  0  0  0  1"
      ]
     },
     "execution_count": 37,
     "metadata": {},
     "output_type": "execute_result"
    }
   ],
   "source": [
    "Y_test=test[:,8]\n",
    "y=Array(Y_test')"
   ]
  },
  {
   "cell_type": "code",
   "execution_count": 38,
   "id": "5bb2c7b2",
   "metadata": {},
   "outputs": [],
   "source": [
    "#using Pkg\n",
    "#Pkg.add(\"JLD\")\n",
    "#Pkg.add(\"NearestNeighborModels\")\n",
    "#Pkg.add(\"MLJ\")\n",
    "using NearestNeighbors\n",
    "using NearestNeighborModels\n",
    "using MLJ"
   ]
  },
  {
   "cell_type": "code",
   "execution_count": 39,
   "id": "3548e909",
   "metadata": {},
   "outputs": [
    {
     "data": {
      "text/plain": [
       "KNNClassifier(\n",
       "    K = 5,\n",
       "    algorithm = :kdtree,\n",
       "    metric = Euclidean(0.0),\n",
       "    leafsize = 10,\n",
       "    reorder = true,\n",
       "    weights = Uniform())"
      ]
     },
     "execution_count": 39,
     "metadata": {},
     "output_type": "execute_result"
    }
   ],
   "source": [
    "KNNClassifier= @load KNNClassifier verbosity=0\n",
    "KNNClassifier()"
   ]
  },
  {
   "cell_type": "code",
   "execution_count": 40,
   "id": "234fc930",
   "metadata": {},
   "outputs": [
    {
     "name": "stderr",
     "output_type": "stream",
     "text": [
      "┌ Warning: The scitype of `X`, in `machine(model, X, ...)` is incompatible with `model=KNNClassifier`:\n",
      "│ scitype(X) = AbstractMatrix{Continuous}\n",
      "│ input_scitype(model) = Table{var\"#s53\"} where var\"#s53\"<:(AbstractVector{var\"#s52\"} where var\"#s52\"<:Continuous).\n",
      "└ @ MLJBase C:\\Users\\Chinh\\.julia\\packages\\MLJBase\\QXObv\\src\\machines.jl:133\n"
     ]
    },
    {
     "data": {
      "text/plain": [
       "Machine{KNNClassifier,…} trained 1 time; caches data\n",
       "  args: \n",
       "    1:\tSource @388 ⏎ `AbstractMatrix{Continuous}`\n",
       "    2:\tSource @167 ⏎ `AbstractVector{Multiclass{2}}`\n"
      ]
     },
     "execution_count": 40,
     "metadata": {},
     "output_type": "execute_result"
    }
   ],
   "source": [
    "clf = KNNClassifier(K=9, weights=NearestNeighborModels.Inverse())\n",
    "mach = machine(clf,X_train,categorical(Y_train))\n",
    "model=MLJ.fit!(mach,verbosity=0)"
   ]
  },
  {
   "cell_type": "code",
   "execution_count": 44,
   "id": "9f667428",
   "metadata": {},
   "outputs": [
    {
     "data": {
      "text/plain": [
       "1-element MLJBase.UnivariateFiniteVector{Multiclass{2}, Int64, UInt32, Float64}:\n",
       " UnivariateFinite{Multiclass{2}}(0=>0.657, 1=>0.343)"
      ]
     },
     "execution_count": 44,
     "metadata": {},
     "output_type": "execute_result"
    }
   ],
   "source": [
    "#dự đoán bệnh nhân : đầu vào là 1 matrix dữ liệu của 1 bệnh nhân : 0 là không mắc bệnh , 1 là  mắc bệnh\n",
    "#[62 0 4 120 281 103 7]=>bị bệnh tim\n",
    "#[40 1 4 110 190 165 3]=>không bị bệnh tim\n",
    "model=predict(mach,  [40 1 4 110 190 165 3])"
   ]
  },
  {
   "cell_type": "code",
   "execution_count": 45,
   "id": "e30b130d",
   "metadata": {},
   "outputs": [
    {
     "name": "stdout",
     "output_type": "stream",
     "text": [
      "ML says: Thật tuyệt vời, Bạn không bị bệnh đau tim!^.^\n"
     ]
    }
   ],
   "source": [
    "Z = reshape(pdf.(model,0))\n",
    "Z=convert.(Float64,Z)\n",
    "if (Z >=0.5)\n",
    "    println(\"ML says: Thật tuyệt vời, Bạn không bị bệnh đau tim!^.^\")\n",
    "else\n",
    "    println(\"ML says: Thôi xong rồi, Bạn có khả năng bị bệnh đau tim!-_-\")\n",
    "end"
   ]
  },
  {
   "cell_type": "code",
   "execution_count": 43,
   "id": "fba6ee48",
   "metadata": {},
   "outputs": [
    {
     "name": "stderr",
     "output_type": "stream",
     "text": [
      "WARNING: redefinition of constant accuracy_score. This may fail, cause incorrect answers, or produce other errors.\n"
     ]
    },
    {
     "data": {
      "text/plain": [
       "60-element MLJBase.UnivariateFiniteVector{Multiclass{2}, Int64, UInt32, Float64}:\n",
       " UnivariateFinite{Multiclass{2}}(0=>0.914, 1=>0.0863)\n",
       " UnivariateFinite{Multiclass{2}}(0=>0.68, 1=>0.32)\n",
       " UnivariateFinite{Multiclass{2}}(0=>0.773, 1=>0.227)\n",
       " UnivariateFinite{Multiclass{2}}(0=>0.474, 1=>0.526)\n",
       " UnivariateFinite{Multiclass{2}}(0=>0.299, 1=>0.701)\n",
       " UnivariateFinite{Multiclass{2}}(0=>0.528, 1=>0.472)\n",
       " UnivariateFinite{Multiclass{2}}(0=>0.794, 1=>0.206)\n",
       " UnivariateFinite{Multiclass{2}}(0=>0.475, 1=>0.525)\n",
       " UnivariateFinite{Multiclass{2}}(0=>0.187, 1=>0.813)\n",
       " UnivariateFinite{Multiclass{2}}(0=>0.709, 1=>0.291)\n",
       " UnivariateFinite{Multiclass{2}}(0=>0.917, 1=>0.0828)\n",
       " UnivariateFinite{Multiclass{2}}(0=>1.0, 1=>0.0)\n",
       " UnivariateFinite{Multiclass{2}}(0=>0.474, 1=>0.526)\n",
       " ⋮\n",
       " UnivariateFinite{Multiclass{2}}(0=>0.419, 1=>0.581)\n",
       " UnivariateFinite{Multiclass{2}}(0=>0.695, 1=>0.305)\n",
       " UnivariateFinite{Multiclass{2}}(0=>0.218, 1=>0.782)\n",
       " UnivariateFinite{Multiclass{2}}(0=>0.569, 1=>0.431)\n",
       " UnivariateFinite{Multiclass{2}}(0=>0.802, 1=>0.198)\n",
       " UnivariateFinite{Multiclass{2}}(0=>0.0, 1=>1.0)\n",
       " UnivariateFinite{Multiclass{2}}(0=>0.639, 1=>0.361)\n",
       " UnivariateFinite{Multiclass{2}}(0=>0.657, 1=>0.343)\n",
       " UnivariateFinite{Multiclass{2}}(0=>0.686, 1=>0.314)\n",
       " UnivariateFinite{Multiclass{2}}(0=>0.374, 1=>0.626)\n",
       " UnivariateFinite{Multiclass{2}}(0=>0.119, 1=>0.881)\n",
       " UnivariateFinite{Multiclass{2}}(0=>0.563, 1=>0.437)"
      ]
     },
     "execution_count": 43,
     "metadata": {},
     "output_type": "execute_result"
    }
   ],
   "source": [
    "#using ScikitLearn.CrossValidation: cross_val_score\n",
    "using ScikitLearn\n",
    "@sk_import metrics: accuracy_score \n",
    "y_pred=predict(mach,x)\n",
    "#cross_val_score(mach,x,y,cv=1, n_jobs=0, verbose=0)\n",
    "#accuracy_score(y_pred,Y_test)"
   ]
  },
  {
   "cell_type": "code",
   "execution_count": null,
   "id": "808adcdb",
   "metadata": {},
   "outputs": [],
   "source": []
  },
  {
   "cell_type": "code",
   "execution_count": null,
   "id": "78f8c4d1",
   "metadata": {},
   "outputs": [],
   "source": []
  }
 ],
 "metadata": {
  "kernelspec": {
   "display_name": "Julia 1.6.3",
   "language": "julia",
   "name": "julia-1.6"
  },
  "language_info": {
   "file_extension": ".jl",
   "mimetype": "application/julia",
   "name": "julia",
   "version": "1.6.3"
  }
 },
 "nbformat": 4,
 "nbformat_minor": 5
}
